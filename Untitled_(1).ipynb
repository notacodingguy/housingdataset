{
  "nbformat": 4,
  "nbformat_minor": 0,
  "metadata": {
    "colab": {
      "name": "Untitled_(1).ipynb",
      "provenance": [],
      "collapsed_sections": [],
      "include_colab_link": true
    },
    "kernelspec": {
      "name": "python3",
      "display_name": "Python 3"
    }
  },
  "cells": [
    {
      "cell_type": "markdown",
      "metadata": {
        "id": "view-in-github",
        "colab_type": "text"
      },
      "source": [
        "<a href=\"https://colab.research.google.com/github/notacodingguy/housingdataset/blob/master/Untitled_(1).ipynb\" target=\"_parent\"><img src=\"https://colab.research.google.com/assets/colab-badge.svg\" alt=\"Open In Colab\"/></a>"
      ]
    },
    {
      "cell_type": "code",
      "metadata": {
        "id": "7V2Xxm1cfBX_",
        "colab_type": "code",
        "colab": {}
      },
      "source": [
        "import pandas as pd\n",
        "import numpy as np"
      ],
      "execution_count": 3,
      "outputs": []
    },
    {
      "cell_type": "code",
      "metadata": {
        "id": "jDhdwAegfGzT",
        "colab_type": "code",
        "colab": {}
      },
      "source": [
        "train_df = pd.read_csv(\"/content/Train.csv\")"
      ],
      "execution_count": 4,
      "outputs": []
    },
    {
      "cell_type": "code",
      "metadata": {
        "id": "aIo2W5w9DF66",
        "colab_type": "code",
        "colab": {}
      },
      "source": [
        ""
      ],
      "execution_count": 4,
      "outputs": []
    },
    {
      "cell_type": "code",
      "metadata": {
        "id": "G1vyhtZFgEDq",
        "colab_type": "code",
        "colab": {}
      },
      "source": [
        "test_df = pd.read_csv(\"/content/Test.csv\")"
      ],
      "execution_count": 5,
      "outputs": []
    },
    {
      "cell_type": "code",
      "metadata": {
        "id": "j34_bZEogTe7",
        "colab_type": "code",
        "colab": {}
      },
      "source": [
        "output =pd.read_csv(\"/content/Sample Submission.csv\")"
      ],
      "execution_count": 6,
      "outputs": []
    },
    {
      "cell_type": "code",
      "metadata": {
        "id": "QtqOKuED1rDw",
        "colab_type": "code",
        "colab": {}
      },
      "source": [
        "from matplotlib import pyplot"
      ],
      "execution_count": 7,
      "outputs": []
    },
    {
      "cell_type": "code",
      "metadata": {
        "id": "8KbAPPkD9b8A",
        "colab_type": "code",
        "colab": {
          "base_uri": "https://localhost:8080/",
          "height": 334
        },
        "outputId": "8fafe81e-0cba-4311-efce-65279471aa47"
      },
      "source": [
        "train_df.info()"
      ],
      "execution_count": 8,
      "outputs": [
        {
          "output_type": "stream",
          "text": [
            "<class 'pandas.core.frame.DataFrame'>\n",
            "RangeIndex: 31285 entries, 0 to 31284\n",
            "Data columns (total 11 columns):\n",
            " #   Column                             Non-Null Count  Dtype  \n",
            "---  ------                             --------------  -----  \n",
            " 0   SKU Code                           31285 non-null  int64  \n",
            " 1   CFA Code                           31285 non-null  int64  \n",
            " 2   Channel                            31285 non-null  int64  \n",
            " 3   Quantity                           31285 non-null  int64  \n",
            " 4   DATE                               31285 non-null  object \n",
            " 5   Secondary Sales Amount STC         31285 non-null  float64\n",
            " 6   Secondary Sales Amount Invoiced    31285 non-null  float64\n",
            " 7   Secondary Sales Amount Returned    31285 non-null  float64\n",
            " 8   Secondary Sales Quantity Invoiced  31285 non-null  float64\n",
            " 9   Secondary Sales Quantity Returned  31285 non-null  float64\n",
            " 10  SKU Combination                    31285 non-null  int64  \n",
            "dtypes: float64(5), int64(5), object(1)\n",
            "memory usage: 2.6+ MB\n"
          ],
          "name": "stdout"
        }
      ]
    },
    {
      "cell_type": "code",
      "metadata": {
        "id": "itgH3jnf9gpo",
        "colab_type": "code",
        "colab": {
          "base_uri": "https://localhost:8080/",
          "height": 457
        },
        "outputId": "9ef10cdd-512e-4a4c-921e-3312ee2f3939"
      },
      "source": [
        "train_df[\"DATE\"].value_counts()"
      ],
      "execution_count": 9,
      "outputs": [
        {
          "output_type": "execute_result",
          "data": {
            "text/plain": [
              "2019-08-01    1560\n",
              "2019-05-01    1529\n",
              "2019-06-01    1522\n",
              "2019-03-01    1522\n",
              "2019-01-01    1519\n",
              "2019-04-01    1517\n",
              "2019-02-01    1515\n",
              "2019-07-01    1513\n",
              "2019-10-01    1399\n",
              "2019-11-01    1381\n",
              "2019-09-01    1370\n",
              "2019-12-01    1327\n",
              "2018-11-01    1180\n",
              "2018-10-01    1176\n",
              "2018-09-01    1172\n",
              "2018-12-01    1167\n",
              "2018-08-01    1155\n",
              "2018-07-01    1155\n",
              "2018-01-01    1123\n",
              "2018-03-01    1117\n",
              "2018-02-01    1110\n",
              "2018-04-01    1094\n",
              "2018-05-01    1084\n",
              "2018-06-01    1078\n",
              "Name: DATE, dtype: int64"
            ]
          },
          "metadata": {
            "tags": []
          },
          "execution_count": 9
        }
      ]
    },
    {
      "cell_type": "code",
      "metadata": {
        "id": "v97urAw6GmG8",
        "colab_type": "code",
        "colab": {
          "base_uri": "https://localhost:8080/",
          "height": 70
        },
        "outputId": "4afd042d-9717-4aff-e83a-9627fd30c75d"
      },
      "source": [
        "test_df[\"DATE\"].value_counts()"
      ],
      "execution_count": 10,
      "outputs": [
        {
          "output_type": "execute_result",
          "data": {
            "text/plain": [
              "2020-01-01    1313\n",
              "2020-02-01    1296\n",
              "Name: DATE, dtype: int64"
            ]
          },
          "metadata": {
            "tags": []
          },
          "execution_count": 10
        }
      ]
    },
    {
      "cell_type": "code",
      "metadata": {
        "id": "lTNjpu-GGxl5",
        "colab_type": "code",
        "colab": {}
      },
      "source": [
        "from sklearn.preprocessing import OrdinalEncoder\n",
        "ord_enc = OrdinalEncoder()\n",
        "a1 = train_df[[\"DATE\"]]\n",
        "b1 = ord_enc.fit_transform(a1)"
      ],
      "execution_count": 11,
      "outputs": []
    },
    {
      "cell_type": "code",
      "metadata": {
        "id": "l8OL3sfMHjAf",
        "colab_type": "code",
        "colab": {}
      },
      "source": [
        "train_df[\"DATE\"] = b1"
      ],
      "execution_count": 12,
      "outputs": []
    },
    {
      "cell_type": "code",
      "metadata": {
        "id": "6T6Ji9VDR9jt",
        "colab_type": "code",
        "colab": {
          "base_uri": "https://localhost:8080/",
          "height": 140
        },
        "outputId": "02857a69-0cb4-4bf6-e32b-edf1f19f1349"
      },
      "source": [
        "b1"
      ],
      "execution_count": 13,
      "outputs": [
        {
          "output_type": "execute_result",
          "data": {
            "text/plain": [
              "array([[12.],\n",
              "       [13.],\n",
              "       [14.],\n",
              "       ...,\n",
              "       [21.],\n",
              "       [22.],\n",
              "       [23.]])"
            ]
          },
          "metadata": {
            "tags": []
          },
          "execution_count": 13
        }
      ]
    },
    {
      "cell_type": "code",
      "metadata": {
        "id": "ygjMoVB8HsDq",
        "colab_type": "code",
        "colab": {
          "base_uri": "https://localhost:8080/",
          "height": 229
        },
        "outputId": "746e388a-b4cd-4229-db9d-45ed7852765b"
      },
      "source": [
        "train_df.head()"
      ],
      "execution_count": 14,
      "outputs": [
        {
          "output_type": "execute_result",
          "data": {
            "text/html": [
              "<div>\n",
              "<style scoped>\n",
              "    .dataframe tbody tr th:only-of-type {\n",
              "        vertical-align: middle;\n",
              "    }\n",
              "\n",
              "    .dataframe tbody tr th {\n",
              "        vertical-align: top;\n",
              "    }\n",
              "\n",
              "    .dataframe thead th {\n",
              "        text-align: right;\n",
              "    }\n",
              "</style>\n",
              "<table border=\"1\" class=\"dataframe\">\n",
              "  <thead>\n",
              "    <tr style=\"text-align: right;\">\n",
              "      <th></th>\n",
              "      <th>SKU Code</th>\n",
              "      <th>CFA Code</th>\n",
              "      <th>Channel</th>\n",
              "      <th>Quantity</th>\n",
              "      <th>DATE</th>\n",
              "      <th>Secondary Sales Amount STC</th>\n",
              "      <th>Secondary Sales Amount Invoiced</th>\n",
              "      <th>Secondary Sales Amount Returned</th>\n",
              "      <th>Secondary Sales Quantity Invoiced</th>\n",
              "      <th>Secondary Sales Quantity Returned</th>\n",
              "      <th>SKU Combination</th>\n",
              "    </tr>\n",
              "  </thead>\n",
              "  <tbody>\n",
              "    <tr>\n",
              "      <th>0</th>\n",
              "      <td>8</td>\n",
              "      <td>0</td>\n",
              "      <td>1</td>\n",
              "      <td>2</td>\n",
              "      <td>12.0</td>\n",
              "      <td>0.00</td>\n",
              "      <td>0.00</td>\n",
              "      <td>0.0</td>\n",
              "      <td>0.0</td>\n",
              "      <td>0.0</td>\n",
              "      <td>0</td>\n",
              "    </tr>\n",
              "    <tr>\n",
              "      <th>1</th>\n",
              "      <td>8</td>\n",
              "      <td>0</td>\n",
              "      <td>1</td>\n",
              "      <td>2</td>\n",
              "      <td>13.0</td>\n",
              "      <td>0.00</td>\n",
              "      <td>0.00</td>\n",
              "      <td>0.0</td>\n",
              "      <td>0.0</td>\n",
              "      <td>0.0</td>\n",
              "      <td>0</td>\n",
              "    </tr>\n",
              "    <tr>\n",
              "      <th>2</th>\n",
              "      <td>8</td>\n",
              "      <td>0</td>\n",
              "      <td>1</td>\n",
              "      <td>2</td>\n",
              "      <td>14.0</td>\n",
              "      <td>0.00</td>\n",
              "      <td>0.00</td>\n",
              "      <td>0.0</td>\n",
              "      <td>0.0</td>\n",
              "      <td>0.0</td>\n",
              "      <td>0</td>\n",
              "    </tr>\n",
              "    <tr>\n",
              "      <th>3</th>\n",
              "      <td>8</td>\n",
              "      <td>0</td>\n",
              "      <td>1</td>\n",
              "      <td>2</td>\n",
              "      <td>15.0</td>\n",
              "      <td>7103.14</td>\n",
              "      <td>7103.14</td>\n",
              "      <td>0.0</td>\n",
              "      <td>192.0</td>\n",
              "      <td>0.0</td>\n",
              "      <td>0</td>\n",
              "    </tr>\n",
              "    <tr>\n",
              "      <th>4</th>\n",
              "      <td>8</td>\n",
              "      <td>0</td>\n",
              "      <td>1</td>\n",
              "      <td>2</td>\n",
              "      <td>16.0</td>\n",
              "      <td>31971.88</td>\n",
              "      <td>31971.88</td>\n",
              "      <td>0.0</td>\n",
              "      <td>864.0</td>\n",
              "      <td>0.0</td>\n",
              "      <td>0</td>\n",
              "    </tr>\n",
              "  </tbody>\n",
              "</table>\n",
              "</div>"
            ],
            "text/plain": [
              "   SKU Code  CFA Code  ...  Secondary Sales Quantity Returned  SKU Combination\n",
              "0         8         0  ...                                0.0                0\n",
              "1         8         0  ...                                0.0                0\n",
              "2         8         0  ...                                0.0                0\n",
              "3         8         0  ...                                0.0                0\n",
              "4         8         0  ...                                0.0                0\n",
              "\n",
              "[5 rows x 11 columns]"
            ]
          },
          "metadata": {
            "tags": []
          },
          "execution_count": 14
        }
      ]
    },
    {
      "cell_type": "code",
      "metadata": {
        "id": "E_rKWFkjHw4Q",
        "colab_type": "code",
        "colab": {}
      },
      "source": [
        "X = train_df.iloc[:, :5]\n",
        "X[\"SKU Combination\"] = train_df[\"SKU Combination\"]\n",
        "y = train_df.iloc[:, 5:10]"
      ],
      "execution_count": 15,
      "outputs": []
    },
    {
      "cell_type": "code",
      "metadata": {
        "id": "oA2TpiKLIVUD",
        "colab_type": "code",
        "colab": {
          "base_uri": "https://localhost:8080/",
          "height": 195
        },
        "outputId": "1c9b5d5a-5af0-445a-93cd-799c9c62855d"
      },
      "source": [
        "X.head()"
      ],
      "execution_count": 16,
      "outputs": [
        {
          "output_type": "execute_result",
          "data": {
            "text/html": [
              "<div>\n",
              "<style scoped>\n",
              "    .dataframe tbody tr th:only-of-type {\n",
              "        vertical-align: middle;\n",
              "    }\n",
              "\n",
              "    .dataframe tbody tr th {\n",
              "        vertical-align: top;\n",
              "    }\n",
              "\n",
              "    .dataframe thead th {\n",
              "        text-align: right;\n",
              "    }\n",
              "</style>\n",
              "<table border=\"1\" class=\"dataframe\">\n",
              "  <thead>\n",
              "    <tr style=\"text-align: right;\">\n",
              "      <th></th>\n",
              "      <th>SKU Code</th>\n",
              "      <th>CFA Code</th>\n",
              "      <th>Channel</th>\n",
              "      <th>Quantity</th>\n",
              "      <th>DATE</th>\n",
              "      <th>SKU Combination</th>\n",
              "    </tr>\n",
              "  </thead>\n",
              "  <tbody>\n",
              "    <tr>\n",
              "      <th>0</th>\n",
              "      <td>8</td>\n",
              "      <td>0</td>\n",
              "      <td>1</td>\n",
              "      <td>2</td>\n",
              "      <td>12.0</td>\n",
              "      <td>0</td>\n",
              "    </tr>\n",
              "    <tr>\n",
              "      <th>1</th>\n",
              "      <td>8</td>\n",
              "      <td>0</td>\n",
              "      <td>1</td>\n",
              "      <td>2</td>\n",
              "      <td>13.0</td>\n",
              "      <td>0</td>\n",
              "    </tr>\n",
              "    <tr>\n",
              "      <th>2</th>\n",
              "      <td>8</td>\n",
              "      <td>0</td>\n",
              "      <td>1</td>\n",
              "      <td>2</td>\n",
              "      <td>14.0</td>\n",
              "      <td>0</td>\n",
              "    </tr>\n",
              "    <tr>\n",
              "      <th>3</th>\n",
              "      <td>8</td>\n",
              "      <td>0</td>\n",
              "      <td>1</td>\n",
              "      <td>2</td>\n",
              "      <td>15.0</td>\n",
              "      <td>0</td>\n",
              "    </tr>\n",
              "    <tr>\n",
              "      <th>4</th>\n",
              "      <td>8</td>\n",
              "      <td>0</td>\n",
              "      <td>1</td>\n",
              "      <td>2</td>\n",
              "      <td>16.0</td>\n",
              "      <td>0</td>\n",
              "    </tr>\n",
              "  </tbody>\n",
              "</table>\n",
              "</div>"
            ],
            "text/plain": [
              "   SKU Code  CFA Code  Channel  Quantity  DATE  SKU Combination\n",
              "0         8         0        1         2  12.0                0\n",
              "1         8         0        1         2  13.0                0\n",
              "2         8         0        1         2  14.0                0\n",
              "3         8         0        1         2  15.0                0\n",
              "4         8         0        1         2  16.0                0"
            ]
          },
          "metadata": {
            "tags": []
          },
          "execution_count": 16
        }
      ]
    },
    {
      "cell_type": "code",
      "metadata": {
        "id": "hPeCwLS4IYxr",
        "colab_type": "code",
        "colab": {
          "base_uri": "https://localhost:8080/",
          "height": 212
        },
        "outputId": "12dbe121-4a53-43ff-e04b-7286b97f0c5f"
      },
      "source": [
        "y.head()"
      ],
      "execution_count": 17,
      "outputs": [
        {
          "output_type": "execute_result",
          "data": {
            "text/html": [
              "<div>\n",
              "<style scoped>\n",
              "    .dataframe tbody tr th:only-of-type {\n",
              "        vertical-align: middle;\n",
              "    }\n",
              "\n",
              "    .dataframe tbody tr th {\n",
              "        vertical-align: top;\n",
              "    }\n",
              "\n",
              "    .dataframe thead th {\n",
              "        text-align: right;\n",
              "    }\n",
              "</style>\n",
              "<table border=\"1\" class=\"dataframe\">\n",
              "  <thead>\n",
              "    <tr style=\"text-align: right;\">\n",
              "      <th></th>\n",
              "      <th>Secondary Sales Amount STC</th>\n",
              "      <th>Secondary Sales Amount Invoiced</th>\n",
              "      <th>Secondary Sales Amount Returned</th>\n",
              "      <th>Secondary Sales Quantity Invoiced</th>\n",
              "      <th>Secondary Sales Quantity Returned</th>\n",
              "    </tr>\n",
              "  </thead>\n",
              "  <tbody>\n",
              "    <tr>\n",
              "      <th>0</th>\n",
              "      <td>0.00</td>\n",
              "      <td>0.00</td>\n",
              "      <td>0.0</td>\n",
              "      <td>0.0</td>\n",
              "      <td>0.0</td>\n",
              "    </tr>\n",
              "    <tr>\n",
              "      <th>1</th>\n",
              "      <td>0.00</td>\n",
              "      <td>0.00</td>\n",
              "      <td>0.0</td>\n",
              "      <td>0.0</td>\n",
              "      <td>0.0</td>\n",
              "    </tr>\n",
              "    <tr>\n",
              "      <th>2</th>\n",
              "      <td>0.00</td>\n",
              "      <td>0.00</td>\n",
              "      <td>0.0</td>\n",
              "      <td>0.0</td>\n",
              "      <td>0.0</td>\n",
              "    </tr>\n",
              "    <tr>\n",
              "      <th>3</th>\n",
              "      <td>7103.14</td>\n",
              "      <td>7103.14</td>\n",
              "      <td>0.0</td>\n",
              "      <td>192.0</td>\n",
              "      <td>0.0</td>\n",
              "    </tr>\n",
              "    <tr>\n",
              "      <th>4</th>\n",
              "      <td>31971.88</td>\n",
              "      <td>31971.88</td>\n",
              "      <td>0.0</td>\n",
              "      <td>864.0</td>\n",
              "      <td>0.0</td>\n",
              "    </tr>\n",
              "  </tbody>\n",
              "</table>\n",
              "</div>"
            ],
            "text/plain": [
              "   Secondary Sales Amount STC  ...  Secondary Sales Quantity Returned\n",
              "0                        0.00  ...                                0.0\n",
              "1                        0.00  ...                                0.0\n",
              "2                        0.00  ...                                0.0\n",
              "3                     7103.14  ...                                0.0\n",
              "4                    31971.88  ...                                0.0\n",
              "\n",
              "[5 rows x 5 columns]"
            ]
          },
          "metadata": {
            "tags": []
          },
          "execution_count": 17
        }
      ]
    },
    {
      "cell_type": "code",
      "metadata": {
        "id": "30KRLVq4I4MQ",
        "colab_type": "code",
        "colab": {
          "base_uri": "https://localhost:8080/",
          "height": 369
        },
        "outputId": "c1d9692e-430f-4ada-b28a-c85949237d0f"
      },
      "source": [
        "from xgboost import XGBRegressor\n",
        "from sklearn.multioutput import MultiOutputRegressor\n",
        "xgb1 = MultiOutputRegressor(XGBRegressor())\n",
        "xgb1.fit(X, y)"
      ],
      "execution_count": 18,
      "outputs": [
        {
          "output_type": "stream",
          "text": [
            "[16:52:10] WARNING: /workspace/src/objective/regression_obj.cu:152: reg:linear is now deprecated in favor of reg:squarederror.\n",
            "[16:52:11] WARNING: /workspace/src/objective/regression_obj.cu:152: reg:linear is now deprecated in favor of reg:squarederror.\n",
            "[16:52:12] WARNING: /workspace/src/objective/regression_obj.cu:152: reg:linear is now deprecated in favor of reg:squarederror.\n",
            "[16:52:13] WARNING: /workspace/src/objective/regression_obj.cu:152: reg:linear is now deprecated in favor of reg:squarederror.\n",
            "[16:52:14] WARNING: /workspace/src/objective/regression_obj.cu:152: reg:linear is now deprecated in favor of reg:squarederror.\n"
          ],
          "name": "stdout"
        },
        {
          "output_type": "execute_result",
          "data": {
            "text/plain": [
              "MultiOutputRegressor(estimator=XGBRegressor(base_score=0.5, booster='gbtree',\n",
              "                                            colsample_bylevel=1,\n",
              "                                            colsample_bynode=1,\n",
              "                                            colsample_bytree=1, gamma=0,\n",
              "                                            importance_type='gain',\n",
              "                                            learning_rate=0.1, max_delta_step=0,\n",
              "                                            max_depth=3, min_child_weight=1,\n",
              "                                            missing=None, n_estimators=100,\n",
              "                                            n_jobs=1, nthread=None,\n",
              "                                            objective='reg:linear',\n",
              "                                            random_state=0, reg_alpha=0,\n",
              "                                            reg_lambda=1, scale_pos_weight=1,\n",
              "                                            seed=None, silent=None, subsample=1,\n",
              "                                            verbosity=1),\n",
              "                     n_jobs=None)"
            ]
          },
          "metadata": {
            "tags": []
          },
          "execution_count": 18
        }
      ]
    },
    {
      "cell_type": "code",
      "metadata": {
        "id": "xdj8mFYogobY",
        "colab_type": "code",
        "colab": {}
      },
      "source": [
        "test_df.loc[:, 'DATE'] = test_df.loc[:, 'DATE'].map({'2020-02-01': 25, '2020-01-01': 24})"
      ],
      "execution_count": 19,
      "outputs": []
    },
    {
      "cell_type": "code",
      "metadata": {
        "id": "cmOf0auLhxoE",
        "colab_type": "code",
        "colab": {
          "base_uri": "https://localhost:8080/",
          "height": 195
        },
        "outputId": "c2cb8d7d-827e-4a58-a683-681bb7f54fee"
      },
      "source": [
        "test_df.head()"
      ],
      "execution_count": 20,
      "outputs": [
        {
          "output_type": "execute_result",
          "data": {
            "text/html": [
              "<div>\n",
              "<style scoped>\n",
              "    .dataframe tbody tr th:only-of-type {\n",
              "        vertical-align: middle;\n",
              "    }\n",
              "\n",
              "    .dataframe tbody tr th {\n",
              "        vertical-align: top;\n",
              "    }\n",
              "\n",
              "    .dataframe thead th {\n",
              "        text-align: right;\n",
              "    }\n",
              "</style>\n",
              "<table border=\"1\" class=\"dataframe\">\n",
              "  <thead>\n",
              "    <tr style=\"text-align: right;\">\n",
              "      <th></th>\n",
              "      <th>SKU Code</th>\n",
              "      <th>CFA Code</th>\n",
              "      <th>Channel</th>\n",
              "      <th>Quantity</th>\n",
              "      <th>DATE</th>\n",
              "      <th>SKU Combination</th>\n",
              "    </tr>\n",
              "  </thead>\n",
              "  <tbody>\n",
              "    <tr>\n",
              "      <th>0</th>\n",
              "      <td>8</td>\n",
              "      <td>0</td>\n",
              "      <td>1</td>\n",
              "      <td>2</td>\n",
              "      <td>24</td>\n",
              "      <td>0</td>\n",
              "    </tr>\n",
              "    <tr>\n",
              "      <th>1</th>\n",
              "      <td>8</td>\n",
              "      <td>0</td>\n",
              "      <td>1</td>\n",
              "      <td>2</td>\n",
              "      <td>25</td>\n",
              "      <td>0</td>\n",
              "    </tr>\n",
              "    <tr>\n",
              "      <th>2</th>\n",
              "      <td>8</td>\n",
              "      <td>0</td>\n",
              "      <td>2</td>\n",
              "      <td>2</td>\n",
              "      <td>24</td>\n",
              "      <td>1</td>\n",
              "    </tr>\n",
              "    <tr>\n",
              "      <th>3</th>\n",
              "      <td>8</td>\n",
              "      <td>0</td>\n",
              "      <td>2</td>\n",
              "      <td>2</td>\n",
              "      <td>25</td>\n",
              "      <td>1</td>\n",
              "    </tr>\n",
              "    <tr>\n",
              "      <th>4</th>\n",
              "      <td>8</td>\n",
              "      <td>1</td>\n",
              "      <td>2</td>\n",
              "      <td>2</td>\n",
              "      <td>24</td>\n",
              "      <td>3</td>\n",
              "    </tr>\n",
              "  </tbody>\n",
              "</table>\n",
              "</div>"
            ],
            "text/plain": [
              "   SKU Code  CFA Code  Channel  Quantity  DATE  SKU Combination\n",
              "0         8         0        1         2    24                0\n",
              "1         8         0        1         2    25                0\n",
              "2         8         0        2         2    24                1\n",
              "3         8         0        2         2    25                1\n",
              "4         8         1        2         2    24                3"
            ]
          },
          "metadata": {
            "tags": []
          },
          "execution_count": 20
        }
      ]
    },
    {
      "cell_type": "code",
      "metadata": {
        "id": "eIzslzXoi8VN",
        "colab_type": "code",
        "colab": {
          "base_uri": "https://localhost:8080/",
          "height": 195
        },
        "outputId": "df59231b-d7dc-4172-ee54-4b7b3e37e6d0"
      },
      "source": [
        "X.head()"
      ],
      "execution_count": 21,
      "outputs": [
        {
          "output_type": "execute_result",
          "data": {
            "text/html": [
              "<div>\n",
              "<style scoped>\n",
              "    .dataframe tbody tr th:only-of-type {\n",
              "        vertical-align: middle;\n",
              "    }\n",
              "\n",
              "    .dataframe tbody tr th {\n",
              "        vertical-align: top;\n",
              "    }\n",
              "\n",
              "    .dataframe thead th {\n",
              "        text-align: right;\n",
              "    }\n",
              "</style>\n",
              "<table border=\"1\" class=\"dataframe\">\n",
              "  <thead>\n",
              "    <tr style=\"text-align: right;\">\n",
              "      <th></th>\n",
              "      <th>SKU Code</th>\n",
              "      <th>CFA Code</th>\n",
              "      <th>Channel</th>\n",
              "      <th>Quantity</th>\n",
              "      <th>DATE</th>\n",
              "      <th>SKU Combination</th>\n",
              "    </tr>\n",
              "  </thead>\n",
              "  <tbody>\n",
              "    <tr>\n",
              "      <th>0</th>\n",
              "      <td>8</td>\n",
              "      <td>0</td>\n",
              "      <td>1</td>\n",
              "      <td>2</td>\n",
              "      <td>12.0</td>\n",
              "      <td>0</td>\n",
              "    </tr>\n",
              "    <tr>\n",
              "      <th>1</th>\n",
              "      <td>8</td>\n",
              "      <td>0</td>\n",
              "      <td>1</td>\n",
              "      <td>2</td>\n",
              "      <td>13.0</td>\n",
              "      <td>0</td>\n",
              "    </tr>\n",
              "    <tr>\n",
              "      <th>2</th>\n",
              "      <td>8</td>\n",
              "      <td>0</td>\n",
              "      <td>1</td>\n",
              "      <td>2</td>\n",
              "      <td>14.0</td>\n",
              "      <td>0</td>\n",
              "    </tr>\n",
              "    <tr>\n",
              "      <th>3</th>\n",
              "      <td>8</td>\n",
              "      <td>0</td>\n",
              "      <td>1</td>\n",
              "      <td>2</td>\n",
              "      <td>15.0</td>\n",
              "      <td>0</td>\n",
              "    </tr>\n",
              "    <tr>\n",
              "      <th>4</th>\n",
              "      <td>8</td>\n",
              "      <td>0</td>\n",
              "      <td>1</td>\n",
              "      <td>2</td>\n",
              "      <td>16.0</td>\n",
              "      <td>0</td>\n",
              "    </tr>\n",
              "  </tbody>\n",
              "</table>\n",
              "</div>"
            ],
            "text/plain": [
              "   SKU Code  CFA Code  Channel  Quantity  DATE  SKU Combination\n",
              "0         8         0        1         2  12.0                0\n",
              "1         8         0        1         2  13.0                0\n",
              "2         8         0        1         2  14.0                0\n",
              "3         8         0        1         2  15.0                0\n",
              "4         8         0        1         2  16.0                0"
            ]
          },
          "metadata": {
            "tags": []
          },
          "execution_count": 21
        }
      ]
    },
    {
      "cell_type": "code",
      "metadata": {
        "id": "PbT2iLstjBMN",
        "colab_type": "code",
        "colab": {}
      },
      "source": [
        "y_pred = xgb1.predict(test_df)"
      ],
      "execution_count": 22,
      "outputs": []
    },
    {
      "cell_type": "code",
      "metadata": {
        "id": "yllHaOKIjLfr",
        "colab_type": "code",
        "colab": {
          "base_uri": "https://localhost:8080/",
          "height": 246
        },
        "outputId": "bd797a94-0edd-4924-c3be-a9b3276a57d1"
      },
      "source": [
        "y_pred"
      ],
      "execution_count": 23,
      "outputs": [
        {
          "output_type": "execute_result",
          "data": {
            "text/plain": [
              "array([[ 3.4225000e+04,  6.5339973e+04,  2.6704292e+03,  1.1479054e+03,\n",
              "         2.6918570e+01],\n",
              "       [ 3.4225000e+04,  6.5339973e+04,  2.6704292e+03,  1.1479054e+03,\n",
              "         2.6918570e+01],\n",
              "       [ 4.5279381e+05,  4.7889025e+05,  3.4771742e+04,  1.1799728e+04,\n",
              "         1.7123193e+03],\n",
              "       ...,\n",
              "       [ 2.1032008e+05,  2.2977861e+05, -4.5079059e+02,  2.5807332e+03,\n",
              "         1.3183651e+01],\n",
              "       [ 2.5615512e+05,  3.1697372e+05,  6.6702119e+03,  2.3205283e+03,\n",
              "         6.8297272e+01],\n",
              "       [ 2.5615512e+05,  3.1697372e+05,  6.6702119e+03,  2.3205283e+03,\n",
              "         6.8297272e+01]], dtype=float32)"
            ]
          },
          "metadata": {
            "tags": []
          },
          "execution_count": 23
        }
      ]
    },
    {
      "cell_type": "code",
      "metadata": {
        "id": "LkoTrlGCRpUb",
        "colab_type": "code",
        "colab": {}
      },
      "source": [
        "data_df12 = X[X[\"DATE\"] == 22]"
      ],
      "execution_count": 24,
      "outputs": []
    },
    {
      "cell_type": "code",
      "metadata": {
        "id": "HAOzZNoUSYdD",
        "colab_type": "code",
        "colab": {}
      },
      "source": [
        "data_df13 = X[X[\"DATE\"] == 23]"
      ],
      "execution_count": 25,
      "outputs": []
    },
    {
      "cell_type": "code",
      "metadata": {
        "id": "F3SX5GudSwbI",
        "colab_type": "code",
        "colab": {}
      },
      "source": [
        "frames = [data_df12, data_df13]"
      ],
      "execution_count": 26,
      "outputs": []
    },
    {
      "cell_type": "code",
      "metadata": {
        "id": "_RVJRnuyTMbl",
        "colab_type": "code",
        "colab": {}
      },
      "source": [
        "X2 = pd.concat(frames)"
      ],
      "execution_count": 27,
      "outputs": []
    },
    {
      "cell_type": "code",
      "metadata": {
        "id": "GNLaXqyKTfi9",
        "colab_type": "code",
        "colab": {
          "base_uri": "https://localhost:8080/",
          "height": 70
        },
        "outputId": "28832916-f4d5-41b4-b45b-35c4549ec222"
      },
      "source": [
        "X2.DATE.value_counts()"
      ],
      "execution_count": 28,
      "outputs": [
        {
          "output_type": "execute_result",
          "data": {
            "text/plain": [
              "22.0    1381\n",
              "23.0    1327\n",
              "Name: DATE, dtype: int64"
            ]
          },
          "metadata": {
            "tags": []
          },
          "execution_count": 28
        }
      ]
    },
    {
      "cell_type": "code",
      "metadata": {
        "id": "2QDHmytRTxR5",
        "colab_type": "code",
        "colab": {}
      },
      "source": [
        "X1 = X[X[\"DATE\"] < 22]"
      ],
      "execution_count": 29,
      "outputs": []
    },
    {
      "cell_type": "code",
      "metadata": {
        "id": "bNCoS_1IUIAX",
        "colab_type": "code",
        "colab": {
          "base_uri": "https://localhost:8080/",
          "height": 34
        },
        "outputId": "994e4c9b-f9d9-48c1-da23-054d4a08676d"
      },
      "source": [
        "X1.shape"
      ],
      "execution_count": 30,
      "outputs": [
        {
          "output_type": "execute_result",
          "data": {
            "text/plain": [
              "(28577, 6)"
            ]
          },
          "metadata": {
            "tags": []
          },
          "execution_count": 30
        }
      ]
    },
    {
      "cell_type": "code",
      "metadata": {
        "id": "AZMJqhx0UPlA",
        "colab_type": "code",
        "colab": {
          "base_uri": "https://localhost:8080/",
          "height": 34
        },
        "outputId": "ef41d866-91c1-4af4-d146-5d5c3741cc86"
      },
      "source": [
        "X2.shape"
      ],
      "execution_count": 31,
      "outputs": [
        {
          "output_type": "execute_result",
          "data": {
            "text/plain": [
              "(2708, 6)"
            ]
          },
          "metadata": {
            "tags": []
          },
          "execution_count": 31
        }
      ]
    },
    {
      "cell_type": "code",
      "metadata": {
        "id": "ehSVAONvUVMb",
        "colab_type": "code",
        "colab": {
          "base_uri": "https://localhost:8080/",
          "height": 34
        },
        "outputId": "815ed951-1dc0-4cb4-d4ad-7c0f47b56c16"
      },
      "source": [
        "test_df.shape"
      ],
      "execution_count": 32,
      "outputs": [
        {
          "output_type": "execute_result",
          "data": {
            "text/plain": [
              "(2609, 6)"
            ]
          },
          "metadata": {
            "tags": []
          },
          "execution_count": 32
        }
      ]
    },
    {
      "cell_type": "code",
      "metadata": {
        "id": "FPe72tCfU4pP",
        "colab_type": "code",
        "colab": {}
      },
      "source": [
        "train_df1 = train_df[train_df[\"DATE\"] < 22]"
      ],
      "execution_count": 33,
      "outputs": []
    },
    {
      "cell_type": "code",
      "metadata": {
        "id": "E-37g-HuV8Og",
        "colab_type": "code",
        "colab": {}
      },
      "source": [
        "y1 = train_df1.iloc[:, 5:10]"
      ],
      "execution_count": 34,
      "outputs": []
    },
    {
      "cell_type": "code",
      "metadata": {
        "id": "hrqV7p71WFN3",
        "colab_type": "code",
        "colab": {
          "base_uri": "https://localhost:8080/",
          "height": 212
        },
        "outputId": "83961d7e-a30a-4670-ab2a-4031b4abc597"
      },
      "source": [
        "y1.head()"
      ],
      "execution_count": 35,
      "outputs": [
        {
          "output_type": "execute_result",
          "data": {
            "text/html": [
              "<div>\n",
              "<style scoped>\n",
              "    .dataframe tbody tr th:only-of-type {\n",
              "        vertical-align: middle;\n",
              "    }\n",
              "\n",
              "    .dataframe tbody tr th {\n",
              "        vertical-align: top;\n",
              "    }\n",
              "\n",
              "    .dataframe thead th {\n",
              "        text-align: right;\n",
              "    }\n",
              "</style>\n",
              "<table border=\"1\" class=\"dataframe\">\n",
              "  <thead>\n",
              "    <tr style=\"text-align: right;\">\n",
              "      <th></th>\n",
              "      <th>Secondary Sales Amount STC</th>\n",
              "      <th>Secondary Sales Amount Invoiced</th>\n",
              "      <th>Secondary Sales Amount Returned</th>\n",
              "      <th>Secondary Sales Quantity Invoiced</th>\n",
              "      <th>Secondary Sales Quantity Returned</th>\n",
              "    </tr>\n",
              "  </thead>\n",
              "  <tbody>\n",
              "    <tr>\n",
              "      <th>0</th>\n",
              "      <td>0.00</td>\n",
              "      <td>0.00</td>\n",
              "      <td>0.0</td>\n",
              "      <td>0.0</td>\n",
              "      <td>0.0</td>\n",
              "    </tr>\n",
              "    <tr>\n",
              "      <th>1</th>\n",
              "      <td>0.00</td>\n",
              "      <td>0.00</td>\n",
              "      <td>0.0</td>\n",
              "      <td>0.0</td>\n",
              "      <td>0.0</td>\n",
              "    </tr>\n",
              "    <tr>\n",
              "      <th>2</th>\n",
              "      <td>0.00</td>\n",
              "      <td>0.00</td>\n",
              "      <td>0.0</td>\n",
              "      <td>0.0</td>\n",
              "      <td>0.0</td>\n",
              "    </tr>\n",
              "    <tr>\n",
              "      <th>3</th>\n",
              "      <td>7103.14</td>\n",
              "      <td>7103.14</td>\n",
              "      <td>0.0</td>\n",
              "      <td>192.0</td>\n",
              "      <td>0.0</td>\n",
              "    </tr>\n",
              "    <tr>\n",
              "      <th>4</th>\n",
              "      <td>31971.88</td>\n",
              "      <td>31971.88</td>\n",
              "      <td>0.0</td>\n",
              "      <td>864.0</td>\n",
              "      <td>0.0</td>\n",
              "    </tr>\n",
              "  </tbody>\n",
              "</table>\n",
              "</div>"
            ],
            "text/plain": [
              "   Secondary Sales Amount STC  ...  Secondary Sales Quantity Returned\n",
              "0                        0.00  ...                                0.0\n",
              "1                        0.00  ...                                0.0\n",
              "2                        0.00  ...                                0.0\n",
              "3                     7103.14  ...                                0.0\n",
              "4                    31971.88  ...                                0.0\n",
              "\n",
              "[5 rows x 5 columns]"
            ]
          },
          "metadata": {
            "tags": []
          },
          "execution_count": 35
        }
      ]
    },
    {
      "cell_type": "code",
      "metadata": {
        "id": "Yp7mY43GWJVu",
        "colab_type": "code",
        "colab": {}
      },
      "source": [
        "train_df2 = train_df[train_df[\"DATE\"] >21]"
      ],
      "execution_count": 36,
      "outputs": []
    },
    {
      "cell_type": "code",
      "metadata": {
        "id": "j3i9wu_FWURs",
        "colab_type": "code",
        "colab": {}
      },
      "source": [
        "y2 = train_df2.iloc[:, 5:10]"
      ],
      "execution_count": 37,
      "outputs": []
    },
    {
      "cell_type": "code",
      "metadata": {
        "id": "r0FVLg3ZWZeP",
        "colab_type": "code",
        "colab": {
          "base_uri": "https://localhost:8080/",
          "height": 212
        },
        "outputId": "efb67c00-f3db-4917-b2cd-42471ffdc157"
      },
      "source": [
        "y2.head()"
      ],
      "execution_count": 38,
      "outputs": [
        {
          "output_type": "execute_result",
          "data": {
            "text/html": [
              "<div>\n",
              "<style scoped>\n",
              "    .dataframe tbody tr th:only-of-type {\n",
              "        vertical-align: middle;\n",
              "    }\n",
              "\n",
              "    .dataframe tbody tr th {\n",
              "        vertical-align: top;\n",
              "    }\n",
              "\n",
              "    .dataframe thead th {\n",
              "        text-align: right;\n",
              "    }\n",
              "</style>\n",
              "<table border=\"1\" class=\"dataframe\">\n",
              "  <thead>\n",
              "    <tr style=\"text-align: right;\">\n",
              "      <th></th>\n",
              "      <th>Secondary Sales Amount STC</th>\n",
              "      <th>Secondary Sales Amount Invoiced</th>\n",
              "      <th>Secondary Sales Amount Returned</th>\n",
              "      <th>Secondary Sales Quantity Invoiced</th>\n",
              "      <th>Secondary Sales Quantity Returned</th>\n",
              "    </tr>\n",
              "  </thead>\n",
              "  <tbody>\n",
              "    <tr>\n",
              "      <th>10</th>\n",
              "      <td>0.00</td>\n",
              "      <td>0.00</td>\n",
              "      <td>0.0</td>\n",
              "      <td>0.0</td>\n",
              "      <td>0.0</td>\n",
              "    </tr>\n",
              "    <tr>\n",
              "      <th>11</th>\n",
              "      <td>0.00</td>\n",
              "      <td>0.00</td>\n",
              "      <td>0.0</td>\n",
              "      <td>0.0</td>\n",
              "      <td>0.0</td>\n",
              "    </tr>\n",
              "    <tr>\n",
              "      <th>27</th>\n",
              "      <td>1409202.82</td>\n",
              "      <td>1664390.71</td>\n",
              "      <td>6112.0</td>\n",
              "      <td>41343.0</td>\n",
              "      <td>148.0</td>\n",
              "    </tr>\n",
              "    <tr>\n",
              "      <th>28</th>\n",
              "      <td>668741.43</td>\n",
              "      <td>887681.00</td>\n",
              "      <td>95419.0</td>\n",
              "      <td>21115.0</td>\n",
              "      <td>2400.0</td>\n",
              "    </tr>\n",
              "    <tr>\n",
              "      <th>52</th>\n",
              "      <td>697690.97</td>\n",
              "      <td>851229.00</td>\n",
              "      <td>11224.0</td>\n",
              "      <td>20466.0</td>\n",
              "      <td>262.0</td>\n",
              "    </tr>\n",
              "  </tbody>\n",
              "</table>\n",
              "</div>"
            ],
            "text/plain": [
              "    Secondary Sales Amount STC  ...  Secondary Sales Quantity Returned\n",
              "10                        0.00  ...                                0.0\n",
              "11                        0.00  ...                                0.0\n",
              "27                  1409202.82  ...                              148.0\n",
              "28                   668741.43  ...                             2400.0\n",
              "52                   697690.97  ...                              262.0\n",
              "\n",
              "[5 rows x 5 columns]"
            ]
          },
          "metadata": {
            "tags": []
          },
          "execution_count": 38
        }
      ]
    },
    {
      "cell_type": "code",
      "metadata": {
        "id": "iAbIeFTNDWkk",
        "colab_type": "code",
        "colab": {
          "base_uri": "https://localhost:8080/",
          "height": 70
        },
        "outputId": "13431c0e-2b35-4fb6-e71a-340b688b97a6"
      },
      "source": [
        "X2.DATE.value_counts()"
      ],
      "execution_count": 39,
      "outputs": [
        {
          "output_type": "execute_result",
          "data": {
            "text/plain": [
              "22.0    1381\n",
              "23.0    1327\n",
              "Name: DATE, dtype: int64"
            ]
          },
          "metadata": {
            "tags": []
          },
          "execution_count": 39
        }
      ]
    },
    {
      "cell_type": "code",
      "metadata": {
        "id": "MuhAPLmCWdOM",
        "colab_type": "code",
        "colab": {
          "base_uri": "https://localhost:8080/",
          "height": 422
        },
        "outputId": "3808ba21-e392-4afd-8e0c-4abdf5ac6551"
      },
      "source": [
        "train_df1.DATE.value_counts()"
      ],
      "execution_count": 40,
      "outputs": [
        {
          "output_type": "execute_result",
          "data": {
            "text/plain": [
              "19.0    1560\n",
              "16.0    1529\n",
              "17.0    1522\n",
              "14.0    1522\n",
              "12.0    1519\n",
              "15.0    1517\n",
              "13.0    1515\n",
              "18.0    1513\n",
              "21.0    1399\n",
              "20.0    1370\n",
              "10.0    1180\n",
              "9.0     1176\n",
              "8.0     1172\n",
              "11.0    1167\n",
              "6.0     1155\n",
              "7.0     1155\n",
              "0.0     1123\n",
              "2.0     1117\n",
              "1.0     1110\n",
              "3.0     1094\n",
              "4.0     1084\n",
              "5.0     1078\n",
              "Name: DATE, dtype: int64"
            ]
          },
          "metadata": {
            "tags": []
          },
          "execution_count": 40
        }
      ]
    },
    {
      "cell_type": "code",
      "metadata": {
        "id": "fLdnEYAeDHeo",
        "colab_type": "code",
        "colab": {
          "base_uri": "https://localhost:8080/",
          "height": 34
        },
        "outputId": "47c05530-eaf2-4d74-e18b-33ca950c9c62"
      },
      "source": [
        "X1.shape"
      ],
      "execution_count": 41,
      "outputs": [
        {
          "output_type": "execute_result",
          "data": {
            "text/plain": [
              "(28577, 6)"
            ]
          },
          "metadata": {
            "tags": []
          },
          "execution_count": 41
        }
      ]
    },
    {
      "cell_type": "code",
      "metadata": {
        "id": "fTyGJDbhDJKS",
        "colab_type": "code",
        "colab": {
          "base_uri": "https://localhost:8080/",
          "height": 34
        },
        "outputId": "924264b5-0a89-4078-fe54-9a50519108cd"
      },
      "source": [
        "X2.shape"
      ],
      "execution_count": 42,
      "outputs": [
        {
          "output_type": "execute_result",
          "data": {
            "text/plain": [
              "(2708, 6)"
            ]
          },
          "metadata": {
            "tags": []
          },
          "execution_count": 42
        }
      ]
    },
    {
      "cell_type": "code",
      "metadata": {
        "id": "smX8HU5lDKki",
        "colab_type": "code",
        "colab": {
          "base_uri": "https://localhost:8080/",
          "height": 34
        },
        "outputId": "5958a2a5-1ee2-4cc1-f56c-6d595427e51b"
      },
      "source": [
        "y1.shape"
      ],
      "execution_count": 43,
      "outputs": [
        {
          "output_type": "execute_result",
          "data": {
            "text/plain": [
              "(28577, 5)"
            ]
          },
          "metadata": {
            "tags": []
          },
          "execution_count": 43
        }
      ]
    },
    {
      "cell_type": "code",
      "metadata": {
        "id": "eOQTNO5bDMBX",
        "colab_type": "code",
        "colab": {
          "base_uri": "https://localhost:8080/",
          "height": 34
        },
        "outputId": "6763933e-7d13-4040-af70-3b7ad6c78fae"
      },
      "source": [
        "y2.shape"
      ],
      "execution_count": 44,
      "outputs": [
        {
          "output_type": "execute_result",
          "data": {
            "text/plain": [
              "(2708, 5)"
            ]
          },
          "metadata": {
            "tags": []
          },
          "execution_count": 44
        }
      ]
    },
    {
      "cell_type": "code",
      "metadata": {
        "id": "HxRexHoBDSg6",
        "colab_type": "code",
        "colab": {
          "base_uri": "https://localhost:8080/",
          "height": 34
        },
        "outputId": "a02e5e52-7f28-44bc-a4de-14057f3c2f1e"
      },
      "source": [
        "test_df.shape"
      ],
      "execution_count": 45,
      "outputs": [
        {
          "output_type": "execute_result",
          "data": {
            "text/plain": [
              "(2609, 6)"
            ]
          },
          "metadata": {
            "tags": []
          },
          "execution_count": 45
        }
      ]
    },
    {
      "cell_type": "code",
      "metadata": {
        "id": "U42MAWXMDh9d",
        "colab_type": "code",
        "colab": {
          "base_uri": "https://localhost:8080/",
          "height": 386
        },
        "outputId": "ee430980-95b8-4de7-e07e-2cd344eecae0"
      },
      "source": [
        "from xgboost import XGBRegressor\n",
        "from sklearn.multioutput import MultiOutputRegressor\n",
        "xgb2 = MultiOutputRegressor(XGBRegressor(base_score=0.5, booster='gbtree',\n",
        "                                            colsample_bylevel=1,\n",
        "                                            colsample_bynode=1,\n",
        "                                            colsample_bytree=1, gamma=0,\n",
        "                                            importance_type='gain',\n",
        "                                            learning_rate=0.01, max_delta_step=0,\n",
        "                                            max_depth=5, min_child_weight=1,\n",
        "                                            missing=None, n_estimators=148,\n",
        "                                            n_jobs=1, nthread=None,\n",
        "                                            objective='reg:linear',\n",
        "                                            random_state=0, reg_alpha=0,\n",
        "                                            reg_lambda=1, scale_pos_weight=1,\n",
        "                                            seed=None, silent=None, subsample=1,\n",
        "                                            verbosity=1))\n",
        "xgb2.fit(X1, y1)"
      ],
      "execution_count": 46,
      "outputs": [
        {
          "output_type": "stream",
          "text": [
            "[16:52:16] WARNING: /workspace/src/objective/regression_obj.cu:152: reg:linear is now deprecated in favor of reg:squarederror.\n",
            "[16:52:18] WARNING: /workspace/src/objective/regression_obj.cu:152: reg:linear is now deprecated in favor of reg:squarederror.\n",
            "[16:52:20] WARNING: /workspace/src/objective/regression_obj.cu:152: reg:linear is now deprecated in favor of reg:squarederror.\n",
            "[16:52:22] WARNING: /workspace/src/objective/regression_obj.cu:152: reg:linear is now deprecated in favor of reg:squarederror.\n",
            "[16:52:25] WARNING: /workspace/src/objective/regression_obj.cu:152: reg:linear is now deprecated in favor of reg:squarederror.\n"
          ],
          "name": "stdout"
        },
        {
          "output_type": "execute_result",
          "data": {
            "text/plain": [
              "MultiOutputRegressor(estimator=XGBRegressor(base_score=0.5, booster='gbtree',\n",
              "                                            colsample_bylevel=1,\n",
              "                                            colsample_bynode=1,\n",
              "                                            colsample_bytree=1, gamma=0,\n",
              "                                            importance_type='gain',\n",
              "                                            learning_rate=0.01,\n",
              "                                            max_delta_step=0, max_depth=5,\n",
              "                                            min_child_weight=1, missing=None,\n",
              "                                            n_estimators=148, n_jobs=1,\n",
              "                                            nthread=None,\n",
              "                                            objective='reg:linear',\n",
              "                                            random_state=0, reg_alpha=0,\n",
              "                                            reg_lambda=1, scale_pos_weight=1,\n",
              "                                            seed=None, silent=None, subsample=1,\n",
              "                                            verbosity=1),\n",
              "                     n_jobs=None)"
            ]
          },
          "metadata": {
            "tags": []
          },
          "execution_count": 46
        }
      ]
    },
    {
      "cell_type": "code",
      "metadata": {
        "id": "WDJn294XEDqQ",
        "colab_type": "code",
        "colab": {}
      },
      "source": [
        "from sklearn.metrics import mean_squared_error\n",
        "y1_pred = xgb2.predict(X1)\n",
        "mse1 = mean_squared_error(y1, y1_pred)"
      ],
      "execution_count": 47,
      "outputs": []
    },
    {
      "cell_type": "code",
      "metadata": {
        "id": "UPFgSW6VEciQ",
        "colab_type": "code",
        "colab": {
          "base_uri": "https://localhost:8080/",
          "height": 34
        },
        "outputId": "c44cf045-d71f-4da8-fa92-cad7da9e3500"
      },
      "source": [
        "print(mse1 ** 0.5)"
      ],
      "execution_count": 48,
      "outputs": [
        {
          "output_type": "stream",
          "text": [
            "318653.8384256127\n"
          ],
          "name": "stdout"
        }
      ]
    },
    {
      "cell_type": "code",
      "metadata": {
        "id": "tEnt4BQhE7yU",
        "colab_type": "code",
        "colab": {
          "base_uri": "https://localhost:8080/",
          "height": 34
        },
        "outputId": "19a36d90-7482-4bed-f847-50d44eaa955d"
      },
      "source": [
        "y2_pred = xgb2.predict(X2)\n",
        "mse2 = mean_squared_error(y2, y2_pred)\n",
        "print(mse2 ** 0.5)"
      ],
      "execution_count": 49,
      "outputs": [
        {
          "output_type": "stream",
          "text": [
            "556082.7711482528\n"
          ],
          "name": "stdout"
        }
      ]
    },
    {
      "cell_type": "code",
      "metadata": {
        "id": "bYVM8IwAFRjE",
        "colab_type": "code",
        "colab": {
          "base_uri": "https://localhost:8080/",
          "height": 140
        },
        "outputId": "65498601-2ffa-4487-f627-9c4ea00cc4f7"
      },
      "source": [
        "from sklearn.ensemble import RandomForestRegressor\n",
        "rfr = RandomForestRegressor(bootstrap=True, ccp_alpha=0.0, criterion='mse',\n",
        "                      max_depth=None, max_features='auto', max_leaf_nodes=None,\n",
        "                      max_samples=None, min_impurity_decrease=0.0,\n",
        "                      min_impurity_split=None, min_samples_leaf=1,\n",
        "                      min_samples_split=2, min_weight_fraction_leaf=0.0,\n",
        "                      n_estimators=88, n_jobs=None, oob_score=False,\n",
        "                      random_state=None, verbose=0, warm_start=False)\n",
        "rfr.fit(X1, y1)"
      ],
      "execution_count": 50,
      "outputs": [
        {
          "output_type": "execute_result",
          "data": {
            "text/plain": [
              "RandomForestRegressor(bootstrap=True, ccp_alpha=0.0, criterion='mse',\n",
              "                      max_depth=None, max_features='auto', max_leaf_nodes=None,\n",
              "                      max_samples=None, min_impurity_decrease=0.0,\n",
              "                      min_impurity_split=None, min_samples_leaf=1,\n",
              "                      min_samples_split=2, min_weight_fraction_leaf=0.0,\n",
              "                      n_estimators=88, n_jobs=None, oob_score=False,\n",
              "                      random_state=None, verbose=0, warm_start=False)"
            ]
          },
          "metadata": {
            "tags": []
          },
          "execution_count": 50
        }
      ]
    },
    {
      "cell_type": "code",
      "metadata": {
        "id": "jlmpoWhoGxCN",
        "colab_type": "code",
        "colab": {
          "base_uri": "https://localhost:8080/",
          "height": 34
        },
        "outputId": "b87cbf33-2e07-42e8-a062-afeb71b83e30"
      },
      "source": [
        "mean_squared_error(y1,rfr.predict(X1)) ** 0.5"
      ],
      "execution_count": 51,
      "outputs": [
        {
          "output_type": "execute_result",
          "data": {
            "text/plain": [
              "66773.9865133246"
            ]
          },
          "metadata": {
            "tags": []
          },
          "execution_count": 51
        }
      ]
    },
    {
      "cell_type": "code",
      "metadata": {
        "id": "o6Xe4x4lG-9k",
        "colab_type": "code",
        "colab": {}
      },
      "source": [
        "mse3 = mean_squared_error(y2, rfr.predict(X2))"
      ],
      "execution_count": 52,
      "outputs": []
    },
    {
      "cell_type": "code",
      "metadata": {
        "id": "tIxc7FbOHIlK",
        "colab_type": "code",
        "colab": {
          "base_uri": "https://localhost:8080/",
          "height": 34
        },
        "outputId": "d2870de5-19cc-478f-814c-2c6928cebd0b"
      },
      "source": [
        "print(mse3 ** 0.5)"
      ],
      "execution_count": 53,
      "outputs": [
        {
          "output_type": "stream",
          "text": [
            "639835.4321919275\n"
          ],
          "name": "stdout"
        }
      ]
    },
    {
      "cell_type": "code",
      "metadata": {
        "id": "rJcY_UJSHUTu",
        "colab_type": "code",
        "colab": {
          "base_uri": "https://localhost:8080/",
          "height": 298
        },
        "outputId": "09b173c2-ccfb-4dc7-8fc5-32374b813699"
      },
      "source": [
        "from lightgbm import LGBMRegressor\n",
        "from sklearn.multioutput import MultiOutputRegressor\n",
        "lgbmr = MultiOutputRegressor(LGBMRegressor(boosting_type='gbdt',\n",
        "                                             class_weight=None,\n",
        "                                             colsample_bytree=1.0,\n",
        "                                             importance_type='split',\n",
        "                                             learning_rate=0.1, max_depth=-1,\n",
        "                                             min_child_samples=20,\n",
        "                                             min_child_weight=0.002,\n",
        "                                             min_split_gain=0.0,\n",
        "                                             n_estimators=147, n_jobs=-1,\n",
        "                                             num_leaves=31, objective=None,\n",
        "                                             random_state=None, reg_alpha=0.0,\n",
        "                                             reg_lambda=0.0, silent=True,\n",
        "                                             subsample=1.0,\n",
        "                                             subsample_for_bin=200000,\n",
        "                                             subsample_freq=0))\n",
        "lgbmr.fit(X1, y1)\n"
      ],
      "execution_count": 54,
      "outputs": [
        {
          "output_type": "execute_result",
          "data": {
            "text/plain": [
              "MultiOutputRegressor(estimator=LGBMRegressor(boosting_type='gbdt',\n",
              "                                             class_weight=None,\n",
              "                                             colsample_bytree=1.0,\n",
              "                                             importance_type='split',\n",
              "                                             learning_rate=0.1, max_depth=-1,\n",
              "                                             min_child_samples=20,\n",
              "                                             min_child_weight=0.002,\n",
              "                                             min_split_gain=0.0,\n",
              "                                             n_estimators=147, n_jobs=-1,\n",
              "                                             num_leaves=31, objective=None,\n",
              "                                             random_state=None, reg_alpha=0.0,\n",
              "                                             reg_lambda=0.0, silent=True,\n",
              "                                             subsample=1.0,\n",
              "                                             subsample_for_bin=200000,\n",
              "                                             subsample_freq=0),\n",
              "                     n_jobs=None)"
            ]
          },
          "metadata": {
            "tags": []
          },
          "execution_count": 54
        }
      ]
    },
    {
      "cell_type": "code",
      "metadata": {
        "id": "uoJmrmbZHmik",
        "colab_type": "code",
        "colab": {
          "base_uri": "https://localhost:8080/",
          "height": 34
        },
        "outputId": "bd8eba76-0318-4384-931a-225ee3f9b1e7"
      },
      "source": [
        "mean_squared_error(y1, lgbmr.predict(X1)) ** 0.5"
      ],
      "execution_count": 55,
      "outputs": [
        {
          "output_type": "execute_result",
          "data": {
            "text/plain": [
              "164399.27752139795"
            ]
          },
          "metadata": {
            "tags": []
          },
          "execution_count": 55
        }
      ]
    },
    {
      "cell_type": "code",
      "metadata": {
        "id": "PN3BCyEKIZXt",
        "colab_type": "code",
        "colab": {
          "base_uri": "https://localhost:8080/",
          "height": 34
        },
        "outputId": "ca570aef-a7df-4394-e868-ace2353ab54c"
      },
      "source": [
        "mean_squared_error(y2, lgbmr.predict(X2)) ** 0.5"
      ],
      "execution_count": 56,
      "outputs": [
        {
          "output_type": "execute_result",
          "data": {
            "text/plain": [
              "621683.0760835061"
            ]
          },
          "metadata": {
            "tags": []
          },
          "execution_count": 56
        }
      ]
    },
    {
      "cell_type": "code",
      "metadata": {
        "id": "JY0kIL7JJEwu",
        "colab_type": "code",
        "colab": {}
      },
      "source": [
        "from lightgbm import LGBMRegressor\n",
        "from sklearn.multioutput import MultiOutputRegressor\n",
        "lgbmr1 = MultiOutputRegressor(LGBMRegressor())"
      ],
      "execution_count": 57,
      "outputs": []
    },
    {
      "cell_type": "code",
      "metadata": {
        "id": "KrnFaeZVJN1A",
        "colab_type": "code",
        "colab": {}
      },
      "source": [
        "from sklearn.ensemble import RandomForestRegressor\n",
        "rfr1 = RandomForestRegressor()"
      ],
      "execution_count": 58,
      "outputs": []
    },
    {
      "cell_type": "code",
      "metadata": {
        "id": "0ltDRvmUJTTY",
        "colab_type": "code",
        "colab": {}
      },
      "source": [
        "from xgboost import XGBRegressor\n",
        "from sklearn.multioutput import MultiOutputRegressor\n",
        "xgb3 = MultiOutputRegressor(XGBRegressor(base_score=0.5, booster='gbtree',\n",
        "                                            colsample_bylevel=1,\n",
        "                                            colsample_bynode=1,\n",
        "                                            colsample_bytree=1, gamma=0,\n",
        "                                            importance_type='gain',\n",
        "                                            learning_rate=0.01, max_delta_step=0,\n",
        "                                            max_depth=6, min_child_weight=1,\n",
        "                                            missing=None, n_estimators=150,\n",
        "                                            n_jobs=1, nthread=None,\n",
        "                                            objective='reg:linear',\n",
        "                                            random_state=0, reg_alpha=0,\n",
        "                                            reg_lambda=1, scale_pos_weight=1,\n",
        "                                            seed=None, silent=None, subsample=1,\n",
        "                                            verbosity=1))"
      ],
      "execution_count": 59,
      "outputs": []
    },
    {
      "cell_type": "code",
      "metadata": {
        "id": "wLS_9skzad_x",
        "colab_type": "code",
        "colab": {
          "base_uri": "https://localhost:8080/",
          "height": 386
        },
        "outputId": "89011c9c-b746-46c4-b180-5440ffdd7752"
      },
      "source": [
        "from xgboost import XGBRegressor\n",
        "from sklearn.multioutput import MultiOutputRegressor\n",
        "xgb2 = MultiOutputRegressor(XGBRegressor(base_score=0.5, booster='gbtree',\n",
        "                                            colsample_bylevel=1,\n",
        "                                            colsample_bynode=1,\n",
        "                                            colsample_bytree=1, gamma=0,\n",
        "                                            importance_type='gain',\n",
        "                                            learning_rate=0.01, max_delta_step=0,\n",
        "                                            max_depth=5, min_child_weight=1,\n",
        "                                            missing=None, n_estimators=148,\n",
        "                                            n_jobs=1, nthread=None,\n",
        "                                            objective='reg:linear',\n",
        "                                            random_state=0, reg_alpha=0,\n",
        "                                            reg_lambda=1, scale_pos_weight=1,\n",
        "                                            seed=None, silent=None, subsample=1,\n",
        "                                            verbosity=1))\n",
        "xgb2.fit(X, y)"
      ],
      "execution_count": 60,
      "outputs": [
        {
          "output_type": "stream",
          "text": [
            "[16:52:37] WARNING: /workspace/src/objective/regression_obj.cu:152: reg:linear is now deprecated in favor of reg:squarederror.\n",
            "[16:52:40] WARNING: /workspace/src/objective/regression_obj.cu:152: reg:linear is now deprecated in favor of reg:squarederror.\n",
            "[16:52:42] WARNING: /workspace/src/objective/regression_obj.cu:152: reg:linear is now deprecated in favor of reg:squarederror.\n",
            "[16:52:44] WARNING: /workspace/src/objective/regression_obj.cu:152: reg:linear is now deprecated in favor of reg:squarederror.\n",
            "[16:52:47] WARNING: /workspace/src/objective/regression_obj.cu:152: reg:linear is now deprecated in favor of reg:squarederror.\n"
          ],
          "name": "stdout"
        },
        {
          "output_type": "execute_result",
          "data": {
            "text/plain": [
              "MultiOutputRegressor(estimator=XGBRegressor(base_score=0.5, booster='gbtree',\n",
              "                                            colsample_bylevel=1,\n",
              "                                            colsample_bynode=1,\n",
              "                                            colsample_bytree=1, gamma=0,\n",
              "                                            importance_type='gain',\n",
              "                                            learning_rate=0.01,\n",
              "                                            max_delta_step=0, max_depth=5,\n",
              "                                            min_child_weight=1, missing=None,\n",
              "                                            n_estimators=148, n_jobs=1,\n",
              "                                            nthread=None,\n",
              "                                            objective='reg:linear',\n",
              "                                            random_state=0, reg_alpha=0,\n",
              "                                            reg_lambda=1, scale_pos_weight=1,\n",
              "                                            seed=None, silent=None, subsample=1,\n",
              "                                            verbosity=1),\n",
              "                     n_jobs=None)"
            ]
          },
          "metadata": {
            "tags": []
          },
          "execution_count": 60
        }
      ]
    },
    {
      "cell_type": "code",
      "metadata": {
        "id": "2mS_NsGWbpte",
        "colab_type": "code",
        "colab": {
          "base_uri": "https://localhost:8080/",
          "height": 298
        },
        "outputId": "d3779866-d4f3-4eb9-d5f7-bbc1e08c1e0b"
      },
      "source": [
        "from lightgbm import LGBMRegressor\n",
        "from sklearn.multioutput import MultiOutputRegressor\n",
        "lgbmr33 = MultiOutputRegressor(LGBMRegressor(boosting_type='gbdt',\n",
        "                                             class_weight=None,\n",
        "                                             colsample_bytree=1.0,\n",
        "                                             importance_type='split',\n",
        "                                             learning_rate=0.1, max_depth=-1,\n",
        "                                             min_child_samples=20,\n",
        "                                             min_child_weight=0.002,\n",
        "                                             min_split_gain=0.0,\n",
        "                                             n_estimators=147, n_jobs=-1,\n",
        "                                             num_leaves=31, objective=None,\n",
        "                                             random_state=None, reg_alpha=0.0,\n",
        "                                             reg_lambda=0.0, silent=True,\n",
        "                                             subsample=1.0,\n",
        "                                             subsample_for_bin=200000,\n",
        "                                             subsample_freq=0))\n",
        "lgbmr33.fit(X, y)\n"
      ],
      "execution_count": 61,
      "outputs": [
        {
          "output_type": "execute_result",
          "data": {
            "text/plain": [
              "MultiOutputRegressor(estimator=LGBMRegressor(boosting_type='gbdt',\n",
              "                                             class_weight=None,\n",
              "                                             colsample_bytree=1.0,\n",
              "                                             importance_type='split',\n",
              "                                             learning_rate=0.1, max_depth=-1,\n",
              "                                             min_child_samples=20,\n",
              "                                             min_child_weight=0.002,\n",
              "                                             min_split_gain=0.0,\n",
              "                                             n_estimators=147, n_jobs=-1,\n",
              "                                             num_leaves=31, objective=None,\n",
              "                                             random_state=None, reg_alpha=0.0,\n",
              "                                             reg_lambda=0.0, silent=True,\n",
              "                                             subsample=1.0,\n",
              "                                             subsample_for_bin=200000,\n",
              "                                             subsample_freq=0),\n",
              "                     n_jobs=None)"
            ]
          },
          "metadata": {
            "tags": []
          },
          "execution_count": 61
        }
      ]
    },
    {
      "cell_type": "code",
      "metadata": {
        "id": "PeWyi4lndCkj",
        "colab_type": "code",
        "colab": {}
      },
      "source": [
        "from sklearn.ensemble import AdaBoostRegressor\n",
        "ada = MultiOutputRegressor(AdaBoostRegressor(base_estimator= RandomForestRegressor(),n_estimators=50))\n",
        "ada.fit(X1, y1)\n"
      ],
      "execution_count": null,
      "outputs": []
    },
    {
      "cell_type": "code",
      "metadata": {
        "id": "mBtqiNFXeeoP",
        "colab_type": "code",
        "colab": {}
      },
      "source": [
        "print(mean_squared_error(y1, ada.predict(X1)) ** 0.5)"
      ],
      "execution_count": null,
      "outputs": []
    },
    {
      "cell_type": "code",
      "metadata": {
        "id": "IJq36ujtepCv",
        "colab_type": "code",
        "colab": {}
      },
      "source": [
        "print(mean_squared_error(y2, ada.predict(X2)) ** 0.5)"
      ],
      "execution_count": null,
      "outputs": []
    },
    {
      "cell_type": "code",
      "metadata": {
        "id": "NqwR3zzdeylF",
        "colab_type": "code",
        "colab": {}
      },
      "source": [
        "from sklearn.ensemble import AdaBoostRegressor\n",
        "ada1 = MultiOutputRegressor(AdaBoostRegressor())\n",
        "ada1.fit(X, y)"
      ],
      "execution_count": null,
      "outputs": []
    },
    {
      "cell_type": "code",
      "metadata": {
        "id": "AvrAg_mia21r",
        "colab_type": "code",
        "colab": {}
      },
      "source": [
        "y_pre = lgbmr33.predict(test_df)"
      ],
      "execution_count": null,
      "outputs": []
    },
    {
      "cell_type": "code",
      "metadata": {
        "id": "QD1yDNfRe9H1",
        "colab_type": "code",
        "colab": {}
      },
      "source": [
        "y_pre_ada = ada1.predict(test_df)"
      ],
      "execution_count": null,
      "outputs": []
    },
    {
      "cell_type": "code",
      "metadata": {
        "id": "FLBK25ywImZD",
        "colab_type": "code",
        "colab": {}
      },
      "source": [
        "output.iloc[:, 2:] = y_pre_ada"
      ],
      "execution_count": null,
      "outputs": []
    },
    {
      "cell_type": "code",
      "metadata": {
        "id": "T4dnuYlnKE1U",
        "colab_type": "code",
        "colab": {}
      },
      "source": [
        "output.to_csv('output.csv', index = False)"
      ],
      "execution_count": null,
      "outputs": []
    }
  ]
}