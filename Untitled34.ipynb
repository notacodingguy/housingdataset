{
  "nbformat": 4,
  "nbformat_minor": 0,
  "metadata": {
    "colab": {
      "name": "Untitled34.ipynb",
      "provenance": [],
      "collapsed_sections": [],
      "include_colab_link": true
    },
    "kernelspec": {
      "name": "python3",
      "display_name": "Python 3"
    },
    "accelerator": "GPU"
  },
  "cells": [
    {
      "cell_type": "markdown",
      "metadata": {
        "id": "view-in-github",
        "colab_type": "text"
      },
      "source": [
        "<a href=\"https://colab.research.google.com/github/notacodingguy/housingdataset/blob/master/Untitled34.ipynb\" target=\"_parent\"><img src=\"https://colab.research.google.com/assets/colab-badge.svg\" alt=\"Open In Colab\"/></a>"
      ]
    },
    {
      "cell_type": "code",
      "metadata": {
        "id": "t09pf43FDCRK",
        "colab_type": "code",
        "colab": {}
      },
      "source": [
        "import pandas as pd\n",
        "import numpy as np"
      ],
      "execution_count": 40,
      "outputs": []
    },
    {
      "cell_type": "code",
      "metadata": {
        "id": "7BEPEMP9DGef",
        "colab_type": "code",
        "colab": {}
      },
      "source": [
        "train_df = pd.read_csv(\"/content/Train.csv\")"
      ],
      "execution_count": 41,
      "outputs": []
    },
    {
      "cell_type": "code",
      "metadata": {
        "id": "ke2eybC8DT0O",
        "colab_type": "code",
        "colab": {}
      },
      "source": [
        "test_df= pd.read_csv(\"/content/Test.csv\")"
      ],
      "execution_count": 42,
      "outputs": []
    },
    {
      "cell_type": "code",
      "metadata": {
        "id": "D02FBecGLctP",
        "colab_type": "code",
        "colab": {}
      },
      "source": [
        "output = pd.read_csv(\"/content/Sample Submission.csv\")"
      ],
      "execution_count": 43,
      "outputs": []
    },
    {
      "cell_type": "code",
      "metadata": {
        "id": "CPnbw4nPDX-Q",
        "colab_type": "code",
        "colab": {
          "base_uri": "https://localhost:8080/",
          "height": 313
        },
        "outputId": "160a91e9-8473-4e9c-decc-02605f0aa3f5"
      },
      "source": [
        "train_df.head()"
      ],
      "execution_count": 44,
      "outputs": [
        {
          "output_type": "execute_result",
          "data": {
            "text/html": [
              "<div>\n",
              "<style scoped>\n",
              "    .dataframe tbody tr th:only-of-type {\n",
              "        vertical-align: middle;\n",
              "    }\n",
              "\n",
              "    .dataframe tbody tr th {\n",
              "        vertical-align: top;\n",
              "    }\n",
              "\n",
              "    .dataframe thead th {\n",
              "        text-align: right;\n",
              "    }\n",
              "</style>\n",
              "<table border=\"1\" class=\"dataframe\">\n",
              "  <thead>\n",
              "    <tr style=\"text-align: right;\">\n",
              "      <th></th>\n",
              "      <th>SKU Code</th>\n",
              "      <th>CFA Code</th>\n",
              "      <th>Channel</th>\n",
              "      <th>Quantity</th>\n",
              "      <th>DATE</th>\n",
              "      <th>Secondary Sales Amount STC</th>\n",
              "      <th>Secondary Sales Amount Invoiced</th>\n",
              "      <th>Secondary Sales Amount Returned</th>\n",
              "      <th>Secondary Sales Quantity Invoiced</th>\n",
              "      <th>Secondary Sales Quantity Returned</th>\n",
              "      <th>SKU Combination</th>\n",
              "    </tr>\n",
              "  </thead>\n",
              "  <tbody>\n",
              "    <tr>\n",
              "      <th>0</th>\n",
              "      <td>8</td>\n",
              "      <td>0</td>\n",
              "      <td>1</td>\n",
              "      <td>2</td>\n",
              "      <td>2019-01-01</td>\n",
              "      <td>0.00</td>\n",
              "      <td>0.00</td>\n",
              "      <td>0.0</td>\n",
              "      <td>0.0</td>\n",
              "      <td>0.0</td>\n",
              "      <td>0</td>\n",
              "    </tr>\n",
              "    <tr>\n",
              "      <th>1</th>\n",
              "      <td>8</td>\n",
              "      <td>0</td>\n",
              "      <td>1</td>\n",
              "      <td>2</td>\n",
              "      <td>2019-02-01</td>\n",
              "      <td>0.00</td>\n",
              "      <td>0.00</td>\n",
              "      <td>0.0</td>\n",
              "      <td>0.0</td>\n",
              "      <td>0.0</td>\n",
              "      <td>0</td>\n",
              "    </tr>\n",
              "    <tr>\n",
              "      <th>2</th>\n",
              "      <td>8</td>\n",
              "      <td>0</td>\n",
              "      <td>1</td>\n",
              "      <td>2</td>\n",
              "      <td>2019-03-01</td>\n",
              "      <td>0.00</td>\n",
              "      <td>0.00</td>\n",
              "      <td>0.0</td>\n",
              "      <td>0.0</td>\n",
              "      <td>0.0</td>\n",
              "      <td>0</td>\n",
              "    </tr>\n",
              "    <tr>\n",
              "      <th>3</th>\n",
              "      <td>8</td>\n",
              "      <td>0</td>\n",
              "      <td>1</td>\n",
              "      <td>2</td>\n",
              "      <td>2019-04-01</td>\n",
              "      <td>7103.14</td>\n",
              "      <td>7103.14</td>\n",
              "      <td>0.0</td>\n",
              "      <td>192.0</td>\n",
              "      <td>0.0</td>\n",
              "      <td>0</td>\n",
              "    </tr>\n",
              "    <tr>\n",
              "      <th>4</th>\n",
              "      <td>8</td>\n",
              "      <td>0</td>\n",
              "      <td>1</td>\n",
              "      <td>2</td>\n",
              "      <td>2019-05-01</td>\n",
              "      <td>31971.88</td>\n",
              "      <td>31971.88</td>\n",
              "      <td>0.0</td>\n",
              "      <td>864.0</td>\n",
              "      <td>0.0</td>\n",
              "      <td>0</td>\n",
              "    </tr>\n",
              "  </tbody>\n",
              "</table>\n",
              "</div>"
            ],
            "text/plain": [
              "   SKU Code  CFA Code  ...  Secondary Sales Quantity Returned  SKU Combination\n",
              "0         8         0  ...                                0.0                0\n",
              "1         8         0  ...                                0.0                0\n",
              "2         8         0  ...                                0.0                0\n",
              "3         8         0  ...                                0.0                0\n",
              "4         8         0  ...                                0.0                0\n",
              "\n",
              "[5 rows x 11 columns]"
            ]
          },
          "metadata": {
            "tags": []
          },
          "execution_count": 44
        }
      ]
    },
    {
      "cell_type": "code",
      "metadata": {
        "id": "vjWiOMEiDd0Z",
        "colab_type": "code",
        "colab": {}
      },
      "source": [
        "def bhenchod(df):\n",
        "  b = []\n",
        "  c = []\n",
        "  for i in range(len(df[\"DATE\"])):\n",
        "    b.append(int(df[\"DATE\"][i][:4]))\n",
        "    c.append(int(df[\"DATE\"][i][5:7]))\n",
        "  df[\"year\"] = b\n",
        "  df[\"month\"] = c\n",
        "  df.drop(\"DATE\", inplace =True, axis =1)  "
      ],
      "execution_count": 45,
      "outputs": []
    },
    {
      "cell_type": "code",
      "metadata": {
        "id": "ys7xmvGlDmId",
        "colab_type": "code",
        "colab": {}
      },
      "source": [
        "bhenchod(train_df)\n",
        "bhenchod(test_df)"
      ],
      "execution_count": 46,
      "outputs": []
    },
    {
      "cell_type": "code",
      "metadata": {
        "id": "-eemuHk5DraZ",
        "colab_type": "code",
        "colab": {}
      },
      "source": [
        "y = train_df.iloc[:, 4:9]"
      ],
      "execution_count": 47,
      "outputs": []
    },
    {
      "cell_type": "code",
      "metadata": {
        "id": "9o9FfFlitt_g",
        "colab_type": "code",
        "colab": {}
      },
      "source": [
        "X = train_df.drop(columns = y)"
      ],
      "execution_count": 48,
      "outputs": []
    },
    {
      "cell_type": "code",
      "metadata": {
        "id": "MUuBtOWQDzlN",
        "colab_type": "code",
        "colab": {}
      },
      "source": [
        "def prep(df):\n",
        "  from sklearn.preprocessing import OneHotEncoder\n",
        "  a = df[[\"Channel\"]]\n",
        "  ohe = OneHotEncoder()\n",
        "  channel_ohe = ohe.fit_transform(a)\n",
        "  b = channel_ohe.toarray()\n",
        "  df[\"channel1\"] = b[:, 0]\n",
        "  df[\"channel2\"] = b[:, 1]\n",
        "  df[\"channel3\"] = b[:, 2]\n",
        "  df.drop(columns = \"Channel\", inplace = True, axis = 1)"
      ],
      "execution_count": 49,
      "outputs": []
    },
    {
      "cell_type": "code",
      "metadata": {
        "id": "C_mDqZWWD6wW",
        "colab_type": "code",
        "colab": {}
      },
      "source": [
        "prep(X)"
      ],
      "execution_count": 50,
      "outputs": []
    },
    {
      "cell_type": "code",
      "metadata": {
        "id": "fvWnsaPUEEe4",
        "colab_type": "code",
        "colab": {}
      },
      "source": [
        "prep(test_df)"
      ],
      "execution_count": 51,
      "outputs": []
    },
    {
      "cell_type": "code",
      "metadata": {
        "id": "O9iDjVY2ENx3",
        "colab_type": "code",
        "colab": {}
      },
      "source": [
        "from sklearn.preprocessing import MinMaxScaler\n",
        "stsc1 = MinMaxScaler()\n",
        "stsc2 = MinMaxScaler()\n",
        "train_df_scaled = stsc1.fit_transform(X)\n",
        "test_df_scaled = stsc2.fit_transform(y)"
      ],
      "execution_count": 52,
      "outputs": []
    },
    {
      "cell_type": "code",
      "metadata": {
        "id": "er-0P2yuHimx",
        "colab_type": "code",
        "colab": {
          "base_uri": "https://localhost:8080/",
          "height": 402
        },
        "outputId": "0255ebd0-b584-4194-ecd2-453e3f112a4e"
      },
      "source": [
        "X"
      ],
      "execution_count": 53,
      "outputs": [
        {
          "output_type": "execute_result",
          "data": {
            "text/html": [
              "<div>\n",
              "<style scoped>\n",
              "    .dataframe tbody tr th:only-of-type {\n",
              "        vertical-align: middle;\n",
              "    }\n",
              "\n",
              "    .dataframe tbody tr th {\n",
              "        vertical-align: top;\n",
              "    }\n",
              "\n",
              "    .dataframe thead th {\n",
              "        text-align: right;\n",
              "    }\n",
              "</style>\n",
              "<table border=\"1\" class=\"dataframe\">\n",
              "  <thead>\n",
              "    <tr style=\"text-align: right;\">\n",
              "      <th></th>\n",
              "      <th>SKU Code</th>\n",
              "      <th>CFA Code</th>\n",
              "      <th>Quantity</th>\n",
              "      <th>SKU Combination</th>\n",
              "      <th>year</th>\n",
              "      <th>month</th>\n",
              "      <th>channel1</th>\n",
              "      <th>channel2</th>\n",
              "      <th>channel3</th>\n",
              "    </tr>\n",
              "  </thead>\n",
              "  <tbody>\n",
              "    <tr>\n",
              "      <th>0</th>\n",
              "      <td>8</td>\n",
              "      <td>0</td>\n",
              "      <td>2</td>\n",
              "      <td>0</td>\n",
              "      <td>2019</td>\n",
              "      <td>1</td>\n",
              "      <td>0.0</td>\n",
              "      <td>1.0</td>\n",
              "      <td>0.0</td>\n",
              "    </tr>\n",
              "    <tr>\n",
              "      <th>1</th>\n",
              "      <td>8</td>\n",
              "      <td>0</td>\n",
              "      <td>2</td>\n",
              "      <td>0</td>\n",
              "      <td>2019</td>\n",
              "      <td>2</td>\n",
              "      <td>0.0</td>\n",
              "      <td>1.0</td>\n",
              "      <td>0.0</td>\n",
              "    </tr>\n",
              "    <tr>\n",
              "      <th>2</th>\n",
              "      <td>8</td>\n",
              "      <td>0</td>\n",
              "      <td>2</td>\n",
              "      <td>0</td>\n",
              "      <td>2019</td>\n",
              "      <td>3</td>\n",
              "      <td>0.0</td>\n",
              "      <td>1.0</td>\n",
              "      <td>0.0</td>\n",
              "    </tr>\n",
              "    <tr>\n",
              "      <th>3</th>\n",
              "      <td>8</td>\n",
              "      <td>0</td>\n",
              "      <td>2</td>\n",
              "      <td>0</td>\n",
              "      <td>2019</td>\n",
              "      <td>4</td>\n",
              "      <td>0.0</td>\n",
              "      <td>1.0</td>\n",
              "      <td>0.0</td>\n",
              "    </tr>\n",
              "    <tr>\n",
              "      <th>4</th>\n",
              "      <td>8</td>\n",
              "      <td>0</td>\n",
              "      <td>2</td>\n",
              "      <td>0</td>\n",
              "      <td>2019</td>\n",
              "      <td>5</td>\n",
              "      <td>0.0</td>\n",
              "      <td>1.0</td>\n",
              "      <td>0.0</td>\n",
              "    </tr>\n",
              "    <tr>\n",
              "      <th>...</th>\n",
              "      <td>...</td>\n",
              "      <td>...</td>\n",
              "      <td>...</td>\n",
              "      <td>...</td>\n",
              "      <td>...</td>\n",
              "      <td>...</td>\n",
              "      <td>...</td>\n",
              "      <td>...</td>\n",
              "      <td>...</td>\n",
              "    </tr>\n",
              "    <tr>\n",
              "      <th>31280</th>\n",
              "      <td>47</td>\n",
              "      <td>21</td>\n",
              "      <td>10</td>\n",
              "      <td>1949</td>\n",
              "      <td>2019</td>\n",
              "      <td>8</td>\n",
              "      <td>0.0</td>\n",
              "      <td>0.0</td>\n",
              "      <td>1.0</td>\n",
              "    </tr>\n",
              "    <tr>\n",
              "      <th>31281</th>\n",
              "      <td>47</td>\n",
              "      <td>21</td>\n",
              "      <td>10</td>\n",
              "      <td>1949</td>\n",
              "      <td>2019</td>\n",
              "      <td>9</td>\n",
              "      <td>0.0</td>\n",
              "      <td>0.0</td>\n",
              "      <td>1.0</td>\n",
              "    </tr>\n",
              "    <tr>\n",
              "      <th>31282</th>\n",
              "      <td>47</td>\n",
              "      <td>21</td>\n",
              "      <td>10</td>\n",
              "      <td>1949</td>\n",
              "      <td>2019</td>\n",
              "      <td>10</td>\n",
              "      <td>0.0</td>\n",
              "      <td>0.0</td>\n",
              "      <td>1.0</td>\n",
              "    </tr>\n",
              "    <tr>\n",
              "      <th>31283</th>\n",
              "      <td>47</td>\n",
              "      <td>21</td>\n",
              "      <td>10</td>\n",
              "      <td>1949</td>\n",
              "      <td>2019</td>\n",
              "      <td>11</td>\n",
              "      <td>0.0</td>\n",
              "      <td>0.0</td>\n",
              "      <td>1.0</td>\n",
              "    </tr>\n",
              "    <tr>\n",
              "      <th>31284</th>\n",
              "      <td>47</td>\n",
              "      <td>21</td>\n",
              "      <td>10</td>\n",
              "      <td>1949</td>\n",
              "      <td>2019</td>\n",
              "      <td>12</td>\n",
              "      <td>0.0</td>\n",
              "      <td>0.0</td>\n",
              "      <td>1.0</td>\n",
              "    </tr>\n",
              "  </tbody>\n",
              "</table>\n",
              "<p>31285 rows × 9 columns</p>\n",
              "</div>"
            ],
            "text/plain": [
              "       SKU Code  CFA Code  Quantity  ...  channel1  channel2  channel3\n",
              "0             8         0         2  ...       0.0       1.0       0.0\n",
              "1             8         0         2  ...       0.0       1.0       0.0\n",
              "2             8         0         2  ...       0.0       1.0       0.0\n",
              "3             8         0         2  ...       0.0       1.0       0.0\n",
              "4             8         0         2  ...       0.0       1.0       0.0\n",
              "...         ...       ...       ...  ...       ...       ...       ...\n",
              "31280        47        21        10  ...       0.0       0.0       1.0\n",
              "31281        47        21        10  ...       0.0       0.0       1.0\n",
              "31282        47        21        10  ...       0.0       0.0       1.0\n",
              "31283        47        21        10  ...       0.0       0.0       1.0\n",
              "31284        47        21        10  ...       0.0       0.0       1.0\n",
              "\n",
              "[31285 rows x 9 columns]"
            ]
          },
          "metadata": {
            "tags": []
          },
          "execution_count": 53
        }
      ]
    },
    {
      "cell_type": "code",
      "metadata": {
        "id": "sh9__KamHlQ8",
        "colab_type": "code",
        "colab": {
          "base_uri": "https://localhost:8080/",
          "height": 418
        },
        "outputId": "1c2299cd-1045-463f-d8da-ee92305b6054"
      },
      "source": [
        "y"
      ],
      "execution_count": 54,
      "outputs": [
        {
          "output_type": "execute_result",
          "data": {
            "text/html": [
              "<div>\n",
              "<style scoped>\n",
              "    .dataframe tbody tr th:only-of-type {\n",
              "        vertical-align: middle;\n",
              "    }\n",
              "\n",
              "    .dataframe tbody tr th {\n",
              "        vertical-align: top;\n",
              "    }\n",
              "\n",
              "    .dataframe thead th {\n",
              "        text-align: right;\n",
              "    }\n",
              "</style>\n",
              "<table border=\"1\" class=\"dataframe\">\n",
              "  <thead>\n",
              "    <tr style=\"text-align: right;\">\n",
              "      <th></th>\n",
              "      <th>Secondary Sales Amount STC</th>\n",
              "      <th>Secondary Sales Amount Invoiced</th>\n",
              "      <th>Secondary Sales Amount Returned</th>\n",
              "      <th>Secondary Sales Quantity Invoiced</th>\n",
              "      <th>Secondary Sales Quantity Returned</th>\n",
              "    </tr>\n",
              "  </thead>\n",
              "  <tbody>\n",
              "    <tr>\n",
              "      <th>0</th>\n",
              "      <td>0.00</td>\n",
              "      <td>0.00</td>\n",
              "      <td>0.0</td>\n",
              "      <td>0.0</td>\n",
              "      <td>0.0</td>\n",
              "    </tr>\n",
              "    <tr>\n",
              "      <th>1</th>\n",
              "      <td>0.00</td>\n",
              "      <td>0.00</td>\n",
              "      <td>0.0</td>\n",
              "      <td>0.0</td>\n",
              "      <td>0.0</td>\n",
              "    </tr>\n",
              "    <tr>\n",
              "      <th>2</th>\n",
              "      <td>0.00</td>\n",
              "      <td>0.00</td>\n",
              "      <td>0.0</td>\n",
              "      <td>0.0</td>\n",
              "      <td>0.0</td>\n",
              "    </tr>\n",
              "    <tr>\n",
              "      <th>3</th>\n",
              "      <td>7103.14</td>\n",
              "      <td>7103.14</td>\n",
              "      <td>0.0</td>\n",
              "      <td>192.0</td>\n",
              "      <td>0.0</td>\n",
              "    </tr>\n",
              "    <tr>\n",
              "      <th>4</th>\n",
              "      <td>31971.88</td>\n",
              "      <td>31971.88</td>\n",
              "      <td>0.0</td>\n",
              "      <td>864.0</td>\n",
              "      <td>0.0</td>\n",
              "    </tr>\n",
              "    <tr>\n",
              "      <th>...</th>\n",
              "      <td>...</td>\n",
              "      <td>...</td>\n",
              "      <td>...</td>\n",
              "      <td>...</td>\n",
              "      <td>...</td>\n",
              "    </tr>\n",
              "    <tr>\n",
              "      <th>31280</th>\n",
              "      <td>134452.45</td>\n",
              "      <td>173412.00</td>\n",
              "      <td>2475.0</td>\n",
              "      <td>942.0</td>\n",
              "      <td>14.0</td>\n",
              "    </tr>\n",
              "    <tr>\n",
              "      <th>31281</th>\n",
              "      <td>244484.61</td>\n",
              "      <td>317213.00</td>\n",
              "      <td>2171.0</td>\n",
              "      <td>2052.0</td>\n",
              "      <td>13.0</td>\n",
              "    </tr>\n",
              "    <tr>\n",
              "      <th>31282</th>\n",
              "      <td>128772.79</td>\n",
              "      <td>166478.21</td>\n",
              "      <td>1518.0</td>\n",
              "      <td>1088.0</td>\n",
              "      <td>9.0</td>\n",
              "    </tr>\n",
              "    <tr>\n",
              "      <th>31283</th>\n",
              "      <td>63638.18</td>\n",
              "      <td>93754.01</td>\n",
              "      <td>2280.0</td>\n",
              "      <td>584.0</td>\n",
              "      <td>12.0</td>\n",
              "    </tr>\n",
              "    <tr>\n",
              "      <th>31284</th>\n",
              "      <td>102555.59</td>\n",
              "      <td>133454.00</td>\n",
              "      <td>380.0</td>\n",
              "      <td>927.0</td>\n",
              "      <td>2.0</td>\n",
              "    </tr>\n",
              "  </tbody>\n",
              "</table>\n",
              "<p>31285 rows × 5 columns</p>\n",
              "</div>"
            ],
            "text/plain": [
              "       Secondary Sales Amount STC  ...  Secondary Sales Quantity Returned\n",
              "0                            0.00  ...                                0.0\n",
              "1                            0.00  ...                                0.0\n",
              "2                            0.00  ...                                0.0\n",
              "3                         7103.14  ...                                0.0\n",
              "4                        31971.88  ...                                0.0\n",
              "...                           ...  ...                                ...\n",
              "31280                   134452.45  ...                               14.0\n",
              "31281                   244484.61  ...                               13.0\n",
              "31282                   128772.79  ...                                9.0\n",
              "31283                    63638.18  ...                               12.0\n",
              "31284                   102555.59  ...                                2.0\n",
              "\n",
              "[31285 rows x 5 columns]"
            ]
          },
          "metadata": {
            "tags": []
          },
          "execution_count": 54
        }
      ]
    },
    {
      "cell_type": "code",
      "metadata": {
        "id": "XewnQ8Y8HnUj",
        "colab_type": "code",
        "colab": {
          "base_uri": "https://localhost:8080/",
          "height": 402
        },
        "outputId": "6d8bec65-66f5-4dd5-abfd-7321a8bdc421"
      },
      "source": [
        "test_df"
      ],
      "execution_count": 55,
      "outputs": [
        {
          "output_type": "execute_result",
          "data": {
            "text/html": [
              "<div>\n",
              "<style scoped>\n",
              "    .dataframe tbody tr th:only-of-type {\n",
              "        vertical-align: middle;\n",
              "    }\n",
              "\n",
              "    .dataframe tbody tr th {\n",
              "        vertical-align: top;\n",
              "    }\n",
              "\n",
              "    .dataframe thead th {\n",
              "        text-align: right;\n",
              "    }\n",
              "</style>\n",
              "<table border=\"1\" class=\"dataframe\">\n",
              "  <thead>\n",
              "    <tr style=\"text-align: right;\">\n",
              "      <th></th>\n",
              "      <th>SKU Code</th>\n",
              "      <th>CFA Code</th>\n",
              "      <th>Quantity</th>\n",
              "      <th>SKU Combination</th>\n",
              "      <th>year</th>\n",
              "      <th>month</th>\n",
              "      <th>channel1</th>\n",
              "      <th>channel2</th>\n",
              "      <th>channel3</th>\n",
              "    </tr>\n",
              "  </thead>\n",
              "  <tbody>\n",
              "    <tr>\n",
              "      <th>0</th>\n",
              "      <td>8</td>\n",
              "      <td>0</td>\n",
              "      <td>2</td>\n",
              "      <td>0</td>\n",
              "      <td>2020</td>\n",
              "      <td>1</td>\n",
              "      <td>0.0</td>\n",
              "      <td>1.0</td>\n",
              "      <td>0.0</td>\n",
              "    </tr>\n",
              "    <tr>\n",
              "      <th>1</th>\n",
              "      <td>8</td>\n",
              "      <td>0</td>\n",
              "      <td>2</td>\n",
              "      <td>0</td>\n",
              "      <td>2020</td>\n",
              "      <td>2</td>\n",
              "      <td>0.0</td>\n",
              "      <td>1.0</td>\n",
              "      <td>0.0</td>\n",
              "    </tr>\n",
              "    <tr>\n",
              "      <th>2</th>\n",
              "      <td>8</td>\n",
              "      <td>0</td>\n",
              "      <td>2</td>\n",
              "      <td>1</td>\n",
              "      <td>2020</td>\n",
              "      <td>1</td>\n",
              "      <td>0.0</td>\n",
              "      <td>0.0</td>\n",
              "      <td>1.0</td>\n",
              "    </tr>\n",
              "    <tr>\n",
              "      <th>3</th>\n",
              "      <td>8</td>\n",
              "      <td>0</td>\n",
              "      <td>2</td>\n",
              "      <td>1</td>\n",
              "      <td>2020</td>\n",
              "      <td>2</td>\n",
              "      <td>0.0</td>\n",
              "      <td>0.0</td>\n",
              "      <td>1.0</td>\n",
              "    </tr>\n",
              "    <tr>\n",
              "      <th>4</th>\n",
              "      <td>8</td>\n",
              "      <td>1</td>\n",
              "      <td>2</td>\n",
              "      <td>3</td>\n",
              "      <td>2020</td>\n",
              "      <td>1</td>\n",
              "      <td>0.0</td>\n",
              "      <td>0.0</td>\n",
              "      <td>1.0</td>\n",
              "    </tr>\n",
              "    <tr>\n",
              "      <th>...</th>\n",
              "      <td>...</td>\n",
              "      <td>...</td>\n",
              "      <td>...</td>\n",
              "      <td>...</td>\n",
              "      <td>...</td>\n",
              "      <td>...</td>\n",
              "      <td>...</td>\n",
              "      <td>...</td>\n",
              "      <td>...</td>\n",
              "    </tr>\n",
              "    <tr>\n",
              "      <th>2604</th>\n",
              "      <td>47</td>\n",
              "      <td>21</td>\n",
              "      <td>10</td>\n",
              "      <td>1947</td>\n",
              "      <td>2020</td>\n",
              "      <td>2</td>\n",
              "      <td>1.0</td>\n",
              "      <td>0.0</td>\n",
              "      <td>0.0</td>\n",
              "    </tr>\n",
              "    <tr>\n",
              "      <th>2605</th>\n",
              "      <td>47</td>\n",
              "      <td>21</td>\n",
              "      <td>10</td>\n",
              "      <td>1948</td>\n",
              "      <td>2020</td>\n",
              "      <td>1</td>\n",
              "      <td>0.0</td>\n",
              "      <td>1.0</td>\n",
              "      <td>0.0</td>\n",
              "    </tr>\n",
              "    <tr>\n",
              "      <th>2606</th>\n",
              "      <td>47</td>\n",
              "      <td>21</td>\n",
              "      <td>10</td>\n",
              "      <td>1948</td>\n",
              "      <td>2020</td>\n",
              "      <td>2</td>\n",
              "      <td>0.0</td>\n",
              "      <td>1.0</td>\n",
              "      <td>0.0</td>\n",
              "    </tr>\n",
              "    <tr>\n",
              "      <th>2607</th>\n",
              "      <td>47</td>\n",
              "      <td>21</td>\n",
              "      <td>10</td>\n",
              "      <td>1949</td>\n",
              "      <td>2020</td>\n",
              "      <td>1</td>\n",
              "      <td>0.0</td>\n",
              "      <td>0.0</td>\n",
              "      <td>1.0</td>\n",
              "    </tr>\n",
              "    <tr>\n",
              "      <th>2608</th>\n",
              "      <td>47</td>\n",
              "      <td>21</td>\n",
              "      <td>10</td>\n",
              "      <td>1949</td>\n",
              "      <td>2020</td>\n",
              "      <td>2</td>\n",
              "      <td>0.0</td>\n",
              "      <td>0.0</td>\n",
              "      <td>1.0</td>\n",
              "    </tr>\n",
              "  </tbody>\n",
              "</table>\n",
              "<p>2609 rows × 9 columns</p>\n",
              "</div>"
            ],
            "text/plain": [
              "      SKU Code  CFA Code  Quantity  ...  channel1  channel2  channel3\n",
              "0            8         0         2  ...       0.0       1.0       0.0\n",
              "1            8         0         2  ...       0.0       1.0       0.0\n",
              "2            8         0         2  ...       0.0       0.0       1.0\n",
              "3            8         0         2  ...       0.0       0.0       1.0\n",
              "4            8         1         2  ...       0.0       0.0       1.0\n",
              "...        ...       ...       ...  ...       ...       ...       ...\n",
              "2604        47        21        10  ...       1.0       0.0       0.0\n",
              "2605        47        21        10  ...       0.0       1.0       0.0\n",
              "2606        47        21        10  ...       0.0       1.0       0.0\n",
              "2607        47        21        10  ...       0.0       0.0       1.0\n",
              "2608        47        21        10  ...       0.0       0.0       1.0\n",
              "\n",
              "[2609 rows x 9 columns]"
            ]
          },
          "metadata": {
            "tags": []
          },
          "execution_count": 55
        }
      ]
    },
    {
      "cell_type": "code",
      "metadata": {
        "id": "Le8inJlrHvXS",
        "colab_type": "code",
        "colab": {}
      },
      "source": [
        "from sklearn.model_selection import train_test_split\n",
        "X_train, X_test, y_train, y_test = train_test_split(train_df_scaled, test_df_scaled, test_size = 0.167)"
      ],
      "execution_count": 56,
      "outputs": []
    },
    {
      "cell_type": "code",
      "metadata": {
        "id": "aHaQUB-vIB-Z",
        "colab_type": "code",
        "colab": {}
      },
      "source": [
        "test = stsc1.transform(test_df)"
      ],
      "execution_count": 57,
      "outputs": []
    },
    {
      "cell_type": "code",
      "metadata": {
        "id": "wqdfl6HqIT5d",
        "colab_type": "code",
        "colab": {
          "base_uri": "https://localhost:8080/",
          "height": 424
        },
        "outputId": "cddc0be4-fbc2-4454-ea52-4c06782d0890"
      },
      "source": [
        "from xgboost import XGBRegressor\n",
        "from sklearn.multioutput import MultiOutputRegressor\n",
        "xgb = MultiOutputRegressor(XGBRegressor())\n",
        "xgb.fit(X_train, y_train)"
      ],
      "execution_count": 58,
      "outputs": [
        {
          "output_type": "stream",
          "text": [
            "/usr/local/lib/python3.6/dist-packages/xgboost/core.py:614: UserWarning: Use subset (sliced data) of np.ndarray is not recommended because it will generate extra copies and increase memory consumption\n",
            "  \"because it will generate extra copies and increase memory consumption\")\n"
          ],
          "name": "stderr"
        },
        {
          "output_type": "stream",
          "text": [
            "[02:18:44] WARNING: /workspace/src/objective/regression_obj.cu:152: reg:linear is now deprecated in favor of reg:squarederror.\n",
            "[02:18:45] WARNING: /workspace/src/objective/regression_obj.cu:152: reg:linear is now deprecated in favor of reg:squarederror.\n",
            "[02:18:46] WARNING: /workspace/src/objective/regression_obj.cu:152: reg:linear is now deprecated in favor of reg:squarederror.\n",
            "[02:18:46] WARNING: /workspace/src/objective/regression_obj.cu:152: reg:linear is now deprecated in favor of reg:squarederror.\n",
            "[02:18:47] WARNING: /workspace/src/objective/regression_obj.cu:152: reg:linear is now deprecated in favor of reg:squarederror.\n"
          ],
          "name": "stdout"
        },
        {
          "output_type": "execute_result",
          "data": {
            "text/plain": [
              "MultiOutputRegressor(estimator=XGBRegressor(base_score=0.5, booster='gbtree',\n",
              "                                            colsample_bylevel=1,\n",
              "                                            colsample_bynode=1,\n",
              "                                            colsample_bytree=1, gamma=0,\n",
              "                                            importance_type='gain',\n",
              "                                            learning_rate=0.1, max_delta_step=0,\n",
              "                                            max_depth=3, min_child_weight=1,\n",
              "                                            missing=None, n_estimators=100,\n",
              "                                            n_jobs=1, nthread=None,\n",
              "                                            objective='reg:linear',\n",
              "                                            random_state=0, reg_alpha=0,\n",
              "                                            reg_lambda=1, scale_pos_weight=1,\n",
              "                                            seed=None, silent=None, subsample=1,\n",
              "                                            verbosity=1),\n",
              "                     n_jobs=None)"
            ]
          },
          "metadata": {
            "tags": []
          },
          "execution_count": 58
        }
      ]
    },
    {
      "cell_type": "code",
      "metadata": {
        "id": "2h5bpLKaI3Zm",
        "colab_type": "code",
        "colab": {
          "base_uri": "https://localhost:8080/",
          "height": 298
        },
        "outputId": "fe9a29c2-976d-4504-a201-551baa63a430"
      },
      "source": [
        "from lightgbm import LGBMRegressor\n",
        "from sklearn.multioutput import MultiOutputRegressor\n",
        "lgb = MultiOutputRegressor(LGBMRegressor(boosting_type='gbdt',\n",
        "                                             class_weight=None,\n",
        "                                             colsample_bytree=1.0,\n",
        "                                             importance_type='split',\n",
        "                                             learning_rate=0.11108, max_depth= -1,\n",
        "                                             min_child_samples=15,\n",
        "                                             min_child_weight=0.001,\n",
        "                                             min_split_gain=0.0,\n",
        "                                             n_estimators=1000, n_jobs=-1,\n",
        "                                             num_leaves=36, objective=None,\n",
        "                                             random_state=None, reg_alpha=0.0,\n",
        "                                             reg_lambda=0.0, silent=True,\n",
        "                                             subsample=1.0,\n",
        "                                             subsample_for_bin=200000,\n",
        "                                             subsample_freq=0))\n",
        "lgb.fit(X_train, y_train)"
      ],
      "execution_count": 59,
      "outputs": [
        {
          "output_type": "execute_result",
          "data": {
            "text/plain": [
              "MultiOutputRegressor(estimator=LGBMRegressor(boosting_type='gbdt',\n",
              "                                             class_weight=None,\n",
              "                                             colsample_bytree=1.0,\n",
              "                                             importance_type='split',\n",
              "                                             learning_rate=0.11108,\n",
              "                                             max_depth=-1, min_child_samples=15,\n",
              "                                             min_child_weight=0.001,\n",
              "                                             min_split_gain=0.0,\n",
              "                                             n_estimators=1000, n_jobs=-1,\n",
              "                                             num_leaves=36, objective=None,\n",
              "                                             random_state=None, reg_alpha=0.0,\n",
              "                                             reg_lambda=0.0, silent=True,\n",
              "                                             subsample=1.0,\n",
              "                                             subsample_for_bin=200000,\n",
              "                                             subsample_freq=0),\n",
              "                     n_jobs=None)"
            ]
          },
          "metadata": {
            "tags": []
          },
          "execution_count": 59
        }
      ]
    },
    {
      "cell_type": "code",
      "metadata": {
        "id": "XV4FCxm7Il5b",
        "colab_type": "code",
        "colab": {
          "base_uri": "https://localhost:8080/",
          "height": 122
        },
        "outputId": "f9b75d3d-5098-43b5-d08b-4489ac0b0219"
      },
      "source": [
        "from sklearn.metrics import mean_absolute_error\n",
        "print(\"using XGBoost\")\n",
        "print(\"the error in training data is\", mean_absolute_error(y_train, xgb.predict(X_train)))\n",
        "print(\"the error in validation data is\", mean_absolute_error(y_test, xgb.predict(X_test)))\n",
        "print(\"using LGBoost\")\n",
        "print(\"the error in training data is\", mean_absolute_error(y_train, lgb.predict(X_train)))\n",
        "print(\"the error in validation data is\", mean_absolute_error(y_test, lgb.predict(X_test)))"
      ],
      "execution_count": 60,
      "outputs": [
        {
          "output_type": "stream",
          "text": [
            "using XGBoost\n",
            "the error in training data is 0.0074660918877192005\n",
            "the error in validation data is 0.007687601217121737\n",
            "using LGBoost\n",
            "the error in training data is 0.0030079548632908145\n",
            "the error in validation data is 0.004108034108045656\n"
          ],
          "name": "stdout"
        }
      ]
    },
    {
      "cell_type": "code",
      "metadata": {
        "id": "C-Tu9zemKvIs",
        "colab_type": "code",
        "colab": {
          "base_uri": "https://localhost:8080/",
          "height": 298
        },
        "outputId": "5f355fa9-3d69-4619-cee7-a2083957f011"
      },
      "source": [
        "from lightgbm import LGBMRegressor\n",
        "from sklearn.multioutput import MultiOutputRegressor\n",
        "lgb = MultiOutputRegressor(LGBMRegressor(boosting_type='gbdt',\n",
        "                                             class_weight=None,\n",
        "                                             colsample_bytree=1.0,\n",
        "                                             importance_type='split',\n",
        "                                             learning_rate=0.11108, max_depth=-1,\n",
        "                                             min_child_samples=15,\n",
        "                                             min_child_weight=0.001,\n",
        "                                             min_split_gain=0.0,\n",
        "                                             n_estimators=1000, n_jobs=-1,\n",
        "                                             num_leaves=36, objective=None,\n",
        "                                             random_state=None, reg_alpha=0.0,\n",
        "                                             reg_lambda=0.0, silent=True,\n",
        "                                             subsample=1.0,\n",
        "                                             subsample_for_bin=200000,\n",
        "                                             subsample_freq=0))\n",
        "lgb.fit(train_df_scaled, test_df_scaled)"
      ],
      "execution_count": 61,
      "outputs": [
        {
          "output_type": "execute_result",
          "data": {
            "text/plain": [
              "MultiOutputRegressor(estimator=LGBMRegressor(boosting_type='gbdt',\n",
              "                                             class_weight=None,\n",
              "                                             colsample_bytree=1.0,\n",
              "                                             importance_type='split',\n",
              "                                             learning_rate=0.11108,\n",
              "                                             max_depth=-1, min_child_samples=15,\n",
              "                                             min_child_weight=0.001,\n",
              "                                             min_split_gain=0.0,\n",
              "                                             n_estimators=1000, n_jobs=-1,\n",
              "                                             num_leaves=36, objective=None,\n",
              "                                             random_state=None, reg_alpha=0.0,\n",
              "                                             reg_lambda=0.0, silent=True,\n",
              "                                             subsample=1.0,\n",
              "                                             subsample_for_bin=200000,\n",
              "                                             subsample_freq=0),\n",
              "                     n_jobs=None)"
            ]
          },
          "metadata": {
            "tags": []
          },
          "execution_count": 61
        }
      ]
    },
    {
      "cell_type": "code",
      "metadata": {
        "id": "gNohtVcoK8UZ",
        "colab_type": "code",
        "colab": {
          "base_uri": "https://localhost:8080/",
          "height": 34
        },
        "outputId": "4e4ff349-3895-4a1e-a825-3a10ce66b370"
      },
      "source": [
        "print(\"the error in training data is\", mean_absolute_error(test_df_scaled, lgb.predict(train_df_scaled)))"
      ],
      "execution_count": 62,
      "outputs": [
        {
          "output_type": "stream",
          "text": [
            "the error in training data is 0.00303629651516808\n"
          ],
          "name": "stdout"
        }
      ]
    },
    {
      "cell_type": "code",
      "metadata": {
        "id": "fX_xUNBHLI6r",
        "colab_type": "code",
        "colab": {}
      },
      "source": [
        "y_pred = lgb.predict(test)"
      ],
      "execution_count": 63,
      "outputs": []
    },
    {
      "cell_type": "code",
      "metadata": {
        "id": "yzU4fGIELQdz",
        "colab_type": "code",
        "colab": {}
      },
      "source": [
        "output.iloc[:, 2:] = stsc2.inverse_transform(y_pred)"
      ],
      "execution_count": 64,
      "outputs": []
    },
    {
      "cell_type": "code",
      "metadata": {
        "id": "0f2heqBOLodV",
        "colab_type": "code",
        "colab": {}
      },
      "source": [
        "output.to_csv('output.csv', index = False)"
      ],
      "execution_count": 65,
      "outputs": []
    },
    {
      "cell_type": "code",
      "metadata": {
        "id": "udwpCH34LqaO",
        "colab_type": "code",
        "colab": {
          "base_uri": "https://localhost:8080/",
          "height": 296
        },
        "outputId": "62f2c352-5deb-41bb-d42f-f968a0a956a7"
      },
      "source": [
        "output.head()"
      ],
      "execution_count": 66,
      "outputs": [
        {
          "output_type": "execute_result",
          "data": {
            "text/html": [
              "<div>\n",
              "<style scoped>\n",
              "    .dataframe tbody tr th:only-of-type {\n",
              "        vertical-align: middle;\n",
              "    }\n",
              "\n",
              "    .dataframe tbody tr th {\n",
              "        vertical-align: top;\n",
              "    }\n",
              "\n",
              "    .dataframe thead th {\n",
              "        text-align: right;\n",
              "    }\n",
              "</style>\n",
              "<table border=\"1\" class=\"dataframe\">\n",
              "  <thead>\n",
              "    <tr style=\"text-align: right;\">\n",
              "      <th></th>\n",
              "      <th>DATE</th>\n",
              "      <th>SKU Combination</th>\n",
              "      <th>Secondary Sales Amount STC</th>\n",
              "      <th>Secondary Sales Amount Invoiced</th>\n",
              "      <th>Secondary Sales Amount Returned</th>\n",
              "      <th>Secondary Sales Quantity Invoiced</th>\n",
              "      <th>Secondary Sales Quantity Returned</th>\n",
              "    </tr>\n",
              "  </thead>\n",
              "  <tbody>\n",
              "    <tr>\n",
              "      <th>0</th>\n",
              "      <td>2020-01-01</td>\n",
              "      <td>0</td>\n",
              "      <td>1.771099e+05</td>\n",
              "      <td>1.582491e+05</td>\n",
              "      <td>400.214650</td>\n",
              "      <td>5370.838419</td>\n",
              "      <td>22.401416</td>\n",
              "    </tr>\n",
              "    <tr>\n",
              "      <th>1</th>\n",
              "      <td>2020-02-01</td>\n",
              "      <td>0</td>\n",
              "      <td>7.062805e+04</td>\n",
              "      <td>7.484887e+04</td>\n",
              "      <td>1140.939475</td>\n",
              "      <td>1258.808055</td>\n",
              "      <td>51.411451</td>\n",
              "    </tr>\n",
              "    <tr>\n",
              "      <th>2</th>\n",
              "      <td>2020-01-01</td>\n",
              "      <td>1</td>\n",
              "      <td>1.234287e+06</td>\n",
              "      <td>1.220614e+06</td>\n",
              "      <td>-4002.186038</td>\n",
              "      <td>39478.563611</td>\n",
              "      <td>-3.659613</td>\n",
              "    </tr>\n",
              "    <tr>\n",
              "      <th>3</th>\n",
              "      <td>2020-02-01</td>\n",
              "      <td>1</td>\n",
              "      <td>4.872581e+05</td>\n",
              "      <td>6.520427e+05</td>\n",
              "      <td>17603.819713</td>\n",
              "      <td>14482.405434</td>\n",
              "      <td>437.970076</td>\n",
              "    </tr>\n",
              "    <tr>\n",
              "      <th>4</th>\n",
              "      <td>2020-01-01</td>\n",
              "      <td>3</td>\n",
              "      <td>8.414995e+05</td>\n",
              "      <td>8.312060e+05</td>\n",
              "      <td>-5809.233345</td>\n",
              "      <td>26510.683138</td>\n",
              "      <td>-130.598434</td>\n",
              "    </tr>\n",
              "  </tbody>\n",
              "</table>\n",
              "</div>"
            ],
            "text/plain": [
              "         DATE  ...  Secondary Sales Quantity Returned\n",
              "0  2020-01-01  ...                          22.401416\n",
              "1  2020-02-01  ...                          51.411451\n",
              "2  2020-01-01  ...                          -3.659613\n",
              "3  2020-02-01  ...                         437.970076\n",
              "4  2020-01-01  ...                        -130.598434\n",
              "\n",
              "[5 rows x 7 columns]"
            ]
          },
          "metadata": {
            "tags": []
          },
          "execution_count": 66
        }
      ]
    },
    {
      "cell_type": "code",
      "metadata": {
        "id": "nmFbSzPQBr_p",
        "colab_type": "code",
        "colab": {
          "base_uri": "https://localhost:8080/",
          "height": 586
        },
        "outputId": "e44a91ac-9124-473d-bf0f-fcbd61b3de41"
      },
      "source": [
        "output"
      ],
      "execution_count": 74,
      "outputs": [
        {
          "output_type": "execute_result",
          "data": {
            "text/html": [
              "<div>\n",
              "<style scoped>\n",
              "    .dataframe tbody tr th:only-of-type {\n",
              "        vertical-align: middle;\n",
              "    }\n",
              "\n",
              "    .dataframe tbody tr th {\n",
              "        vertical-align: top;\n",
              "    }\n",
              "\n",
              "    .dataframe thead th {\n",
              "        text-align: right;\n",
              "    }\n",
              "</style>\n",
              "<table border=\"1\" class=\"dataframe\">\n",
              "  <thead>\n",
              "    <tr style=\"text-align: right;\">\n",
              "      <th></th>\n",
              "      <th>DATE</th>\n",
              "      <th>SKU Combination</th>\n",
              "      <th>Secondary Sales Amount STC</th>\n",
              "      <th>Secondary Sales Amount Invoiced</th>\n",
              "      <th>Secondary Sales Amount Returned</th>\n",
              "      <th>Secondary Sales Quantity Invoiced</th>\n",
              "      <th>Secondary Sales Quantity Returned</th>\n",
              "    </tr>\n",
              "  </thead>\n",
              "  <tbody>\n",
              "    <tr>\n",
              "      <th>0</th>\n",
              "      <td>2020-01-01</td>\n",
              "      <td>0</td>\n",
              "      <td>1.771099e+05</td>\n",
              "      <td>1.582491e+05</td>\n",
              "      <td>400.214650</td>\n",
              "      <td>5370.838419</td>\n",
              "      <td>22.401416</td>\n",
              "    </tr>\n",
              "    <tr>\n",
              "      <th>1</th>\n",
              "      <td>2020-02-01</td>\n",
              "      <td>0</td>\n",
              "      <td>7.062805e+04</td>\n",
              "      <td>7.484887e+04</td>\n",
              "      <td>1140.939475</td>\n",
              "      <td>1258.808055</td>\n",
              "      <td>51.411451</td>\n",
              "    </tr>\n",
              "    <tr>\n",
              "      <th>2</th>\n",
              "      <td>2020-01-01</td>\n",
              "      <td>1</td>\n",
              "      <td>1.234287e+06</td>\n",
              "      <td>1.220614e+06</td>\n",
              "      <td>-4002.186038</td>\n",
              "      <td>39478.563611</td>\n",
              "      <td>-3.659613</td>\n",
              "    </tr>\n",
              "    <tr>\n",
              "      <th>3</th>\n",
              "      <td>2020-02-01</td>\n",
              "      <td>1</td>\n",
              "      <td>4.872581e+05</td>\n",
              "      <td>6.520427e+05</td>\n",
              "      <td>17603.819713</td>\n",
              "      <td>14482.405434</td>\n",
              "      <td>437.970076</td>\n",
              "    </tr>\n",
              "    <tr>\n",
              "      <th>4</th>\n",
              "      <td>2020-01-01</td>\n",
              "      <td>3</td>\n",
              "      <td>8.414995e+05</td>\n",
              "      <td>8.312060e+05</td>\n",
              "      <td>-5809.233345</td>\n",
              "      <td>26510.683138</td>\n",
              "      <td>-130.598434</td>\n",
              "    </tr>\n",
              "    <tr>\n",
              "      <th>...</th>\n",
              "      <td>...</td>\n",
              "      <td>...</td>\n",
              "      <td>...</td>\n",
              "      <td>...</td>\n",
              "      <td>...</td>\n",
              "      <td>...</td>\n",
              "      <td>...</td>\n",
              "    </tr>\n",
              "    <tr>\n",
              "      <th>2604</th>\n",
              "      <td>2020-02-01</td>\n",
              "      <td>1947</td>\n",
              "      <td>3.278247e+04</td>\n",
              "      <td>3.591039e+04</td>\n",
              "      <td>3151.595902</td>\n",
              "      <td>394.758227</td>\n",
              "      <td>12.804739</td>\n",
              "    </tr>\n",
              "    <tr>\n",
              "      <th>2605</th>\n",
              "      <td>2020-01-01</td>\n",
              "      <td>1948</td>\n",
              "      <td>1.988156e+05</td>\n",
              "      <td>1.956296e+05</td>\n",
              "      <td>-23854.249028</td>\n",
              "      <td>1901.506813</td>\n",
              "      <td>-133.110310</td>\n",
              "    </tr>\n",
              "    <tr>\n",
              "      <th>2606</th>\n",
              "      <td>2020-02-01</td>\n",
              "      <td>1948</td>\n",
              "      <td>1.735637e+05</td>\n",
              "      <td>1.937379e+05</td>\n",
              "      <td>1729.043771</td>\n",
              "      <td>1050.601688</td>\n",
              "      <td>-11.460893</td>\n",
              "    </tr>\n",
              "    <tr>\n",
              "      <th>2607</th>\n",
              "      <td>2020-01-01</td>\n",
              "      <td>1949</td>\n",
              "      <td>3.203365e+05</td>\n",
              "      <td>3.294133e+05</td>\n",
              "      <td>-5234.679418</td>\n",
              "      <td>2051.782836</td>\n",
              "      <td>-28.536287</td>\n",
              "    </tr>\n",
              "    <tr>\n",
              "      <th>2608</th>\n",
              "      <td>2020-02-01</td>\n",
              "      <td>1949</td>\n",
              "      <td>2.834607e+05</td>\n",
              "      <td>3.423621e+05</td>\n",
              "      <td>12564.405021</td>\n",
              "      <td>1801.114107</td>\n",
              "      <td>70.068375</td>\n",
              "    </tr>\n",
              "  </tbody>\n",
              "</table>\n",
              "<p>2609 rows × 7 columns</p>\n",
              "</div>"
            ],
            "text/plain": [
              "            DATE  ...  Secondary Sales Quantity Returned\n",
              "0     2020-01-01  ...                          22.401416\n",
              "1     2020-02-01  ...                          51.411451\n",
              "2     2020-01-01  ...                          -3.659613\n",
              "3     2020-02-01  ...                         437.970076\n",
              "4     2020-01-01  ...                        -130.598434\n",
              "...          ...  ...                                ...\n",
              "2604  2020-02-01  ...                          12.804739\n",
              "2605  2020-01-01  ...                        -133.110310\n",
              "2606  2020-02-01  ...                         -11.460893\n",
              "2607  2020-01-01  ...                         -28.536287\n",
              "2608  2020-02-01  ...                          70.068375\n",
              "\n",
              "[2609 rows x 7 columns]"
            ]
          },
          "metadata": {
            "tags": []
          },
          "execution_count": 74
        }
      ]
    },
    {
      "cell_type": "code",
      "metadata": {
        "id": "n282rIJcMjUR",
        "colab_type": "code",
        "colab": {}
      },
      "source": [
        "promotional_df = pd.read_csv(\"/content/Promotional_Data.csv\")"
      ],
      "execution_count": 67,
      "outputs": []
    },
    {
      "cell_type": "code",
      "metadata": {
        "id": "Py3qAj-aMqOS",
        "colab_type": "code",
        "colab": {
          "base_uri": "https://localhost:8080/",
          "height": 34
        },
        "outputId": "a6d318dc-ec0b-4c1c-96e4-f0956a4f70d9"
      },
      "source": [
        "promotional_df.shape"
      ],
      "execution_count": 68,
      "outputs": [
        {
          "output_type": "execute_result",
          "data": {
            "text/plain": [
              "(962, 4)"
            ]
          },
          "metadata": {
            "tags": []
          },
          "execution_count": 68
        }
      ]
    },
    {
      "cell_type": "code",
      "metadata": {
        "id": "WGsofsLIPZvo",
        "colab_type": "code",
        "colab": {}
      },
      "source": [
        "import tensorflow as tf\n",
        "from tensorflow import keras"
      ],
      "execution_count": 69,
      "outputs": []
    },
    {
      "cell_type": "code",
      "metadata": {
        "id": "Tq-u6rQoPhw1",
        "colab_type": "code",
        "colab": {}
      },
      "source": [
        "model = keras.models.Sequential([\n",
        "                                 \n",
        "    keras.layers.Flatten(),\n",
        "    keras.layers.BatchNormalization(),\n",
        "    keras.layers.Dense(100, activation = 'relu'),\n",
        "    keras.layers.BatchNormalization(),\n",
        "    keras.layers.Dense(60, activation = 'relu'),\n",
        "    keras.layers.BatchNormalization(),\n",
        "    keras.layers.Dense(30, activation = 'relu'),\n",
        "    keras.layers.BatchNormalization(),\n",
        "    keras.layers.Dense(5)\n",
        "])"
      ],
      "execution_count": 70,
      "outputs": []
    },
    {
      "cell_type": "code",
      "metadata": {
        "id": "J9rhcYdzQikv",
        "colab_type": "code",
        "colab": {}
      },
      "source": [
        "model.compile(loss = \"mean_absolute_error\", optimizer = \"sgd\")"
      ],
      "execution_count": 71,
      "outputs": []
    },
    {
      "cell_type": "code",
      "metadata": {
        "id": "LFoE7XxgQsgn",
        "colab_type": "code",
        "colab": {}
      },
      "source": [
        "#history = model.fit(X_train, y_train, epochs = 50, validation_data = (X_test, y_test))"
      ],
      "execution_count": 72,
      "outputs": []
    },
    {
      "cell_type": "code",
      "metadata": {
        "id": "IGWl_Y3CRtdP",
        "colab_type": "code",
        "colab": {
          "base_uri": "https://localhost:8080/",
          "height": 70
        },
        "outputId": "5781db73-f805-42b3-8913-09a02304501b"
      },
      "source": [
        "print(\"using neural networks\")\n",
        "print(\"training_data\", mean_absolute_error(y_train, model.predict(X_train)))\n",
        "print(\"valid_data\", mean_absolute_error(y_test, model.predict(X_test)))"
      ],
      "execution_count": 73,
      "outputs": [
        {
          "output_type": "stream",
          "text": [
            "using neural networks\n",
            "training_data 0.1653815308597573\n",
            "valid_data 0.1660207818372807\n"
          ],
          "name": "stdout"
        }
      ]
    }
  ]
}