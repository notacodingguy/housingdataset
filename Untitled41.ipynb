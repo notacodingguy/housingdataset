{
  "nbformat": 4,
  "nbformat_minor": 0,
  "metadata": {
    "colab": {
      "name": "Untitled41.ipynb",
      "provenance": [],
      "authorship_tag": "ABX9TyOjj9zEFgubROfchDCllfFW",
      "include_colab_link": true
    },
    "kernelspec": {
      "name": "python3",
      "display_name": "Python 3"
    }
  },
  "cells": [
    {
      "cell_type": "markdown",
      "metadata": {
        "id": "view-in-github",
        "colab_type": "text"
      },
      "source": [
        "<a href=\"https://colab.research.google.com/github/notacodingguy/housingdataset/blob/master/Untitled41.ipynb\" target=\"_parent\"><img src=\"https://colab.research.google.com/assets/colab-badge.svg\" alt=\"Open In Colab\"/></a>"
      ]
    },
    {
      "cell_type": "code",
      "metadata": {
        "id": "OrtMXz8yyS76"
      },
      "source": [
        "import sklearn\n",
        "import pandas as pd\n",
        "import numpy as np"
      ],
      "execution_count": 1,
      "outputs": []
    },
    {
      "cell_type": "code",
      "metadata": {
        "id": "1h6vMWSeyZK9"
      },
      "source": [
        "import sklearn.datasets"
      ],
      "execution_count": 5,
      "outputs": []
    },
    {
      "cell_type": "code",
      "metadata": {
        "id": "D9wbs61I3Goj"
      },
      "source": [
        "from sklearn.metrics import accuracy_score\n",
        "from sklearn.model_selection import train_test_split"
      ],
      "execution_count": 7,
      "outputs": []
    },
    {
      "cell_type": "code",
      "metadata": {
        "id": "uq2xLBkx4SFk",
        "outputId": "359d0ddd-c267-4b1d-f1bb-0c1f3038d4a0",
        "colab": {
          "base_uri": "https://localhost:8080/",
          "height": 228
        }
      },
      "source": [
        "!pip install --quiet optuna"
      ],
      "execution_count": 9,
      "outputs": [
        {
          "output_type": "stream",
          "text": [
            "\u001b[?25l\r\u001b[K     |█▍                              | 10kB 23.5MB/s eta 0:00:01\r\u001b[K     |██▉                             | 20kB 1.5MB/s eta 0:00:01\r\u001b[K     |████▎                           | 30kB 1.8MB/s eta 0:00:01\r\u001b[K     |█████▋                          | 40kB 2.1MB/s eta 0:00:01\r\u001b[K     |███████                         | 51kB 1.9MB/s eta 0:00:01\r\u001b[K     |████████▌                       | 61kB 2.1MB/s eta 0:00:01\r\u001b[K     |█████████▉                      | 71kB 2.3MB/s eta 0:00:01\r\u001b[K     |███████████▎                    | 81kB 2.5MB/s eta 0:00:01\r\u001b[K     |████████████▊                   | 92kB 2.4MB/s eta 0:00:01\r\u001b[K     |██████████████                  | 102kB 2.6MB/s eta 0:00:01\r\u001b[K     |███████████████▌                | 112kB 2.6MB/s eta 0:00:01\r\u001b[K     |█████████████████               | 122kB 2.6MB/s eta 0:00:01\r\u001b[K     |██████████████████▎             | 133kB 2.6MB/s eta 0:00:01\r\u001b[K     |███████████████████▊            | 143kB 2.6MB/s eta 0:00:01\r\u001b[K     |█████████████████████▏          | 153kB 2.6MB/s eta 0:00:01\r\u001b[K     |██████████████████████▌         | 163kB 2.6MB/s eta 0:00:01\r\u001b[K     |████████████████████████        | 174kB 2.6MB/s eta 0:00:01\r\u001b[K     |█████████████████████████▍      | 184kB 2.6MB/s eta 0:00:01\r\u001b[K     |██████████████████████████▊     | 194kB 2.6MB/s eta 0:00:01\r\u001b[K     |████████████████████████████▏   | 204kB 2.6MB/s eta 0:00:01\r\u001b[K     |█████████████████████████████▋  | 215kB 2.6MB/s eta 0:00:01\r\u001b[K     |███████████████████████████████ | 225kB 2.6MB/s eta 0:00:01\r\u001b[K     |████████████████████████████████| 235kB 2.6MB/s \n",
            "\u001b[?25h  Installing build dependencies ... \u001b[?25l\u001b[?25hdone\n",
            "  Getting requirements to build wheel ... \u001b[?25l\u001b[?25hdone\n",
            "    Preparing wheel metadata ... \u001b[?25l\u001b[?25hdone\n",
            "\u001b[K     |████████████████████████████████| 81kB 3.7MB/s \n",
            "\u001b[K     |████████████████████████████████| 163kB 4.5MB/s \n",
            "\u001b[K     |████████████████████████████████| 133kB 5.4MB/s \n",
            "\u001b[K     |████████████████████████████████| 112kB 6.5MB/s \n",
            "\u001b[K     |████████████████████████████████| 51kB 4.8MB/s \n",
            "\u001b[K     |████████████████████████████████| 81kB 5.0MB/s \n",
            "\u001b[?25h  Building wheel for optuna (PEP 517) ... \u001b[?25l\u001b[?25hdone\n",
            "  Building wheel for pyperclip (setup.py) ... \u001b[?25l\u001b[?25hdone\n"
          ],
          "name": "stdout"
        }
      ]
    },
    {
      "cell_type": "code",
      "metadata": {
        "id": "ez5Dv-wl31-X"
      },
      "source": [
        "import optuna"
      ],
      "execution_count": 10,
      "outputs": []
    },
    {
      "cell_type": "code",
      "metadata": {
        "id": "upuwv8Ou3jqb"
      },
      "source": [
        "import optuna.integration.lightgbm as lgb"
      ],
      "execution_count": 11,
      "outputs": []
    },
    {
      "cell_type": "code",
      "metadata": {
        "id": "8754bLCJ3wH7"
      },
      "source": [
        "data, target = sklearn.datasets.load_breast_cancer(return_X_y = True)"
      ],
      "execution_count": 13,
      "outputs": []
    },
    {
      "cell_type": "code",
      "metadata": {
        "id": "CLoHziDV5G11"
      },
      "source": [
        "train_x, val_x, train_y, val_y = train_test_split(data, target, test_size = 0.25)\n",
        "dtrain = lgb.Dataset(train_x, label = train_y)\n",
        "dval = lgb.Dataset(val_x, label = val_y)"
      ],
      "execution_count": 14,
      "outputs": []
    },
    {
      "cell_type": "code",
      "metadata": {
        "id": "izL8nGrq5tRq"
      },
      "source": [
        "params= {\n",
        "    \"objective\": \"binary\",\n",
        "    \"metric\": \"binary_logloss\",\n",
        "    \"verbosity\": -1,\n",
        "    \"boosting_type\": \"gbdt\",\n",
        "}"
      ],
      "execution_count": 18,
      "outputs": []
    },
    {
      "cell_type": "code",
      "metadata": {
        "id": "8QiVt1Si6KZd",
        "outputId": "b25ebae9-0e97-4651-bf19-66002289c151",
        "colab": {
          "base_uri": "https://localhost:8080/",
          "height": 1000
        }
      },
      "source": [
        "model = lgb.train(params, dtrain, valid_sets = [dtrain, dval], verbose_eval = 100, early_stopping_rounds = 100)"
      ],
      "execution_count": 19,
      "outputs": [
        {
          "output_type": "stream",
          "text": [
            "[I 2020-09-25 20:19:13,598] A new study created in memory with name: no-name-f859a4b7-50c3-4bd3-9d4b-02b4d1c6ff6c\n",
            "\n",
            "\n",
            "  0%|          | 0/7 [00:00<?, ?it/s]\n",
            "\n",
            "feature_fraction, val_score: inf:   0%|          | 0/7 [00:00<?, ?it/s]"
          ],
          "name": "stderr"
        },
        {
          "output_type": "stream",
          "text": [
            "Training until validation scores don't improve for 100 rounds.\n",
            "[100]\ttraining's binary_logloss: 0.000839246\tvalid_1's binary_logloss: 0.0545534\n",
            "[200]\ttraining's binary_logloss: 9.26054e-06\tvalid_1's binary_logloss: 0.0565389\n",
            "Early stopping, best iteration is:\n",
            "[132]\ttraining's binary_logloss: 0.000129567\tvalid_1's binary_logloss: 0.0458537\n"
          ],
          "name": "stdout"
        },
        {
          "output_type": "stream",
          "text": [
            "\n",
            "\n",
            "feature_fraction, val_score: 0.045854:   0%|          | 0/7 [00:00<?, ?it/s]\n",
            "\n",
            "feature_fraction, val_score: 0.045854:  14%|#4        | 1/7 [00:00<00:01,  3.94it/s][I 2020-09-25 20:19:13,880] Trial 0 finished with value: 0.04585369735454893 and parameters: {'feature_fraction': 0.8999999999999999}. Best is trial 0 with value: 0.04585369735454893.\n",
            "\n",
            "\n",
            "feature_fraction, val_score: 0.045854:  14%|#4        | 1/7 [00:00<00:01,  3.94it/s]"
          ],
          "name": "stderr"
        },
        {
          "output_type": "stream",
          "text": [
            "Training until validation scores don't improve for 100 rounds.\n",
            "[100]\ttraining's binary_logloss: 0.000905371\tvalid_1's binary_logloss: 0.0537295\n",
            "[200]\ttraining's binary_logloss: 9.34225e-06\tvalid_1's binary_logloss: 0.0587414\n",
            "Early stopping, best iteration is:\n",
            "[124]\ttraining's binary_logloss: 0.000212936\tvalid_1's binary_logloss: 0.0489956\n"
          ],
          "name": "stdout"
        },
        {
          "output_type": "stream",
          "text": [
            "\n",
            "\n",
            "feature_fraction, val_score: 0.045854:  14%|#4        | 1/7 [00:00<00:01,  3.94it/s]\n",
            "\n",
            "feature_fraction, val_score: 0.045854:  29%|##8       | 2/7 [00:00<00:01,  4.16it/s][I 2020-09-25 20:19:14,085] Trial 1 finished with value: 0.048995559285049166 and parameters: {'feature_fraction': 0.7}. Best is trial 0 with value: 0.04585369735454893.\n",
            "\n",
            "\n",
            "feature_fraction, val_score: 0.045854:  29%|##8       | 2/7 [00:00<00:01,  4.16it/s]"
          ],
          "name": "stderr"
        },
        {
          "output_type": "stream",
          "text": [
            "Training until validation scores don't improve for 100 rounds.\n",
            "[100]\ttraining's binary_logloss: 0.000806129\tvalid_1's binary_logloss: 0.0559829\n",
            "[200]\ttraining's binary_logloss: 9.52186e-06\tvalid_1's binary_logloss: 0.0614427\n",
            "Early stopping, best iteration is:\n",
            "[128]\ttraining's binary_logloss: 0.000158661\tvalid_1's binary_logloss: 0.05019\n"
          ],
          "name": "stdout"
        },
        {
          "output_type": "stream",
          "text": [
            "\n",
            "\n",
            "feature_fraction, val_score: 0.045854:  29%|##8       | 2/7 [00:00<00:01,  4.16it/s]\n",
            "\n",
            "feature_fraction, val_score: 0.045854:  43%|####2     | 3/7 [00:00<00:00,  4.23it/s][I 2020-09-25 20:19:14,312] Trial 2 finished with value: 0.050189954846752156 and parameters: {'feature_fraction': 0.8}. Best is trial 0 with value: 0.04585369735454893.\n",
            "\n",
            "\n",
            "feature_fraction, val_score: 0.045854:  43%|####2     | 3/7 [00:00<00:00,  4.23it/s]"
          ],
          "name": "stderr"
        },
        {
          "output_type": "stream",
          "text": [
            "Training until validation scores don't improve for 100 rounds.\n",
            "[100]\ttraining's binary_logloss: 0.000941116\tvalid_1's binary_logloss: 0.0502506\n",
            "Early stopping, best iteration is:\n",
            "[99]\ttraining's binary_logloss: 0.00100863\tvalid_1's binary_logloss: 0.0484162\n"
          ],
          "name": "stdout"
        },
        {
          "output_type": "stream",
          "text": [
            "\n",
            "\n",
            "feature_fraction, val_score: 0.045854:  43%|####2     | 3/7 [00:00<00:00,  4.23it/s]\n",
            "\n",
            "feature_fraction, val_score: 0.045854:  57%|#####7    | 4/7 [00:00<00:00,  4.50it/s][I 2020-09-25 20:19:14,502] Trial 3 finished with value: 0.04841623403920217 and parameters: {'feature_fraction': 0.6}. Best is trial 0 with value: 0.04585369735454893.\n",
            "\n",
            "\n",
            "feature_fraction, val_score: 0.045854:  57%|#####7    | 4/7 [00:00<00:00,  4.50it/s]"
          ],
          "name": "stderr"
        },
        {
          "output_type": "stream",
          "text": [
            "Training until validation scores don't improve for 100 rounds.\n",
            "[100]\ttraining's binary_logloss: 0.00121209\tvalid_1's binary_logloss: 0.0550984\n",
            "Early stopping, best iteration is:\n",
            "[74]\ttraining's binary_logloss: 0.00499876\tvalid_1's binary_logloss: 0.051306\n"
          ],
          "name": "stdout"
        },
        {
          "output_type": "stream",
          "text": [
            "\n",
            "\n",
            "feature_fraction, val_score: 0.045854:  57%|#####7    | 4/7 [00:01<00:00,  4.50it/s]\n",
            "\n",
            "feature_fraction, val_score: 0.045854:  71%|#######1  | 5/7 [00:01<00:00,  4.95it/s][I 2020-09-25 20:19:14,657] Trial 4 finished with value: 0.05130600146781291 and parameters: {'feature_fraction': 0.4}. Best is trial 0 with value: 0.04585369735454893.\n",
            "\n",
            "\n",
            "feature_fraction, val_score: 0.045854:  71%|#######1  | 5/7 [00:01<00:00,  4.95it/s]"
          ],
          "name": "stderr"
        },
        {
          "output_type": "stream",
          "text": [
            "Training until validation scores don't improve for 100 rounds.\n",
            "[100]\ttraining's binary_logloss: 0.00104707\tvalid_1's binary_logloss: 0.0543736\n",
            "[200]\ttraining's binary_logloss: 1.07836e-05\tvalid_1's binary_logloss: 0.0572668\n",
            "Early stopping, best iteration is:\n",
            "[111]\ttraining's binary_logloss: 0.00056929\tvalid_1's binary_logloss: 0.0513161\n"
          ],
          "name": "stdout"
        },
        {
          "output_type": "stream",
          "text": [
            "\n",
            "\n",
            "feature_fraction, val_score: 0.045854:  71%|#######1  | 5/7 [00:01<00:00,  4.95it/s]\n",
            "\n",
            "feature_fraction, val_score: 0.045854:  86%|########5 | 6/7 [00:01<00:00,  4.98it/s][I 2020-09-25 20:19:14,856] Trial 5 finished with value: 0.05131607162696429 and parameters: {'feature_fraction': 0.5}. Best is trial 0 with value: 0.04585369735454893.\n",
            "\n",
            "\n",
            "feature_fraction, val_score: 0.045854:  86%|########5 | 6/7 [00:01<00:00,  4.98it/s]"
          ],
          "name": "stderr"
        },
        {
          "output_type": "stream",
          "text": [
            "Training until validation scores don't improve for 100 rounds.\n",
            "[100]\ttraining's binary_logloss: 0.00083294\tvalid_1's binary_logloss: 0.0559055\n",
            "[200]\ttraining's binary_logloss: 9.03974e-06\tvalid_1's binary_logloss: 0.0662789\n",
            "Early stopping, best iteration is:\n",
            "[108]\ttraining's binary_logloss: 0.000518951\tvalid_1's binary_logloss: 0.0545275\n"
          ],
          "name": "stdout"
        },
        {
          "output_type": "stream",
          "text": [
            "\n",
            "\n",
            "feature_fraction, val_score: 0.045854:  86%|########5 | 6/7 [00:01<00:00,  4.98it/s]\n",
            "\n",
            "feature_fraction, val_score: 0.045854: 100%|##########| 7/7 [00:01<00:00,  4.59it/s][I 2020-09-25 20:19:15,115] Trial 6 finished with value: 0.05452749321150928 and parameters: {'feature_fraction': 1.0}. Best is trial 0 with value: 0.04585369735454893.\n",
            "feature_fraction, val_score: 0.045854: 100%|##########| 7/7 [00:01<00:00,  4.66it/s]\n",
            "\n",
            "\n",
            "  0%|          | 0/20 [00:00<?, ?it/s]\n",
            "\n",
            "num_leaves, val_score: 0.045854:   0%|          | 0/20 [00:00<?, ?it/s]"
          ],
          "name": "stderr"
        },
        {
          "output_type": "stream",
          "text": [
            "Training until validation scores don't improve for 100 rounds.\n",
            "[100]\ttraining's binary_logloss: 0.000839246\tvalid_1's binary_logloss: 0.0545534\n",
            "[200]\ttraining's binary_logloss: 9.26054e-06\tvalid_1's binary_logloss: 0.0565389\n",
            "Early stopping, best iteration is:\n",
            "[132]\ttraining's binary_logloss: 0.000129567\tvalid_1's binary_logloss: 0.0458537\n"
          ],
          "name": "stdout"
        },
        {
          "output_type": "stream",
          "text": [
            "\n",
            "\n",
            "num_leaves, val_score: 0.045854:   0%|          | 0/20 [00:00<?, ?it/s]\n",
            "\n",
            "num_leaves, val_score: 0.045854:   5%|5         | 1/20 [00:00<00:04,  3.88it/s][I 2020-09-25 20:19:15,394] Trial 7 finished with value: 0.04585369735454893 and parameters: {'num_leaves': 183}. Best is trial 7 with value: 0.04585369735454893.\n",
            "\n",
            "\n",
            "num_leaves, val_score: 0.045854:   5%|5         | 1/20 [00:00<00:04,  3.88it/s]"
          ],
          "name": "stderr"
        },
        {
          "output_type": "stream",
          "text": [
            "Training until validation scores don't improve for 100 rounds.\n",
            "[100]\ttraining's binary_logloss: 0.000839246\tvalid_1's binary_logloss: 0.0545534\n",
            "[200]\ttraining's binary_logloss: 9.26054e-06\tvalid_1's binary_logloss: 0.0565389\n",
            "Early stopping, best iteration is:\n",
            "[132]\ttraining's binary_logloss: 0.000129567\tvalid_1's binary_logloss: 0.0458537\n"
          ],
          "name": "stdout"
        },
        {
          "output_type": "stream",
          "text": [
            "\n",
            "\n",
            "num_leaves, val_score: 0.045854:   5%|5         | 1/20 [00:00<00:04,  3.88it/s]\n",
            "\n",
            "num_leaves, val_score: 0.045854:  10%|#         | 2/20 [00:00<00:04,  3.91it/s][I 2020-09-25 20:19:15,644] Trial 8 finished with value: 0.04585369735454893 and parameters: {'num_leaves': 155}. Best is trial 7 with value: 0.04585369735454893.\n",
            "\n",
            "\n",
            "num_leaves, val_score: 0.045854:  10%|#         | 2/20 [00:00<00:04,  3.91it/s]"
          ],
          "name": "stderr"
        },
        {
          "output_type": "stream",
          "text": [
            "Training until validation scores don't improve for 100 rounds.\n",
            "[100]\ttraining's binary_logloss: 0.000839246\tvalid_1's binary_logloss: 0.0545534\n",
            "[200]\ttraining's binary_logloss: 9.26054e-06\tvalid_1's binary_logloss: 0.0565389\n",
            "Early stopping, best iteration is:\n",
            "[132]\ttraining's binary_logloss: 0.000129567\tvalid_1's binary_logloss: 0.0458537\n"
          ],
          "name": "stdout"
        },
        {
          "output_type": "stream",
          "text": [
            "\n",
            "\n",
            "num_leaves, val_score: 0.045854:  10%|#         | 2/20 [00:00<00:04,  3.91it/s]\n",
            "\n",
            "num_leaves, val_score: 0.045854:  15%|#5        | 3/20 [00:00<00:04,  3.86it/s][I 2020-09-25 20:19:15,908] Trial 9 finished with value: 0.04585369735454893 and parameters: {'num_leaves': 219}. Best is trial 7 with value: 0.04585369735454893.\n",
            "\n",
            "\n",
            "num_leaves, val_score: 0.045854:  15%|#5        | 3/20 [00:00<00:04,  3.86it/s]"
          ],
          "name": "stderr"
        },
        {
          "output_type": "stream",
          "text": [
            "Training until validation scores don't improve for 100 rounds.\n",
            "[100]\ttraining's binary_logloss: 0.00868673\tvalid_1's binary_logloss: 0.0675933\n",
            "[200]\ttraining's binary_logloss: 0.000668017\tvalid_1's binary_logloss: 0.0714279\n",
            "Early stopping, best iteration is:\n",
            "[150]\ttraining's binary_logloss: 0.00237867\tvalid_1's binary_logloss: 0.0610715\n"
          ],
          "name": "stdout"
        },
        {
          "output_type": "stream",
          "text": [
            "\n",
            "\n",
            "num_leaves, val_score: 0.045854:  15%|#5        | 3/20 [00:00<00:04,  3.86it/s]\n",
            "\n",
            "num_leaves, val_score: 0.045854:  20%|##        | 4/20 [00:00<00:03,  4.36it/s][I 2020-09-25 20:19:16,068] Trial 10 finished with value: 0.06107150925634661 and parameters: {'num_leaves': 4}. Best is trial 7 with value: 0.04585369735454893.\n",
            "\n",
            "\n",
            "num_leaves, val_score: 0.045854:  20%|##        | 4/20 [00:00<00:03,  4.36it/s]"
          ],
          "name": "stderr"
        },
        {
          "output_type": "stream",
          "text": [
            "Training until validation scores don't improve for 100 rounds.\n",
            "[100]\ttraining's binary_logloss: 0.000839246\tvalid_1's binary_logloss: 0.0545534\n",
            "[200]\ttraining's binary_logloss: 9.26054e-06\tvalid_1's binary_logloss: 0.0565389\n",
            "Early stopping, best iteration is:\n",
            "[132]\ttraining's binary_logloss: 0.000129567\tvalid_1's binary_logloss: 0.0458537\n"
          ],
          "name": "stdout"
        },
        {
          "output_type": "stream",
          "text": [
            "\n",
            "\n",
            "num_leaves, val_score: 0.045854:  20%|##        | 4/20 [00:01<00:03,  4.36it/s]\n",
            "\n",
            "num_leaves, val_score: 0.045854:  25%|##5       | 5/20 [00:01<00:03,  4.31it/s][I 2020-09-25 20:19:16,307] Trial 11 finished with value: 0.04585369735454893 and parameters: {'num_leaves': 88}. Best is trial 7 with value: 0.04585369735454893.\n",
            "\n",
            "\n",
            "num_leaves, val_score: 0.045854:  25%|##5       | 5/20 [00:01<00:03,  4.31it/s]"
          ],
          "name": "stderr"
        },
        {
          "output_type": "stream",
          "text": [
            "Training until validation scores don't improve for 100 rounds.\n",
            "[100]\ttraining's binary_logloss: 0.000839246\tvalid_1's binary_logloss: 0.0545534\n",
            "[200]\ttraining's binary_logloss: 9.26054e-06\tvalid_1's binary_logloss: 0.0565389\n",
            "Early stopping, best iteration is:\n",
            "[132]\ttraining's binary_logloss: 0.000129567\tvalid_1's binary_logloss: 0.0458537\n"
          ],
          "name": "stdout"
        },
        {
          "output_type": "stream",
          "text": [
            "\n",
            "\n",
            "num_leaves, val_score: 0.045854:  25%|##5       | 5/20 [00:01<00:03,  4.31it/s]\n",
            "\n",
            "num_leaves, val_score: 0.045854:  30%|###       | 6/20 [00:01<00:03,  4.21it/s][I 2020-09-25 20:19:16,557] Trial 12 finished with value: 0.04585369735454893 and parameters: {'num_leaves': 247}. Best is trial 7 with value: 0.04585369735454893.\n",
            "\n",
            "\n",
            "num_leaves, val_score: 0.045854:  30%|###       | 6/20 [00:01<00:03,  4.21it/s]"
          ],
          "name": "stderr"
        },
        {
          "output_type": "stream",
          "text": [
            "Training until validation scores don't improve for 100 rounds.\n",
            "[100]\ttraining's binary_logloss: 0.000839246\tvalid_1's binary_logloss: 0.0545534\n",
            "[200]\ttraining's binary_logloss: 9.26054e-06\tvalid_1's binary_logloss: 0.0565389\n",
            "Early stopping, best iteration is:\n",
            "[132]\ttraining's binary_logloss: 0.000129567\tvalid_1's binary_logloss: 0.0458537\n"
          ],
          "name": "stdout"
        },
        {
          "output_type": "stream",
          "text": [
            "\n",
            "\n",
            "num_leaves, val_score: 0.045854:  30%|###       | 6/20 [00:01<00:03,  4.21it/s]\n",
            "\n",
            "num_leaves, val_score: 0.045854:  35%|###5      | 7/20 [00:01<00:03,  4.16it/s][I 2020-09-25 20:19:16,803] Trial 13 finished with value: 0.04585369735454893 and parameters: {'num_leaves': 166}. Best is trial 7 with value: 0.04585369735454893.\n",
            "\n",
            "\n",
            "num_leaves, val_score: 0.045854:  35%|###5      | 7/20 [00:01<00:03,  4.16it/s]"
          ],
          "name": "stderr"
        },
        {
          "output_type": "stream",
          "text": [
            "Training until validation scores don't improve for 100 rounds.\n",
            "[100]\ttraining's binary_logloss: 0.000839246\tvalid_1's binary_logloss: 0.0545534\n",
            "[200]\ttraining's binary_logloss: 9.26054e-06\tvalid_1's binary_logloss: 0.0565389\n",
            "Early stopping, best iteration is:\n",
            "[132]\ttraining's binary_logloss: 0.000129567\tvalid_1's binary_logloss: 0.0458537\n"
          ],
          "name": "stdout"
        },
        {
          "output_type": "stream",
          "text": [
            "\n",
            "\n",
            "num_leaves, val_score: 0.045854:  35%|###5      | 7/20 [00:01<00:03,  4.16it/s]\n",
            "\n",
            "num_leaves, val_score: 0.045854:  40%|####      | 8/20 [00:01<00:02,  4.07it/s][I 2020-09-25 20:19:17,060] Trial 14 finished with value: 0.04585369735454893 and parameters: {'num_leaves': 80}. Best is trial 7 with value: 0.04585369735454893.\n",
            "\n",
            "\n",
            "num_leaves, val_score: 0.045854:  40%|####      | 8/20 [00:01<00:02,  4.07it/s]"
          ],
          "name": "stderr"
        },
        {
          "output_type": "stream",
          "text": [
            "Training until validation scores don't improve for 100 rounds.\n",
            "[100]\ttraining's binary_logloss: 0.000839246\tvalid_1's binary_logloss: 0.0545534\n",
            "[200]\ttraining's binary_logloss: 9.26054e-06\tvalid_1's binary_logloss: 0.0565389\n",
            "Early stopping, best iteration is:\n",
            "[132]\ttraining's binary_logloss: 0.000129567\tvalid_1's binary_logloss: 0.0458537\n"
          ],
          "name": "stdout"
        },
        {
          "output_type": "stream",
          "text": [
            "\n",
            "\n",
            "num_leaves, val_score: 0.045854:  40%|####      | 8/20 [00:02<00:02,  4.07it/s]\n",
            "\n",
            "num_leaves, val_score: 0.045854:  45%|####5     | 9/20 [00:02<00:02,  4.06it/s][I 2020-09-25 20:19:17,309] Trial 15 finished with value: 0.04585369735454893 and parameters: {'num_leaves': 205}. Best is trial 7 with value: 0.04585369735454893.\n",
            "\n",
            "\n",
            "num_leaves, val_score: 0.045854:  45%|####5     | 9/20 [00:02<00:02,  4.06it/s]"
          ],
          "name": "stderr"
        },
        {
          "output_type": "stream",
          "text": [
            "Training until validation scores don't improve for 100 rounds.\n",
            "[100]\ttraining's binary_logloss: 0.000839246\tvalid_1's binary_logloss: 0.0545534\n",
            "[200]\ttraining's binary_logloss: 9.26054e-06\tvalid_1's binary_logloss: 0.0565389\n",
            "Early stopping, best iteration is:\n",
            "[132]\ttraining's binary_logloss: 0.000129567\tvalid_1's binary_logloss: 0.0458537\n"
          ],
          "name": "stdout"
        },
        {
          "output_type": "stream",
          "text": [
            "\n",
            "\n",
            "num_leaves, val_score: 0.045854:  45%|####5     | 9/20 [00:02<00:02,  4.06it/s]\n",
            "\n",
            "num_leaves, val_score: 0.045854:  50%|#####     | 10/20 [00:02<00:02,  4.05it/s][I 2020-09-25 20:19:17,555] Trial 16 finished with value: 0.04585369735454893 and parameters: {'num_leaves': 112}. Best is trial 7 with value: 0.04585369735454893.\n",
            "\n",
            "\n",
            "num_leaves, val_score: 0.045854:  50%|#####     | 10/20 [00:02<00:02,  4.05it/s]"
          ],
          "name": "stderr"
        },
        {
          "output_type": "stream",
          "text": [
            "Training until validation scores don't improve for 100 rounds.\n",
            "[100]\ttraining's binary_logloss: 0.000839246\tvalid_1's binary_logloss: 0.0545534\n",
            "[200]\ttraining's binary_logloss: 9.26054e-06\tvalid_1's binary_logloss: 0.0565389\n",
            "Early stopping, best iteration is:\n",
            "[132]\ttraining's binary_logloss: 0.000129567\tvalid_1's binary_logloss: 0.0458537\n"
          ],
          "name": "stdout"
        },
        {
          "output_type": "stream",
          "text": [
            "\n",
            "\n",
            "num_leaves, val_score: 0.045854:  50%|#####     | 10/20 [00:02<00:02,  4.05it/s]\n",
            "\n",
            "num_leaves, val_score: 0.045854:  55%|#####5    | 11/20 [00:02<00:02,  4.12it/s][I 2020-09-25 20:19:17,790] Trial 17 finished with value: 0.04585369735454893 and parameters: {'num_leaves': 45}. Best is trial 7 with value: 0.04585369735454893.\n",
            "\n",
            "\n",
            "num_leaves, val_score: 0.045854:  55%|#####5    | 11/20 [00:02<00:02,  4.12it/s]"
          ],
          "name": "stderr"
        },
        {
          "output_type": "stream",
          "text": [
            "Training until validation scores don't improve for 100 rounds.\n",
            "[100]\ttraining's binary_logloss: 0.000839246\tvalid_1's binary_logloss: 0.0545534\n",
            "[200]\ttraining's binary_logloss: 9.26054e-06\tvalid_1's binary_logloss: 0.0565389\n",
            "Early stopping, best iteration is:\n",
            "[132]\ttraining's binary_logloss: 0.000129567\tvalid_1's binary_logloss: 0.0458537\n"
          ],
          "name": "stdout"
        },
        {
          "output_type": "stream",
          "text": [
            "\n",
            "\n",
            "num_leaves, val_score: 0.045854:  55%|#####5    | 11/20 [00:02<00:02,  4.12it/s]\n",
            "\n",
            "num_leaves, val_score: 0.045854:  60%|######    | 12/20 [00:02<00:01,  4.09it/s][I 2020-09-25 20:19:18,038] Trial 18 finished with value: 0.04585369735454893 and parameters: {'num_leaves': 243}. Best is trial 7 with value: 0.04585369735454893.\n",
            "\n",
            "\n",
            "num_leaves, val_score: 0.045854:  60%|######    | 12/20 [00:02<00:01,  4.09it/s]"
          ],
          "name": "stderr"
        },
        {
          "output_type": "stream",
          "text": [
            "Training until validation scores don't improve for 100 rounds.\n",
            "[100]\ttraining's binary_logloss: 0.000839246\tvalid_1's binary_logloss: 0.0545534\n",
            "[200]\ttraining's binary_logloss: 9.26054e-06\tvalid_1's binary_logloss: 0.0565389\n",
            "Early stopping, best iteration is:\n",
            "[132]\ttraining's binary_logloss: 0.000129567\tvalid_1's binary_logloss: 0.0458537\n"
          ],
          "name": "stdout"
        },
        {
          "output_type": "stream",
          "text": [
            "\n",
            "\n",
            "num_leaves, val_score: 0.045854:  60%|######    | 12/20 [00:03<00:01,  4.09it/s]\n",
            "\n",
            "num_leaves, val_score: 0.045854:  65%|######5   | 13/20 [00:03<00:01,  4.13it/s][I 2020-09-25 20:19:18,277] Trial 19 finished with value: 0.04585369735454893 and parameters: {'num_leaves': 117}. Best is trial 7 with value: 0.04585369735454893.\n",
            "\n",
            "\n",
            "num_leaves, val_score: 0.045854:  65%|######5   | 13/20 [00:03<00:01,  4.13it/s]"
          ],
          "name": "stderr"
        },
        {
          "output_type": "stream",
          "text": [
            "Training until validation scores don't improve for 100 rounds.\n",
            "[100]\ttraining's binary_logloss: 0.000839246\tvalid_1's binary_logloss: 0.0545534\n",
            "[200]\ttraining's binary_logloss: 9.26054e-06\tvalid_1's binary_logloss: 0.0565389\n",
            "Early stopping, best iteration is:\n",
            "[132]\ttraining's binary_logloss: 0.000129567\tvalid_1's binary_logloss: 0.0458537\n"
          ],
          "name": "stdout"
        },
        {
          "output_type": "stream",
          "text": [
            "\n",
            "\n",
            "num_leaves, val_score: 0.045854:  65%|######5   | 13/20 [00:03<00:01,  4.13it/s]\n",
            "\n",
            "num_leaves, val_score: 0.045854:  70%|#######   | 14/20 [00:03<00:01,  4.18it/s][I 2020-09-25 20:19:18,507] Trial 20 finished with value: 0.04585369735454893 and parameters: {'num_leaves': 23}. Best is trial 7 with value: 0.04585369735454893.\n",
            "\n",
            "\n",
            "num_leaves, val_score: 0.045854:  70%|#######   | 14/20 [00:03<00:01,  4.18it/s]"
          ],
          "name": "stderr"
        },
        {
          "output_type": "stream",
          "text": [
            "Training until validation scores don't improve for 100 rounds.\n",
            "[100]\ttraining's binary_logloss: 0.000839246\tvalid_1's binary_logloss: 0.0545534\n",
            "[200]\ttraining's binary_logloss: 9.26054e-06\tvalid_1's binary_logloss: 0.0565389\n",
            "Early stopping, best iteration is:\n",
            "[132]\ttraining's binary_logloss: 0.000129567\tvalid_1's binary_logloss: 0.0458537\n"
          ],
          "name": "stdout"
        },
        {
          "output_type": "stream",
          "text": [
            "\n",
            "\n",
            "num_leaves, val_score: 0.045854:  70%|#######   | 14/20 [00:03<00:01,  4.18it/s]\n",
            "\n",
            "num_leaves, val_score: 0.045854:  75%|#######5  | 15/20 [00:03<00:01,  4.14it/s][I 2020-09-25 20:19:18,754] Trial 21 finished with value: 0.04585369735454893 and parameters: {'num_leaves': 46}. Best is trial 7 with value: 0.04585369735454893.\n",
            "\n",
            "\n",
            "num_leaves, val_score: 0.045854:  75%|#######5  | 15/20 [00:03<00:01,  4.14it/s]"
          ],
          "name": "stderr"
        },
        {
          "output_type": "stream",
          "text": [
            "Training until validation scores don't improve for 100 rounds.\n",
            "[100]\ttraining's binary_logloss: 0.000839246\tvalid_1's binary_logloss: 0.0545534\n",
            "[200]\ttraining's binary_logloss: 9.26054e-06\tvalid_1's binary_logloss: 0.0565389\n",
            "Early stopping, best iteration is:\n",
            "[132]\ttraining's binary_logloss: 0.000129567\tvalid_1's binary_logloss: 0.0458537\n"
          ],
          "name": "stdout"
        },
        {
          "output_type": "stream",
          "text": [
            "\n",
            "\n",
            "num_leaves, val_score: 0.045854:  75%|#######5  | 15/20 [00:03<00:01,  4.14it/s]\n",
            "\n",
            "num_leaves, val_score: 0.045854:  80%|########  | 16/20 [00:03<00:01,  3.94it/s][I 2020-09-25 20:19:19,038] Trial 22 finished with value: 0.04585369735454893 and parameters: {'num_leaves': 130}. Best is trial 7 with value: 0.04585369735454893.\n",
            "\n",
            "\n",
            "num_leaves, val_score: 0.045854:  80%|########  | 16/20 [00:03<00:01,  3.94it/s]"
          ],
          "name": "stderr"
        },
        {
          "output_type": "stream",
          "text": [
            "Training until validation scores don't improve for 100 rounds.\n",
            "[100]\ttraining's binary_logloss: 0.00079677\tvalid_1's binary_logloss: 0.0594033\n",
            "[200]\ttraining's binary_logloss: 9.14037e-06\tvalid_1's binary_logloss: 0.0597031\n",
            "Early stopping, best iteration is:\n",
            "[117]\ttraining's binary_logloss: 0.000286492\tvalid_1's binary_logloss: 0.0512998\n"
          ],
          "name": "stdout"
        },
        {
          "output_type": "stream",
          "text": [
            "\n",
            "\n",
            "num_leaves, val_score: 0.045854:  80%|########  | 16/20 [00:04<00:01,  3.94it/s]\n",
            "\n",
            "num_leaves, val_score: 0.045854:  85%|########5 | 17/20 [00:04<00:00,  4.15it/s][I 2020-09-25 20:19:19,247] Trial 23 finished with value: 0.051299778570691 and parameters: {'num_leaves': 12}. Best is trial 7 with value: 0.04585369735454893.\n",
            "\n",
            "\n",
            "num_leaves, val_score: 0.045854:  85%|########5 | 17/20 [00:04<00:00,  4.15it/s]"
          ],
          "name": "stderr"
        },
        {
          "output_type": "stream",
          "text": [
            "Training until validation scores don't improve for 100 rounds.\n",
            "[100]\ttraining's binary_logloss: 0.000839246\tvalid_1's binary_logloss: 0.0545534\n",
            "[200]\ttraining's binary_logloss: 9.26054e-06\tvalid_1's binary_logloss: 0.0565389\n",
            "Early stopping, best iteration is:\n",
            "[132]\ttraining's binary_logloss: 0.000129567\tvalid_1's binary_logloss: 0.0458537\n"
          ],
          "name": "stdout"
        },
        {
          "output_type": "stream",
          "text": [
            "\n",
            "\n",
            "num_leaves, val_score: 0.045854:  85%|########5 | 17/20 [00:04<00:00,  4.15it/s]\n",
            "\n",
            "num_leaves, val_score: 0.045854:  90%|######### | 18/20 [00:04<00:00,  4.14it/s][I 2020-09-25 20:19:19,491] Trial 24 finished with value: 0.04585369735454893 and parameters: {'num_leaves': 41}. Best is trial 7 with value: 0.04585369735454893.\n",
            "\n",
            "\n",
            "num_leaves, val_score: 0.045854:  90%|######### | 18/20 [00:04<00:00,  4.14it/s]"
          ],
          "name": "stderr"
        },
        {
          "output_type": "stream",
          "text": [
            "Training until validation scores don't improve for 100 rounds.\n",
            "[100]\ttraining's binary_logloss: 0.000839246\tvalid_1's binary_logloss: 0.0545534\n",
            "[200]\ttraining's binary_logloss: 9.26054e-06\tvalid_1's binary_logloss: 0.0565389\n",
            "Early stopping, best iteration is:\n",
            "[132]\ttraining's binary_logloss: 0.000129567\tvalid_1's binary_logloss: 0.0458537\n"
          ],
          "name": "stdout"
        },
        {
          "output_type": "stream",
          "text": [
            "\n",
            "\n",
            "num_leaves, val_score: 0.045854:  90%|######### | 18/20 [00:04<00:00,  4.14it/s]\n",
            "\n",
            "num_leaves, val_score: 0.045854:  95%|#########5| 19/20 [00:04<00:00,  4.18it/s][I 2020-09-25 20:19:19,725] Trial 25 finished with value: 0.04585369735454893 and parameters: {'num_leaves': 71}. Best is trial 7 with value: 0.04585369735454893.\n",
            "\n",
            "\n",
            "num_leaves, val_score: 0.045854:  95%|#########5| 19/20 [00:04<00:00,  4.18it/s]"
          ],
          "name": "stderr"
        },
        {
          "output_type": "stream",
          "text": [
            "Training until validation scores don't improve for 100 rounds.\n",
            "[100]\ttraining's binary_logloss: 0.000839246\tvalid_1's binary_logloss: 0.0545534\n",
            "[200]\ttraining's binary_logloss: 9.26054e-06\tvalid_1's binary_logloss: 0.0565389\n",
            "Early stopping, best iteration is:\n",
            "[132]\ttraining's binary_logloss: 0.000129567\tvalid_1's binary_logloss: 0.0458537\n"
          ],
          "name": "stdout"
        },
        {
          "output_type": "stream",
          "text": [
            "\n",
            "\n",
            "num_leaves, val_score: 0.045854:  95%|#########5| 19/20 [00:04<00:00,  4.18it/s]\n",
            "\n",
            "num_leaves, val_score: 0.045854: 100%|##########| 20/20 [00:04<00:00,  4.13it/s][I 2020-09-25 20:19:19,973] Trial 26 finished with value: 0.04585369735454893 and parameters: {'num_leaves': 139}. Best is trial 7 with value: 0.04585369735454893.\n",
            "num_leaves, val_score: 0.045854: 100%|##########| 20/20 [00:04<00:00,  4.12it/s]\n",
            "\n",
            "\n",
            "  0%|          | 0/10 [00:00<?, ?it/s]\n",
            "\n",
            "bagging, val_score: 0.045854:   0%|          | 0/10 [00:00<?, ?it/s]"
          ],
          "name": "stderr"
        },
        {
          "output_type": "stream",
          "text": [
            "Training until validation scores don't improve for 100 rounds.\n",
            "[100]\ttraining's binary_logloss: 0.00276942\tvalid_1's binary_logloss: 0.0406294\n",
            "[200]\ttraining's binary_logloss: 8.12847e-05\tvalid_1's binary_logloss: 0.029685\n",
            "[300]\ttraining's binary_logloss: 8.81909e-06\tvalid_1's binary_logloss: 0.0237445\n",
            "[400]\ttraining's binary_logloss: 7.80793e-06\tvalid_1's binary_logloss: 0.0230045\n",
            "Early stopping, best iteration is:\n",
            "[334]\ttraining's binary_logloss: 7.79068e-06\tvalid_1's binary_logloss: 0.0218343\n"
          ],
          "name": "stdout"
        },
        {
          "output_type": "stream",
          "text": [
            "\n",
            "\n",
            "bagging, val_score: 0.021834:   0%|          | 0/10 [00:00<?, ?it/s]\n",
            "\n",
            "bagging, val_score: 0.021834:  10%|#         | 1/10 [00:00<00:02,  3.69it/s][I 2020-09-25 20:19:20,259] Trial 27 finished with value: 0.021834310156924764 and parameters: {'bagging_fraction': 0.6979027059497622, 'bagging_freq': 6}. Best is trial 27 with value: 0.021834310156924764.\n",
            "\n",
            "\n",
            "bagging, val_score: 0.021834:  10%|#         | 1/10 [00:00<00:02,  3.69it/s]"
          ],
          "name": "stderr"
        },
        {
          "output_type": "stream",
          "text": [
            "Training until validation scores don't improve for 100 rounds.\n",
            "[100]\ttraining's binary_logloss: 0.00276942\tvalid_1's binary_logloss: 0.0406294\n",
            "[200]\ttraining's binary_logloss: 8.12847e-05\tvalid_1's binary_logloss: 0.029685\n",
            "[300]\ttraining's binary_logloss: 8.81909e-06\tvalid_1's binary_logloss: 0.0237445\n",
            "[400]\ttraining's binary_logloss: 7.80793e-06\tvalid_1's binary_logloss: 0.0230045\n",
            "Early stopping, best iteration is:\n",
            "[334]\ttraining's binary_logloss: 7.79068e-06\tvalid_1's binary_logloss: 0.0218343\n"
          ],
          "name": "stdout"
        },
        {
          "output_type": "stream",
          "text": [
            "\n",
            "\n",
            "bagging, val_score: 0.021834:  10%|#         | 1/10 [00:00<00:02,  3.69it/s]\n",
            "\n",
            "bagging, val_score: 0.021834:  20%|##        | 2/10 [00:00<00:02,  3.74it/s][I 2020-09-25 20:19:20,517] Trial 28 finished with value: 0.021834310156924764 and parameters: {'bagging_fraction': 0.698393292456242, 'bagging_freq': 6}. Best is trial 27 with value: 0.021834310156924764.\n",
            "\n",
            "\n",
            "bagging, val_score: 0.021834:  20%|##        | 2/10 [00:00<00:02,  3.74it/s]"
          ],
          "name": "stderr"
        },
        {
          "output_type": "stream",
          "text": [
            "Training until validation scores don't improve for 100 rounds.\n",
            "[100]\ttraining's binary_logloss: 0.00276942\tvalid_1's binary_logloss: 0.0406294\n",
            "[200]\ttraining's binary_logloss: 8.12847e-05\tvalid_1's binary_logloss: 0.029685\n",
            "[300]\ttraining's binary_logloss: 8.81909e-06\tvalid_1's binary_logloss: 0.0237445\n",
            "[400]\ttraining's binary_logloss: 7.80793e-06\tvalid_1's binary_logloss: 0.0230045\n",
            "Early stopping, best iteration is:\n",
            "[334]\ttraining's binary_logloss: 7.79068e-06\tvalid_1's binary_logloss: 0.0218343\n"
          ],
          "name": "stdout"
        },
        {
          "output_type": "stream",
          "text": [
            "\n",
            "\n",
            "bagging, val_score: 0.021834:  20%|##        | 2/10 [00:00<00:02,  3.74it/s]\n",
            "\n",
            "bagging, val_score: 0.021834:  30%|###       | 3/10 [00:00<00:01,  3.76it/s][I 2020-09-25 20:19:20,782] Trial 29 finished with value: 0.021834310156924764 and parameters: {'bagging_fraction': 0.6991971972789773, 'bagging_freq': 6}. Best is trial 27 with value: 0.021834310156924764.\n",
            "\n",
            "\n",
            "bagging, val_score: 0.021834:  30%|###       | 3/10 [00:00<00:01,  3.76it/s]"
          ],
          "name": "stderr"
        },
        {
          "output_type": "stream",
          "text": [
            "Training until validation scores don't improve for 100 rounds.\n",
            "[100]\ttraining's binary_logloss: 0.00282328\tvalid_1's binary_logloss: 0.0598524\n",
            "[200]\ttraining's binary_logloss: 7.61016e-05\tvalid_1's binary_logloss: 0.0397208\n",
            "[300]\ttraining's binary_logloss: 8.83272e-06\tvalid_1's binary_logloss: 0.041069\n",
            "Early stopping, best iteration is:\n",
            "[222]\ttraining's binary_logloss: 3.3041e-05\tvalid_1's binary_logloss: 0.0331934\n"
          ],
          "name": "stdout"
        },
        {
          "output_type": "stream",
          "text": [
            "\n",
            "\n",
            "bagging, val_score: 0.021834:  30%|###       | 3/10 [00:01<00:01,  3.76it/s]\n",
            "\n",
            "bagging, val_score: 0.021834:  40%|####      | 4/10 [00:01<00:01,  3.81it/s][I 2020-09-25 20:19:21,037] Trial 30 finished with value: 0.03319336807600643 and parameters: {'bagging_fraction': 0.6831876679024061, 'bagging_freq': 6}. Best is trial 27 with value: 0.021834310156924764.\n",
            "\n",
            "\n",
            "bagging, val_score: 0.021834:  40%|####      | 4/10 [00:01<00:01,  3.81it/s]"
          ],
          "name": "stderr"
        },
        {
          "output_type": "stream",
          "text": [
            "Training until validation scores don't improve for 100 rounds.\n",
            "[100]\ttraining's binary_logloss: 0.00269621\tvalid_1's binary_logloss: 0.0519803\n",
            "[200]\ttraining's binary_logloss: 4.64612e-05\tvalid_1's binary_logloss: 0.0358646\n",
            "[300]\ttraining's binary_logloss: 8.33634e-06\tvalid_1's binary_logloss: 0.0343051\n",
            "Early stopping, best iteration is:\n",
            "[264]\ttraining's binary_logloss: 1.02428e-05\tvalid_1's binary_logloss: 0.0321208\n"
          ],
          "name": "stdout"
        },
        {
          "output_type": "stream",
          "text": [
            "\n",
            "\n",
            "bagging, val_score: 0.021834:  40%|####      | 4/10 [00:01<00:01,  3.81it/s]\n",
            "\n",
            "bagging, val_score: 0.021834:  50%|#####     | 5/10 [00:01<00:01,  3.84it/s][I 2020-09-25 20:19:21,292] Trial 31 finished with value: 0.032120788648405924 and parameters: {'bagging_fraction': 0.704770185991425, 'bagging_freq': 6}. Best is trial 27 with value: 0.021834310156924764.\n",
            "\n",
            "\n",
            "bagging, val_score: 0.021834:  50%|#####     | 5/10 [00:01<00:01,  3.84it/s]"
          ],
          "name": "stderr"
        },
        {
          "output_type": "stream",
          "text": [
            "Training until validation scores don't improve for 100 rounds.\n",
            "[100]\ttraining's binary_logloss: 0.00281042\tvalid_1's binary_logloss: 0.0416038\n",
            "[200]\ttraining's binary_logloss: 5.53725e-05\tvalid_1's binary_logloss: 0.0305487\n",
            "[300]\ttraining's binary_logloss: 8.68796e-06\tvalid_1's binary_logloss: 0.0335936\n",
            "Early stopping, best iteration is:\n",
            "[207]\ttraining's binary_logloss: 4.04626e-05\tvalid_1's binary_logloss: 0.0296\n"
          ],
          "name": "stdout"
        },
        {
          "output_type": "stream",
          "text": [
            "\n",
            "\n",
            "bagging, val_score: 0.021834:  50%|#####     | 5/10 [00:01<00:01,  3.84it/s]\n",
            "\n",
            "bagging, val_score: 0.021834:  60%|######    | 6/10 [00:01<00:01,  3.91it/s][I 2020-09-25 20:19:21,535] Trial 32 finished with value: 0.029599986083191417 and parameters: {'bagging_fraction': 0.7015516550968017, 'bagging_freq': 6}. Best is trial 27 with value: 0.021834310156924764.\n",
            "\n",
            "\n",
            "bagging, val_score: 0.021834:  60%|######    | 6/10 [00:01<00:01,  3.91it/s]"
          ],
          "name": "stderr"
        },
        {
          "output_type": "stream",
          "text": [
            "Training until validation scores don't improve for 100 rounds.\n",
            "[100]\ttraining's binary_logloss: 0.00230753\tvalid_1's binary_logloss: 0.0475629\n",
            "[200]\ttraining's binary_logloss: 4.21512e-05\tvalid_1's binary_logloss: 0.036492\n",
            "[300]\ttraining's binary_logloss: 8.07863e-06\tvalid_1's binary_logloss: 0.0328847\n",
            "[400]\ttraining's binary_logloss: 7.04654e-06\tvalid_1's binary_logloss: 0.0332139\n",
            "Early stopping, best iteration is:\n",
            "[330]\ttraining's binary_logloss: 7.24603e-06\tvalid_1's binary_logloss: 0.031163\n"
          ],
          "name": "stdout"
        },
        {
          "output_type": "stream",
          "text": [
            "\n",
            "\n",
            "bagging, val_score: 0.021834:  60%|######    | 6/10 [00:01<00:01,  3.91it/s]\n",
            "\n",
            "bagging, val_score: 0.021834:  70%|#######   | 7/10 [00:01<00:00,  3.88it/s][I 2020-09-25 20:19:21,799] Trial 33 finished with value: 0.03116298975597422 and parameters: {'bagging_fraction': 0.7391390636415072, 'bagging_freq': 6}. Best is trial 27 with value: 0.021834310156924764.\n",
            "\n",
            "\n",
            "bagging, val_score: 0.021834:  70%|#######   | 7/10 [00:01<00:00,  3.88it/s]"
          ],
          "name": "stderr"
        },
        {
          "output_type": "stream",
          "text": [
            "Training until validation scores don't improve for 100 rounds.\n",
            "[100]\ttraining's binary_logloss: 0.00310516\tvalid_1's binary_logloss: 0.0633677\n",
            "[200]\ttraining's binary_logloss: 5.43059e-05\tvalid_1's binary_logloss: 0.0415643\n",
            "[300]\ttraining's binary_logloss: 8.90944e-06\tvalid_1's binary_logloss: 0.0455396\n",
            "Early stopping, best iteration is:\n",
            "[202]\ttraining's binary_logloss: 5.13968e-05\tvalid_1's binary_logloss: 0.0398455\n"
          ],
          "name": "stdout"
        },
        {
          "output_type": "stream",
          "text": [
            "\n",
            "\n",
            "bagging, val_score: 0.021834:  70%|#######   | 7/10 [00:02<00:00,  3.88it/s]\n",
            "\n",
            "bagging, val_score: 0.021834:  80%|########  | 8/10 [00:02<00:00,  3.87it/s][I 2020-09-25 20:19:22,058] Trial 34 finished with value: 0.03984549720655708 and parameters: {'bagging_fraction': 0.6768822002139767, 'bagging_freq': 6}. Best is trial 27 with value: 0.021834310156924764.\n",
            "\n",
            "\n",
            "bagging, val_score: 0.021834:  80%|########  | 8/10 [00:02<00:00,  3.87it/s]"
          ],
          "name": "stderr"
        },
        {
          "output_type": "stream",
          "text": [
            "Training until validation scores don't improve for 100 rounds.\n",
            "[100]\ttraining's binary_logloss: 0.00279794\tvalid_1's binary_logloss: 0.0562541\n",
            "[200]\ttraining's binary_logloss: 6.88685e-05\tvalid_1's binary_logloss: 0.0606735\n",
            "Early stopping, best iteration is:\n",
            "[115]\ttraining's binary_logloss: 0.00148723\tvalid_1's binary_logloss: 0.0470794\n"
          ],
          "name": "stdout"
        },
        {
          "output_type": "stream",
          "text": [
            "\n",
            "\n",
            "bagging, val_score: 0.021834:  80%|########  | 8/10 [00:02<00:00,  3.87it/s]\n",
            "\n",
            "bagging, val_score: 0.021834:  90%|######### | 9/10 [00:02<00:00,  4.15it/s][I 2020-09-25 20:19:22,257] Trial 35 finished with value: 0.04707938700173696 and parameters: {'bagging_fraction': 0.7016712398475607, 'bagging_freq': 5}. Best is trial 27 with value: 0.021834310156924764.\n",
            "\n",
            "\n",
            "bagging, val_score: 0.021834:  90%|######### | 9/10 [00:02<00:00,  4.15it/s]"
          ],
          "name": "stderr"
        },
        {
          "output_type": "stream",
          "text": [
            "Training until validation scores don't improve for 100 rounds.\n",
            "[100]\ttraining's binary_logloss: 0.00109228\tvalid_1's binary_logloss: 0.0542765\n",
            "[200]\ttraining's binary_logloss: 1.06296e-05\tvalid_1's binary_logloss: 0.0541577\n",
            "Early stopping, best iteration is:\n",
            "[126]\ttraining's binary_logloss: 0.000244177\tvalid_1's binary_logloss: 0.0492846\n"
          ],
          "name": "stdout"
        },
        {
          "output_type": "stream",
          "text": [
            "\n",
            "\n",
            "bagging, val_score: 0.021834:  90%|######### | 9/10 [00:02<00:00,  4.15it/s]\n",
            "\n",
            "bagging, val_score: 0.021834: 100%|##########| 10/10 [00:02<00:00,  4.15it/s][I 2020-09-25 20:19:22,501] Trial 36 finished with value: 0.04928462724691506 and parameters: {'bagging_fraction': 0.9423676168719142, 'bagging_freq': 2}. Best is trial 27 with value: 0.021834310156924764.\n",
            "bagging, val_score: 0.021834: 100%|##########| 10/10 [00:02<00:00,  3.96it/s]\n",
            "\n",
            "\n",
            "  0%|          | 0/6 [00:00<?, ?it/s]\n",
            "\n",
            "feature_fraction_stage2, val_score: 0.021834:   0%|          | 0/6 [00:00<?, ?it/s]"
          ],
          "name": "stderr"
        },
        {
          "output_type": "stream",
          "text": [
            "Training until validation scores don't improve for 100 rounds.\n",
            "[100]\ttraining's binary_logloss: 0.00276942\tvalid_1's binary_logloss: 0.0406294\n",
            "[200]\ttraining's binary_logloss: 8.12847e-05\tvalid_1's binary_logloss: 0.029685\n",
            "[300]\ttraining's binary_logloss: 8.81909e-06\tvalid_1's binary_logloss: 0.0237445\n",
            "[400]\ttraining's binary_logloss: 7.80793e-06\tvalid_1's binary_logloss: 0.0230045\n",
            "Early stopping, best iteration is:\n",
            "[334]\ttraining's binary_logloss: 7.79068e-06\tvalid_1's binary_logloss: 0.0218343\n"
          ],
          "name": "stdout"
        },
        {
          "output_type": "stream",
          "text": [
            "\n",
            "\n",
            "feature_fraction_stage2, val_score: 0.021834:   0%|          | 0/6 [00:00<?, ?it/s]\n",
            "\n",
            "feature_fraction_stage2, val_score: 0.021834:  17%|#6        | 1/6 [00:00<00:01,  3.77it/s][I 2020-09-25 20:19:22,785] Trial 37 finished with value: 0.021834310156924764 and parameters: {'feature_fraction': 0.8839999999999999}. Best is trial 37 with value: 0.021834310156924764.\n",
            "\n",
            "\n",
            "feature_fraction_stage2, val_score: 0.021834:  17%|#6        | 1/6 [00:00<00:01,  3.77it/s]"
          ],
          "name": "stderr"
        },
        {
          "output_type": "stream",
          "text": [
            "Training until validation scores don't improve for 100 rounds.\n",
            "[100]\ttraining's binary_logloss: 0.00294575\tvalid_1's binary_logloss: 0.0473747\n",
            "[200]\ttraining's binary_logloss: 7.59786e-05\tvalid_1's binary_logloss: 0.0366604\n",
            "Early stopping, best iteration is:\n",
            "[131]\ttraining's binary_logloss: 0.000698304\tvalid_1's binary_logloss: 0.0325564\n"
          ],
          "name": "stdout"
        },
        {
          "output_type": "stream",
          "text": [
            "\n",
            "\n",
            "feature_fraction_stage2, val_score: 0.021834:  17%|#6        | 1/6 [00:00<00:01,  3.77it/s]\n",
            "\n",
            "feature_fraction_stage2, val_score: 0.021834:  33%|###3      | 2/6 [00:00<00:01,  3.98it/s][I 2020-09-25 20:19:23,005] Trial 38 finished with value: 0.032556442522092804 and parameters: {'feature_fraction': 0.82}. Best is trial 37 with value: 0.021834310156924764.\n",
            "\n",
            "\n",
            "feature_fraction_stage2, val_score: 0.021834:  33%|###3      | 2/6 [00:00<00:01,  3.98it/s]"
          ],
          "name": "stderr"
        },
        {
          "output_type": "stream",
          "text": [
            "Training until validation scores don't improve for 100 rounds.\n",
            "[100]\ttraining's binary_logloss: 0.00297744\tvalid_1's binary_logloss: 0.0437505\n",
            "[200]\ttraining's binary_logloss: 5.76755e-05\tvalid_1's binary_logloss: 0.030445\n",
            "Early stopping, best iteration is:\n",
            "[198]\ttraining's binary_logloss: 6.45194e-05\tvalid_1's binary_logloss: 0.0288445\n"
          ],
          "name": "stdout"
        },
        {
          "output_type": "stream",
          "text": [
            "\n",
            "\n",
            "feature_fraction_stage2, val_score: 0.021834:  33%|###3      | 2/6 [00:00<00:01,  3.98it/s]\n",
            "\n",
            "feature_fraction_stage2, val_score: 0.021834:  50%|#####     | 3/6 [00:00<00:00,  4.03it/s][I 2020-09-25 20:19:23,244] Trial 39 finished with value: 0.02884452691507744 and parameters: {'feature_fraction': 0.852}. Best is trial 37 with value: 0.021834310156924764.\n",
            "\n",
            "\n",
            "feature_fraction_stage2, val_score: 0.021834:  50%|#####     | 3/6 [00:00<00:00,  4.03it/s]"
          ],
          "name": "stderr"
        },
        {
          "output_type": "stream",
          "text": [
            "Training until validation scores don't improve for 100 rounds.\n",
            "[100]\ttraining's binary_logloss: 0.00293578\tvalid_1's binary_logloss: 0.0483234\n",
            "[200]\ttraining's binary_logloss: 5.64807e-05\tvalid_1's binary_logloss: 0.0405289\n",
            "[300]\ttraining's binary_logloss: 8.84728e-06\tvalid_1's binary_logloss: 0.0350145\n",
            "[400]\ttraining's binary_logloss: 7.11367e-06\tvalid_1's binary_logloss: 0.0312946\n",
            "Early stopping, best iteration is:\n",
            "[366]\ttraining's binary_logloss: 7.11367e-06\tvalid_1's binary_logloss: 0.0312946\n"
          ],
          "name": "stdout"
        },
        {
          "output_type": "stream",
          "text": [
            "\n",
            "\n",
            "feature_fraction_stage2, val_score: 0.021834:  50%|#####     | 3/6 [00:00<00:00,  4.03it/s]\n",
            "\n",
            "feature_fraction_stage2, val_score: 0.021834:  67%|######6   | 4/6 [00:01<00:00,  3.90it/s][I 2020-09-25 20:19:23,522] Trial 40 finished with value: 0.03129461284877109 and parameters: {'feature_fraction': 0.948}. Best is trial 37 with value: 0.021834310156924764.\n",
            "\n",
            "\n",
            "feature_fraction_stage2, val_score: 0.021834:  67%|######6   | 4/6 [00:01<00:00,  3.90it/s]"
          ],
          "name": "stderr"
        },
        {
          "output_type": "stream",
          "text": [
            "Training until validation scores don't improve for 100 rounds.\n",
            "[100]\ttraining's binary_logloss: 0.00283127\tvalid_1's binary_logloss: 0.0388737\n",
            "[200]\ttraining's binary_logloss: 7.5147e-05\tvalid_1's binary_logloss: 0.0411288\n",
            "Early stopping, best iteration is:\n",
            "[126]\ttraining's binary_logloss: 0.000915731\tvalid_1's binary_logloss: 0.0312686\n"
          ],
          "name": "stdout"
        },
        {
          "output_type": "stream",
          "text": [
            "\n",
            "\n",
            "feature_fraction_stage2, val_score: 0.021834:  67%|######6   | 4/6 [00:01<00:00,  3.90it/s]\n",
            "\n",
            "feature_fraction_stage2, val_score: 0.021834:  83%|########3 | 5/6 [00:01<00:00,  4.07it/s][I 2020-09-25 20:19:23,744] Trial 41 finished with value: 0.03126861353876585 and parameters: {'feature_fraction': 0.9159999999999999}. Best is trial 37 with value: 0.021834310156924764.\n",
            "\n",
            "\n",
            "feature_fraction_stage2, val_score: 0.021834:  83%|########3 | 5/6 [00:01<00:00,  4.07it/s]"
          ],
          "name": "stderr"
        },
        {
          "output_type": "stream",
          "text": [
            "Training until validation scores don't improve for 100 rounds.\n",
            "[100]\ttraining's binary_logloss: 0.0030389\tvalid_1's binary_logloss: 0.0445466\n",
            "[200]\ttraining's binary_logloss: 5.85946e-05\tvalid_1's binary_logloss: 0.0264346\n",
            "Early stopping, best iteration is:\n",
            "[198]\ttraining's binary_logloss: 6.6569e-05\tvalid_1's binary_logloss: 0.0258384\n"
          ],
          "name": "stdout"
        },
        {
          "output_type": "stream",
          "text": [
            "\n",
            "\n",
            "feature_fraction_stage2, val_score: 0.021834:  83%|########3 | 5/6 [00:01<00:00,  4.07it/s]\n",
            "\n",
            "feature_fraction_stage2, val_score: 0.021834: 100%|##########| 6/6 [00:01<00:00,  4.01it/s][I 2020-09-25 20:19:23,999] Trial 42 finished with value: 0.025838382757576536 and parameters: {'feature_fraction': 0.9799999999999999}. Best is trial 37 with value: 0.021834310156924764.\n",
            "feature_fraction_stage2, val_score: 0.021834: 100%|##########| 6/6 [00:01<00:00,  4.03it/s]\n",
            "\n",
            "\n",
            "  0%|          | 0/20 [00:00<?, ?it/s]\n",
            "\n",
            "regularization_factors, val_score: 0.021834:   0%|          | 0/20 [00:00<?, ?it/s]"
          ],
          "name": "stderr"
        },
        {
          "output_type": "stream",
          "text": [
            "Training until validation scores don't improve for 100 rounds.\n",
            "[100]\ttraining's binary_logloss: 0.0030644\tvalid_1's binary_logloss: 0.0575921\n",
            "[200]\ttraining's binary_logloss: 8.76545e-05\tvalid_1's binary_logloss: 0.034162\n",
            "[300]\ttraining's binary_logloss: 1.87075e-05\tvalid_1's binary_logloss: 0.03024\n",
            "Early stopping, best iteration is:\n",
            "[296]\ttraining's binary_logloss: 1.89141e-05\tvalid_1's binary_logloss: 0.0300949\n"
          ],
          "name": "stdout"
        },
        {
          "output_type": "stream",
          "text": [
            "\n",
            "\n",
            "regularization_factors, val_score: 0.021834:   0%|          | 0/20 [00:00<?, ?it/s]\n",
            "\n",
            "regularization_factors, val_score: 0.021834:   5%|5         | 1/20 [00:00<00:04,  3.89it/s][I 2020-09-25 20:19:24,274] Trial 43 finished with value: 0.030094858155253788 and parameters: {'lambda_l1': 0.0008731982540572535, 'lambda_l2': 7.897332493604594e-05}. Best is trial 43 with value: 0.030094858155253788.\n",
            "\n",
            "\n",
            "regularization_factors, val_score: 0.021834:   5%|5         | 1/20 [00:00<00:04,  3.89it/s]"
          ],
          "name": "stderr"
        },
        {
          "output_type": "stream",
          "text": [
            "Training until validation scores don't improve for 100 rounds.\n",
            "[100]\ttraining's binary_logloss: 0.0507405\tvalid_1's binary_logloss: 0.0803305\n",
            "[200]\ttraining's binary_logloss: 0.0242778\tvalid_1's binary_logloss: 0.0661005\n",
            "[300]\ttraining's binary_logloss: 0.0144863\tvalid_1's binary_logloss: 0.0588075\n",
            "[400]\ttraining's binary_logloss: 0.0103271\tvalid_1's binary_logloss: 0.0563181\n",
            "[500]\ttraining's binary_logloss: 0.00781299\tvalid_1's binary_logloss: 0.0555964\n",
            "Early stopping, best iteration is:\n",
            "[426]\ttraining's binary_logloss: 0.00947542\tvalid_1's binary_logloss: 0.0548009\n"
          ],
          "name": "stdout"
        },
        {
          "output_type": "stream",
          "text": [
            "\n",
            "\n",
            "regularization_factors, val_score: 0.021834:   5%|5         | 1/20 [00:00<00:04,  3.89it/s]\n",
            "\n",
            "regularization_factors, val_score: 0.021834:  10%|#         | 2/20 [00:00<00:05,  3.57it/s][I 2020-09-25 20:19:24,609] Trial 44 finished with value: 0.05480091709419451 and parameters: {'lambda_l1': 1.2199956423373624e-08, 'lambda_l2': 7.883570618133455}. Best is trial 43 with value: 0.030094858155253788.\n",
            "\n",
            "\n",
            "regularization_factors, val_score: 0.021834:  10%|#         | 2/20 [00:00<00:05,  3.57it/s]"
          ],
          "name": "stderr"
        },
        {
          "output_type": "stream",
          "text": [
            "Training until validation scores don't improve for 100 rounds.\n",
            "[100]\ttraining's binary_logloss: 0.138485\tvalid_1's binary_logloss: 0.146395\n",
            "Early stopping, best iteration is:\n",
            "[72]\ttraining's binary_logloss: 0.138485\tvalid_1's binary_logloss: 0.146395\n"
          ],
          "name": "stdout"
        },
        {
          "output_type": "stream",
          "text": [
            "\n",
            "\n",
            "regularization_factors, val_score: 0.021834:  10%|#         | 2/20 [00:00<00:05,  3.57it/s]\n",
            "\n",
            "regularization_factors, val_score: 0.021834:  15%|#5        | 3/20 [00:00<00:03,  4.40it/s][I 2020-09-25 20:19:24,713] Trial 45 finished with value: 0.14639488883410923 and parameters: {'lambda_l1': 8.467123412446385, 'lambda_l2': 1.7700455867455963e-08}. Best is trial 43 with value: 0.030094858155253788.\n",
            "\n",
            "\n",
            "regularization_factors, val_score: 0.021834:  15%|#5        | 3/20 [00:00<00:03,  4.40it/s]"
          ],
          "name": "stderr"
        },
        {
          "output_type": "stream",
          "text": [
            "Training until validation scores don't improve for 100 rounds.\n",
            "[100]\ttraining's binary_logloss: 0.0200164\tvalid_1's binary_logloss: 0.0660904\n",
            "[200]\ttraining's binary_logloss: 0.00710229\tvalid_1's binary_logloss: 0.0588722\n",
            "[300]\ttraining's binary_logloss: 0.00382494\tvalid_1's binary_logloss: 0.0535237\n",
            "[400]\ttraining's binary_logloss: 0.00260285\tvalid_1's binary_logloss: 0.0515005\n",
            "[500]\ttraining's binary_logloss: 0.00192007\tvalid_1's binary_logloss: 0.0507756\n",
            "[600]\ttraining's binary_logloss: 0.00153281\tvalid_1's binary_logloss: 0.049289\n",
            "[700]\ttraining's binary_logloss: 0.0012777\tvalid_1's binary_logloss: 0.0486433\n",
            "[800]\ttraining's binary_logloss: 0.00109388\tvalid_1's binary_logloss: 0.0477189\n",
            "[900]\ttraining's binary_logloss: 0.000955368\tvalid_1's binary_logloss: 0.046608\n",
            "[1000]\ttraining's binary_logloss: 0.000845643\tvalid_1's binary_logloss: 0.0457279\n",
            "Did not meet early stopping. Best iteration is:\n",
            "[1000]\ttraining's binary_logloss: 0.000845643\tvalid_1's binary_logloss: 0.0457279\n"
          ],
          "name": "stdout"
        },
        {
          "output_type": "stream",
          "text": [
            "\n",
            "\n",
            "regularization_factors, val_score: 0.021834:  15%|#5        | 3/20 [00:01<00:03,  4.40it/s]\n",
            "\n",
            "regularization_factors, val_score: 0.021834:  20%|##        | 4/20 [00:01<00:05,  2.96it/s][I 2020-09-25 20:19:25,307] Trial 46 finished with value: 0.04572786333592491 and parameters: {'lambda_l1': 1.983478871329277e-08, 'lambda_l2': 1.8273653220867947}. Best is trial 43 with value: 0.030094858155253788.\n",
            "\n",
            "\n",
            "regularization_factors, val_score: 0.021834:  20%|##        | 4/20 [00:01<00:05,  2.96it/s]"
          ],
          "name": "stderr"
        },
        {
          "output_type": "stream",
          "text": [
            "Training until validation scores don't improve for 100 rounds.\n",
            "[100]\ttraining's binary_logloss: 0.142545\tvalid_1's binary_logloss: 0.149856\n",
            "Early stopping, best iteration is:\n",
            "[72]\ttraining's binary_logloss: 0.142545\tvalid_1's binary_logloss: 0.149856\n"
          ],
          "name": "stdout"
        },
        {
          "output_type": "stream",
          "text": [
            "\n",
            "\n",
            "regularization_factors, val_score: 0.021834:  20%|##        | 4/20 [00:01<00:05,  2.96it/s]\n",
            "\n",
            "regularization_factors, val_score: 0.021834:  25%|##5       | 5/20 [00:01<00:03,  3.75it/s][I 2020-09-25 20:19:25,408] Trial 47 finished with value: 0.14985646920808515 and parameters: {'lambda_l1': 8.818044966092554, 'lambda_l2': 1.7816142337718486e-08}. Best is trial 43 with value: 0.030094858155253788.\n",
            "\n",
            "\n",
            "regularization_factors, val_score: 0.021834:  25%|##5       | 5/20 [00:01<00:03,  3.75it/s]"
          ],
          "name": "stderr"
        },
        {
          "output_type": "stream",
          "text": [
            "Training until validation scores don't improve for 100 rounds.\n",
            "[100]\ttraining's binary_logloss: 0.00297598\tvalid_1's binary_logloss: 0.0531897\n",
            "[200]\ttraining's binary_logloss: 8.76222e-05\tvalid_1's binary_logloss: 0.0285643\n",
            "[300]\ttraining's binary_logloss: 1.55595e-05\tvalid_1's binary_logloss: 0.0258523\n",
            "Early stopping, best iteration is:\n",
            "[264]\ttraining's binary_logloss: 2.18147e-05\tvalid_1's binary_logloss: 0.0240689\n"
          ],
          "name": "stdout"
        },
        {
          "output_type": "stream",
          "text": [
            "\n",
            "\n",
            "regularization_factors, val_score: 0.021834:  25%|##5       | 5/20 [00:01<00:03,  3.75it/s]\n",
            "\n",
            "regularization_factors, val_score: 0.021834:  30%|###       | 6/20 [00:01<00:03,  3.83it/s][I 2020-09-25 20:19:25,657] Trial 48 finished with value: 0.024068912772357398 and parameters: {'lambda_l1': 6.979605073689108e-05, 'lambda_l2': 0.0016084022571776278}. Best is trial 48 with value: 0.024068912772357398.\n",
            "\n",
            "\n",
            "regularization_factors, val_score: 0.021834:  30%|###       | 6/20 [00:01<00:03,  3.83it/s]"
          ],
          "name": "stderr"
        },
        {
          "output_type": "stream",
          "text": [
            "Training until validation scores don't improve for 100 rounds.\n",
            "[100]\ttraining's binary_logloss: 0.00302753\tvalid_1's binary_logloss: 0.0527158\n",
            "[200]\ttraining's binary_logloss: 8.71911e-05\tvalid_1's binary_logloss: 0.0408974\n",
            "[300]\ttraining's binary_logloss: 1.53425e-05\tvalid_1's binary_logloss: 0.0370559\n",
            "[400]\ttraining's binary_logloss: 1.02169e-05\tvalid_1's binary_logloss: 0.0331699\n",
            "[500]\ttraining's binary_logloss: 8.51015e-06\tvalid_1's binary_logloss: 0.0351602\n",
            "Early stopping, best iteration is:\n",
            "[425]\ttraining's binary_logloss: 9.64049e-06\tvalid_1's binary_logloss: 0.0328797\n"
          ],
          "name": "stdout"
        },
        {
          "output_type": "stream",
          "text": [
            "\n",
            "\n",
            "regularization_factors, val_score: 0.021834:  30%|###       | 6/20 [00:01<00:03,  3.83it/s]\n",
            "\n",
            "regularization_factors, val_score: 0.021834:  35%|###5      | 7/20 [00:01<00:03,  3.68it/s][I 2020-09-25 20:19:25,950] Trial 49 finished with value: 0.03287974672258695 and parameters: {'lambda_l1': 8.010388126425309e-05, 'lambda_l2': 0.0014394860584474747}. Best is trial 48 with value: 0.024068912772357398.\n",
            "\n",
            "\n",
            "regularization_factors, val_score: 0.021834:  35%|###5      | 7/20 [00:01<00:03,  3.68it/s]"
          ],
          "name": "stderr"
        },
        {
          "output_type": "stream",
          "text": [
            "Training until validation scores don't improve for 100 rounds.\n",
            "[100]\ttraining's binary_logloss: 0.00306199\tvalid_1's binary_logloss: 0.0522382\n",
            "[200]\ttraining's binary_logloss: 8.69932e-05\tvalid_1's binary_logloss: 0.0315124\n",
            "[300]\ttraining's binary_logloss: 1.3573e-05\tvalid_1's binary_logloss: 0.0307394\n",
            "Early stopping, best iteration is:\n",
            "[224]\ttraining's binary_logloss: 4.14353e-05\tvalid_1's binary_logloss: 0.0282643\n"
          ],
          "name": "stdout"
        },
        {
          "output_type": "stream",
          "text": [
            "\n",
            "\n",
            "regularization_factors, val_score: 0.021834:  35%|###5      | 7/20 [00:02<00:03,  3.68it/s]\n",
            "\n",
            "regularization_factors, val_score: 0.021834:  40%|####      | 8/20 [00:02<00:03,  3.88it/s][I 2020-09-25 20:19:26,175] Trial 50 finished with value: 0.02826431291152942 and parameters: {'lambda_l1': 8.894883513848772e-05, 'lambda_l2': 0.0009270509646797789}. Best is trial 48 with value: 0.024068912772357398.\n",
            "\n",
            "\n",
            "regularization_factors, val_score: 0.021834:  40%|####      | 8/20 [00:02<00:03,  3.88it/s]"
          ],
          "name": "stderr"
        },
        {
          "output_type": "stream",
          "text": [
            "Training until validation scores don't improve for 100 rounds.\n",
            "[100]\ttraining's binary_logloss: 0.00321671\tvalid_1's binary_logloss: 0.0508075\n",
            "[200]\ttraining's binary_logloss: 0.000331353\tvalid_1's binary_logloss: 0.0514234\n",
            "Early stopping, best iteration is:\n",
            "[127]\ttraining's binary_logloss: 0.00123245\tvalid_1's binary_logloss: 0.0420346\n"
          ],
          "name": "stdout"
        },
        {
          "output_type": "stream",
          "text": [
            "\n",
            "\n",
            "regularization_factors, val_score: 0.021834:  40%|####      | 8/20 [00:02<00:03,  3.88it/s]\n",
            "\n",
            "regularization_factors, val_score: 0.021834:  45%|####5     | 9/20 [00:02<00:02,  4.30it/s][I 2020-09-25 20:19:26,349] Trial 51 finished with value: 0.042034644736521055 and parameters: {'lambda_l1': 0.012381500752840415, 'lambda_l2': 7.604461746618379e-06}. Best is trial 48 with value: 0.024068912772357398.\n",
            "\n",
            "\n",
            "regularization_factors, val_score: 0.021834:  45%|####5     | 9/20 [00:02<00:02,  4.30it/s]"
          ],
          "name": "stderr"
        },
        {
          "output_type": "stream",
          "text": [
            "Training until validation scores don't improve for 100 rounds.\n",
            "[100]\ttraining's binary_logloss: 0.00548805\tvalid_1's binary_logloss: 0.0517712\n",
            "[200]\ttraining's binary_logloss: 0.000886912\tvalid_1's binary_logloss: 0.0419101\n",
            "[300]\ttraining's binary_logloss: 0.000355631\tvalid_1's binary_logloss: 0.0378833\n",
            "[400]\ttraining's binary_logloss: 0.000226577\tvalid_1's binary_logloss: 0.0386823\n",
            "Early stopping, best iteration is:\n",
            "[376]\ttraining's binary_logloss: 0.000250649\tvalid_1's binary_logloss: 0.037843\n"
          ],
          "name": "stdout"
        },
        {
          "output_type": "stream",
          "text": [
            "\n",
            "\n",
            "regularization_factors, val_score: 0.021834:  45%|####5     | 9/20 [00:02<00:02,  4.30it/s]\n",
            "\n",
            "regularization_factors, val_score: 0.021834:  50%|#####     | 10/20 [00:02<00:02,  3.99it/s][I 2020-09-25 20:19:26,642] Trial 52 finished with value: 0.0378429717767408 and parameters: {'lambda_l1': 6.088816001956308e-07, 'lambda_l2': 0.12259430193707885}. Best is trial 48 with value: 0.024068912772357398.\n",
            "\n",
            "\n",
            "regularization_factors, val_score: 0.021834:  50%|#####     | 10/20 [00:02<00:02,  3.99it/s]"
          ],
          "name": "stderr"
        },
        {
          "output_type": "stream",
          "text": [
            "Training until validation scores don't improve for 100 rounds.\n",
            "[100]\ttraining's binary_logloss: 0.00276977\tvalid_1's binary_logloss: 0.0406199\n",
            "[200]\ttraining's binary_logloss: 6.93891e-05\tvalid_1's binary_logloss: 0.030864\n",
            "[300]\ttraining's binary_logloss: 9.06377e-06\tvalid_1's binary_logloss: 0.028262\n",
            "[400]\ttraining's binary_logloss: 7.24311e-06\tvalid_1's binary_logloss: 0.0283128\n",
            "Early stopping, best iteration is:\n",
            "[334]\ttraining's binary_logloss: 7.78092e-06\tvalid_1's binary_logloss: 0.0264238\n"
          ],
          "name": "stdout"
        },
        {
          "output_type": "stream",
          "text": [
            "\n",
            "\n",
            "regularization_factors, val_score: 0.021834:  50%|#####     | 10/20 [00:02<00:02,  3.99it/s]\n",
            "\n",
            "regularization_factors, val_score: 0.021834:  55%|#####5    | 11/20 [00:02<00:02,  3.96it/s][I 2020-09-25 20:19:26,900] Trial 53 finished with value: 0.02642383979618434 and parameters: {'lambda_l1': 1.3378510255003104e-06, 'lambda_l2': 9.82986535586421e-07}. Best is trial 48 with value: 0.024068912772357398.\n",
            "\n",
            "\n",
            "regularization_factors, val_score: 0.021834:  55%|#####5    | 11/20 [00:02<00:02,  3.96it/s]"
          ],
          "name": "stderr"
        },
        {
          "output_type": "stream",
          "text": [
            "Training until validation scores don't improve for 100 rounds.\n",
            "[100]\ttraining's binary_logloss: 0.00514915\tvalid_1's binary_logloss: 0.0426195\n",
            "[200]\ttraining's binary_logloss: 0.00124316\tvalid_1's binary_logloss: 0.0381014\n",
            "Early stopping, best iteration is:\n",
            "[127]\ttraining's binary_logloss: 0.00271425\tvalid_1's binary_logloss: 0.0359557\n"
          ],
          "name": "stdout"
        },
        {
          "output_type": "stream",
          "text": [
            "\n",
            "\n",
            "regularization_factors, val_score: 0.021834:  55%|#####5    | 11/20 [00:03<00:02,  3.96it/s]\n",
            "\n",
            "regularization_factors, val_score: 0.021834:  60%|######    | 12/20 [00:03<00:01,  4.39it/s][I 2020-09-25 20:19:27,069] Trial 54 finished with value: 0.03595574772076811 and parameters: {'lambda_l1': 0.055036353077870276, 'lambda_l2': 0.0326286309940381}. Best is trial 48 with value: 0.024068912772357398.\n",
            "\n",
            "\n",
            "regularization_factors, val_score: 0.021834:  60%|######    | 12/20 [00:03<00:01,  4.39it/s]"
          ],
          "name": "stderr"
        },
        {
          "output_type": "stream",
          "text": [
            "Training until validation scores don't improve for 100 rounds.\n",
            "[100]\ttraining's binary_logloss: 0.00345146\tvalid_1's binary_logloss: 0.050803\n",
            "[200]\ttraining's binary_logloss: 0.000293166\tvalid_1's binary_logloss: 0.0467147\n",
            "[300]\ttraining's binary_logloss: 9.28943e-05\tvalid_1's binary_logloss: 0.0416081\n",
            "[400]\ttraining's binary_logloss: 5.38135e-05\tvalid_1's binary_logloss: 0.0400591\n",
            "[500]\ttraining's binary_logloss: 3.69999e-05\tvalid_1's binary_logloss: 0.0419779\n",
            "Early stopping, best iteration is:\n",
            "[425]\ttraining's binary_logloss: 4.77092e-05\tvalid_1's binary_logloss: 0.0397076\n"
          ],
          "name": "stdout"
        },
        {
          "output_type": "stream",
          "text": [
            "\n",
            "\n",
            "regularization_factors, val_score: 0.021834:  60%|######    | 12/20 [00:03<00:01,  4.39it/s]\n",
            "\n",
            "regularization_factors, val_score: 0.021834:  65%|######5   | 13/20 [00:03<00:01,  3.86it/s][I 2020-09-25 20:19:27,401] Trial 55 finished with value: 0.03970758948154562 and parameters: {'lambda_l1': 8.578430431506306e-07, 'lambda_l2': 0.024569996975303213}. Best is trial 48 with value: 0.024068912772357398.\n",
            "\n",
            "\n",
            "regularization_factors, val_score: 0.021834:  65%|######5   | 13/20 [00:03<00:01,  3.86it/s]"
          ],
          "name": "stderr"
        },
        {
          "output_type": "stream",
          "text": [
            "Training until validation scores don't improve for 100 rounds.\n",
            "[100]\ttraining's binary_logloss: 0.00499896\tvalid_1's binary_logloss: 0.0476059\n",
            "[200]\ttraining's binary_logloss: 0.001578\tvalid_1's binary_logloss: 0.0431172\n",
            "Early stopping, best iteration is:\n",
            "[126]\ttraining's binary_logloss: 0.00290234\tvalid_1's binary_logloss: 0.0418633\n"
          ],
          "name": "stdout"
        },
        {
          "output_type": "stream",
          "text": [
            "\n",
            "\n",
            "regularization_factors, val_score: 0.021834:  65%|######5   | 13/20 [00:03<00:01,  3.86it/s]\n",
            "\n",
            "regularization_factors, val_score: 0.021834:  70%|#######   | 14/20 [00:03<00:01,  4.39it/s][I 2020-09-25 20:19:27,556] Trial 56 finished with value: 0.04186326654851253 and parameters: {'lambda_l1': 0.08209721381831867, 'lambda_l2': 1.600463250225436e-06}. Best is trial 48 with value: 0.024068912772357398.\n",
            "\n",
            "\n",
            "regularization_factors, val_score: 0.021834:  70%|#######   | 14/20 [00:03<00:01,  4.39it/s]"
          ],
          "name": "stderr"
        },
        {
          "output_type": "stream",
          "text": [
            "Training until validation scores don't improve for 100 rounds.\n",
            "[100]\ttraining's binary_logloss: 0.00280475\tvalid_1's binary_logloss: 0.0436643\n",
            "[200]\ttraining's binary_logloss: 8.25489e-05\tvalid_1's binary_logloss: 0.0247374\n",
            "Early stopping, best iteration is:\n",
            "[198]\ttraining's binary_logloss: 8.66996e-05\tvalid_1's binary_logloss: 0.0240633\n"
          ],
          "name": "stdout"
        },
        {
          "output_type": "stream",
          "text": [
            "\n",
            "\n",
            "regularization_factors, val_score: 0.021834:  70%|#######   | 14/20 [00:03<00:01,  4.39it/s]\n",
            "\n",
            "regularization_factors, val_score: 0.021834:  75%|#######5  | 15/20 [00:03<00:01,  4.45it/s][I 2020-09-25 20:19:27,773] Trial 57 finished with value: 0.02406332880013594 and parameters: {'lambda_l1': 8.378886043846624e-06, 'lambda_l2': 5.1829209167705605e-05}. Best is trial 57 with value: 0.02406332880013594.\n",
            "\n",
            "\n",
            "regularization_factors, val_score: 0.021834:  75%|#######5  | 15/20 [00:03<00:01,  4.45it/s]"
          ],
          "name": "stderr"
        },
        {
          "output_type": "stream",
          "text": [
            "Training until validation scores don't improve for 100 rounds.\n",
            "[100]\ttraining's binary_logloss: 0.00279907\tvalid_1's binary_logloss: 0.0484127\n",
            "[200]\ttraining's binary_logloss: 6.21145e-05\tvalid_1's binary_logloss: 0.0456899\n",
            "Early stopping, best iteration is:\n",
            "[126]\ttraining's binary_logloss: 0.000904302\tvalid_1's binary_logloss: 0.0399799\n"
          ],
          "name": "stdout"
        },
        {
          "output_type": "stream",
          "text": [
            "\n",
            "\n",
            "regularization_factors, val_score: 0.021834:  75%|#######5  | 15/20 [00:03<00:01,  4.45it/s]\n",
            "\n",
            "regularization_factors, val_score: 0.021834:  80%|########  | 16/20 [00:03<00:00,  4.53it/s][I 2020-09-25 20:19:27,986] Trial 58 finished with value: 0.039979944156401874 and parameters: {'lambda_l1': 9.433808356676002e-06, 'lambda_l2': 8.00208311977323e-05}. Best is trial 57 with value: 0.02406332880013594.\n",
            "\n",
            "\n",
            "regularization_factors, val_score: 0.021834:  80%|########  | 16/20 [00:03<00:00,  4.53it/s]"
          ],
          "name": "stderr"
        },
        {
          "output_type": "stream",
          "text": [
            "Training until validation scores don't improve for 100 rounds.\n",
            "[100]\ttraining's binary_logloss: 0.00292282\tvalid_1's binary_logloss: 0.050614\n",
            "[200]\ttraining's binary_logloss: 0.000110811\tvalid_1's binary_logloss: 0.0406374\n",
            "[300]\ttraining's binary_logloss: 2.82049e-05\tvalid_1's binary_logloss: 0.0367065\n",
            "[400]\ttraining's binary_logloss: 2.01108e-05\tvalid_1's binary_logloss: 0.0331675\n",
            "Early stopping, best iteration is:\n",
            "[378]\ttraining's binary_logloss: 2.11421e-05\tvalid_1's binary_logloss: 0.0329419\n"
          ],
          "name": "stdout"
        },
        {
          "output_type": "stream",
          "text": [
            "\n",
            "\n",
            "regularization_factors, val_score: 0.021834:  80%|########  | 16/20 [00:04<00:00,  4.53it/s]\n",
            "\n",
            "regularization_factors, val_score: 0.021834:  85%|########5 | 17/20 [00:04<00:00,  4.12it/s][I 2020-09-25 20:19:28,279] Trial 59 finished with value: 0.032941910361684666 and parameters: {'lambda_l1': 0.0007904913495081812, 'lambda_l2': 0.0026694881676530527}. Best is trial 57 with value: 0.02406332880013594.\n",
            "\n",
            "\n",
            "regularization_factors, val_score: 0.021834:  85%|########5 | 17/20 [00:04<00:00,  4.12it/s]"
          ],
          "name": "stderr"
        },
        {
          "output_type": "stream",
          "text": [
            "Training until validation scores don't improve for 100 rounds.\n",
            "[100]\ttraining's binary_logloss: 0.00280145\tvalid_1's binary_logloss: 0.0436544\n",
            "[200]\ttraining's binary_logloss: 6.56198e-05\tvalid_1's binary_logloss: 0.0308172\n",
            "[300]\ttraining's binary_logloss: 8.81915e-06\tvalid_1's binary_logloss: 0.0330182\n",
            "Early stopping, best iteration is:\n",
            "[224]\ttraining's binary_logloss: 2.59506e-05\tvalid_1's binary_logloss: 0.0268563\n"
          ],
          "name": "stdout"
        },
        {
          "output_type": "stream",
          "text": [
            "\n",
            "\n",
            "regularization_factors, val_score: 0.021834:  85%|########5 | 17/20 [00:04<00:00,  4.12it/s]\n",
            "\n",
            "regularization_factors, val_score: 0.021834:  90%|######### | 18/20 [00:04<00:00,  4.20it/s][I 2020-09-25 20:19:28,507] Trial 60 finished with value: 0.026856335531748404 and parameters: {'lambda_l1': 1.0855192898664007e-05, 'lambda_l2': 2.1282915100519138e-05}. Best is trial 57 with value: 0.02406332880013594.\n",
            "\n",
            "\n",
            "regularization_factors, val_score: 0.021834:  90%|######### | 18/20 [00:04<00:00,  4.20it/s]"
          ],
          "name": "stderr"
        },
        {
          "output_type": "stream",
          "text": [
            "Training until validation scores don't improve for 100 rounds.\n",
            "[100]\ttraining's binary_logloss: 0.00276919\tvalid_1's binary_logloss: 0.0406212\n",
            "[200]\ttraining's binary_logloss: 7.82272e-05\tvalid_1's binary_logloss: 0.0264745\n",
            "[300]\ttraining's binary_logloss: 8.92258e-06\tvalid_1's binary_logloss: 0.0246431\n",
            "Early stopping, best iteration is:\n",
            "[226]\ttraining's binary_logloss: 2.42965e-05\tvalid_1's binary_logloss: 0.0233481\n"
          ],
          "name": "stdout"
        },
        {
          "output_type": "stream",
          "text": [
            "\n",
            "\n",
            "regularization_factors, val_score: 0.021834:  90%|######### | 18/20 [00:04<00:00,  4.20it/s]\n",
            "\n",
            "regularization_factors, val_score: 0.021834:  95%|#########5| 19/20 [00:04<00:00,  4.21it/s][I 2020-09-25 20:19:28,743] Trial 61 finished with value: 0.02334810712364034 and parameters: {'lambda_l1': 9.671789927983337e-08, 'lambda_l2': 1.029648381039035e-06}. Best is trial 61 with value: 0.02334810712364034.\n",
            "\n",
            "\n",
            "regularization_factors, val_score: 0.021834:  95%|#########5| 19/20 [00:04<00:00,  4.21it/s]"
          ],
          "name": "stderr"
        },
        {
          "output_type": "stream",
          "text": [
            "Training until validation scores don't improve for 100 rounds.\n",
            "[100]\ttraining's binary_logloss: 0.00276943\tvalid_1's binary_logloss: 0.0406271\n",
            "[200]\ttraining's binary_logloss: 8.13331e-05\tvalid_1's binary_logloss: 0.029691\n",
            "[300]\ttraining's binary_logloss: 8.93954e-06\tvalid_1's binary_logloss: 0.0268767\n",
            "Early stopping, best iteration is:\n",
            "[228]\ttraining's binary_logloss: 2.29767e-05\tvalid_1's binary_logloss: 0.0239157\n"
          ],
          "name": "stdout"
        },
        {
          "output_type": "stream",
          "text": [
            "\n",
            "\n",
            "regularization_factors, val_score: 0.021834:  95%|#########5| 19/20 [00:04<00:00,  4.21it/s]\n",
            "\n",
            "regularization_factors, val_score: 0.021834: 100%|##########| 20/20 [00:04<00:00,  4.18it/s][I 2020-09-25 20:19:28,994] Trial 62 finished with value: 0.023915731974743837 and parameters: {'lambda_l1': 4.4535306402867464e-08, 'lambda_l2': 1.7111794036696837e-07}. Best is trial 61 with value: 0.02334810712364034.\n",
            "regularization_factors, val_score: 0.021834: 100%|##########| 20/20 [00:04<00:00,  4.01it/s]\n",
            "\n",
            "\n",
            "  0%|          | 0/5 [00:00<?, ?it/s]\n",
            "\n",
            "min_data_in_leaf, val_score: 0.021834:   0%|          | 0/5 [00:00<?, ?it/s]"
          ],
          "name": "stderr"
        },
        {
          "output_type": "stream",
          "text": [
            "Training until validation scores don't improve for 100 rounds.\n",
            "[100]\ttraining's binary_logloss: 0.00134583\tvalid_1's binary_logloss: 0.0350676\n",
            "Early stopping, best iteration is:\n",
            "[82]\ttraining's binary_logloss: 0.0030284\tvalid_1's binary_logloss: 0.02948\n"
          ],
          "name": "stdout"
        },
        {
          "output_type": "stream",
          "text": [
            "\n",
            "\n",
            "min_data_in_leaf, val_score: 0.021834:   0%|          | 0/5 [00:00<?, ?it/s]\n",
            "\n",
            "min_data_in_leaf, val_score: 0.021834:  20%|##        | 1/5 [00:00<00:01,  3.78it/s][I 2020-09-25 20:19:29,271] Trial 63 finished with value: 0.02947996065578523 and parameters: {'min_child_samples': 10}. Best is trial 63 with value: 0.02947996065578523.\n",
            "\n",
            "\n",
            "min_data_in_leaf, val_score: 0.021834:  20%|##        | 1/5 [00:00<00:01,  3.78it/s]"
          ],
          "name": "stderr"
        },
        {
          "output_type": "stream",
          "text": [
            "Training until validation scores don't improve for 100 rounds.\n",
            "[100]\ttraining's binary_logloss: 0.00427182\tvalid_1's binary_logloss: 0.0554671\n",
            "[200]\ttraining's binary_logloss: 0.000114588\tvalid_1's binary_logloss: 0.0537862\n",
            "Early stopping, best iteration is:\n",
            "[132]\ttraining's binary_logloss: 0.00119759\tvalid_1's binary_logloss: 0.040164\n"
          ],
          "name": "stdout"
        },
        {
          "output_type": "stream",
          "text": [
            "\n",
            "\n",
            "min_data_in_leaf, val_score: 0.021834:  20%|##        | 1/5 [00:00<00:01,  3.78it/s]\n",
            "\n",
            "min_data_in_leaf, val_score: 0.021834:  40%|####      | 2/5 [00:00<00:00,  3.99it/s][I 2020-09-25 20:19:29,493] Trial 64 finished with value: 0.040164029376599145 and parameters: {'min_child_samples': 25}. Best is trial 63 with value: 0.02947996065578523.\n",
            "\n",
            "\n",
            "min_data_in_leaf, val_score: 0.021834:  40%|####      | 2/5 [00:00<00:00,  3.99it/s]"
          ],
          "name": "stderr"
        },
        {
          "output_type": "stream",
          "text": [
            "Training until validation scores don't improve for 100 rounds.\n",
            "[100]\ttraining's binary_logloss: 0.0138175\tvalid_1's binary_logloss: 0.0471443\n",
            "[200]\ttraining's binary_logloss: 0.00132713\tvalid_1's binary_logloss: 0.036955\n",
            "[300]\ttraining's binary_logloss: 0.000116173\tvalid_1's binary_logloss: 0.0350676\n",
            "Early stopping, best iteration is:\n",
            "[225]\ttraining's binary_logloss: 0.00063945\tvalid_1's binary_logloss: 0.0315873\n"
          ],
          "name": "stdout"
        },
        {
          "output_type": "stream",
          "text": [
            "\n",
            "\n",
            "min_data_in_leaf, val_score: 0.021834:  40%|####      | 2/5 [00:00<00:00,  3.99it/s]\n",
            "\n",
            "min_data_in_leaf, val_score: 0.021834:  60%|######    | 3/5 [00:00<00:00,  4.15it/s][I 2020-09-25 20:19:29,712] Trial 65 finished with value: 0.03158725564169332 and parameters: {'min_child_samples': 50}. Best is trial 63 with value: 0.02947996065578523.\n",
            "\n",
            "\n",
            "min_data_in_leaf, val_score: 0.021834:  60%|######    | 3/5 [00:00<00:00,  4.15it/s]"
          ],
          "name": "stderr"
        },
        {
          "output_type": "stream",
          "text": [
            "Training until validation scores don't improve for 100 rounds.\n",
            "[100]\ttraining's binary_logloss: 0.0707136\tvalid_1's binary_logloss: 0.0869211\n",
            "[200]\ttraining's binary_logloss: 0.0420665\tvalid_1's binary_logloss: 0.064178\n",
            "[300]\ttraining's binary_logloss: 0.0245632\tvalid_1's binary_logloss: 0.0542225\n",
            "[400]\ttraining's binary_logloss: 0.0142281\tvalid_1's binary_logloss: 0.0468861\n",
            "[500]\ttraining's binary_logloss: 0.00918518\tvalid_1's binary_logloss: 0.0514939\n",
            "Early stopping, best iteration is:\n",
            "[449]\ttraining's binary_logloss: 0.0116312\tvalid_1's binary_logloss: 0.0444108\n"
          ],
          "name": "stdout"
        },
        {
          "output_type": "stream",
          "text": [
            "\n",
            "\n",
            "min_data_in_leaf, val_score: 0.021834:  60%|######    | 3/5 [00:00<00:00,  4.15it/s]\n",
            "\n",
            "min_data_in_leaf, val_score: 0.021834:  80%|########  | 4/5 [00:00<00:00,  4.44it/s][I 2020-09-25 20:19:29,902] Trial 66 finished with value: 0.04441080673337173 and parameters: {'min_child_samples': 100}. Best is trial 63 with value: 0.02947996065578523.\n",
            "\n",
            "\n",
            "min_data_in_leaf, val_score: 0.021834:  80%|########  | 4/5 [00:00<00:00,  4.44it/s]"
          ],
          "name": "stderr"
        },
        {
          "output_type": "stream",
          "text": [
            "Training until validation scores don't improve for 100 rounds.\n",
            "[100]\ttraining's binary_logloss: 0.00082007\tvalid_1's binary_logloss: 0.0883924\n",
            "Early stopping, best iteration is:\n",
            "[72]\ttraining's binary_logloss: 0.00343954\tvalid_1's binary_logloss: 0.068866\n"
          ],
          "name": "stdout"
        },
        {
          "output_type": "stream",
          "text": [
            "\n",
            "\n",
            "min_data_in_leaf, val_score: 0.021834:  80%|########  | 4/5 [00:01<00:00,  4.44it/s]\n",
            "\n",
            "min_data_in_leaf, val_score: 0.021834: 100%|##########| 5/5 [00:01<00:00,  3.83it/s][I 2020-09-25 20:19:30,244] Trial 67 finished with value: 0.06886599294408094 and parameters: {'min_child_samples': 5}. Best is trial 63 with value: 0.02947996065578523.\n",
            "min_data_in_leaf, val_score: 0.021834: 100%|##########| 5/5 [00:01<00:00,  4.02it/s]\n"
          ],
          "name": "stderr"
        }
      ]
    },
    {
      "cell_type": "code",
      "metadata": {
        "id": "nt5NeGpB6iOw"
      },
      "source": [
        "prediction = np.rint(model.predict(val_x, num_iteration= model.best_iteration))\n",
        "accuracy= accuracy_score(val_y, prediction)"
      ],
      "execution_count": 20,
      "outputs": []
    },
    {
      "cell_type": "code",
      "metadata": {
        "id": "1M_q486q7b_T",
        "outputId": "8a802572-b879-4f23-a127-f589da9768b7",
        "colab": {
          "base_uri": "https://localhost:8080/",
          "height": 301
        }
      },
      "source": [
        "best_params = model.params\n",
        "print(\"best_params\", best_params)\n",
        "print(\"  Accuracy = {}\".format(accuracy))\n",
        "print(\"  Params: \")\n",
        "for key, value in best_params.items():\n",
        "  print(\"    {}: {}\".format(key, value))"
      ],
      "execution_count": 22,
      "outputs": [
        {
          "output_type": "stream",
          "text": [
            "best_params {'objective': 'binary', 'metric': 'binary_logloss', 'verbosity': -1, 'boosting_type': 'gbdt', 'feature_pre_filter': False, 'lambda_l1': 0.0, 'lambda_l2': 0.0, 'num_leaves': 31, 'feature_fraction': 0.8999999999999999, 'bagging_fraction': 0.6979027059497622, 'bagging_freq': 6, 'min_child_samples': 20}\n",
            "  Accuracy = 0.986013986013986\n",
            "  Params: \n",
            "    objective: binary\n",
            "    metric: binary_logloss\n",
            "    verbosity: -1\n",
            "    boosting_type: gbdt\n",
            "    feature_pre_filter: False\n",
            "    lambda_l1: 0.0\n",
            "    lambda_l2: 0.0\n",
            "    num_leaves: 31\n",
            "    feature_fraction: 0.8999999999999999\n",
            "    bagging_fraction: 0.6979027059497622\n",
            "    bagging_freq: 6\n",
            "    min_child_samples: 20\n"
          ],
          "name": "stdout"
        }
      ]
    },
    {
      "cell_type": "code",
      "metadata": {
        "id": "BnE_qhTJ739n"
      },
      "source": [
        ""
      ],
      "execution_count": null,
      "outputs": []
    }
  ]
}